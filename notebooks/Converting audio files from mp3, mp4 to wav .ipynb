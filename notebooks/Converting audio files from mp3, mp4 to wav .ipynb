{
 "cells": [
  {
   "cell_type": "markdown",
   "metadata": {},
   "source": [
    "## Converting Mp3 to wav format\n",
    "\n",
    "This notebook has written in R-language. To run this notebbok you need to select R-Kernel"
   ]
  },
  {
   "cell_type": "code",
   "execution_count": 1,
   "metadata": {},
   "outputs": [
    {
     "name": "stderr",
     "output_type": "stream",
     "text": [
      "Warning message:\n",
      "\"package 'tuneR' was built under R version 3.6.3\""
     ]
    }
   ],
   "source": [
    "library(tuneR)"
   ]
  },
  {
   "cell_type": "code",
   "execution_count": 3,
   "metadata": {},
   "outputs": [
    {
     "data": {
      "text/html": [
       "189"
      ],
      "text/latex": [
       "189"
      ],
      "text/markdown": [
       "189"
      ],
      "text/plain": [
       "[1] 189"
      ]
     },
     "metadata": {},
     "output_type": "display_data"
    }
   ],
   "source": [
    "# reading data from a folder \n",
    "file_list <- list.files(path = \"./Deezer Data/artist/mp3/\", pattern = NULL, all.files = FALSE,\n",
    "           full.names = FALSE, recursive = FALSE,\n",
    "           ignore.case = FALSE, include.dirs = FALSE, no.. = FALSE)\n",
    "length(file_list)"
   ]
  },
  {
   "cell_type": "code",
   "execution_count": 4,
   "metadata": {},
   "outputs": [],
   "source": [
    "# converting mp3 to wav\n",
    "for (file in file_list){\n",
    "    src <- paste('./Deezer Data/artist/mp3/', file, sep='')\n",
    "    desc <- paste('./Deezer Data/artist/wav/', substr(file, 1 , nchar(file)-4), '.wav', sep='')\n",
    "    r <- readMP3(src)  ## MP3 file in working directory\n",
    "    writeWave(r,desc,extensible=FALSE)\n",
    "}"
   ]
  },
  {
   "cell_type": "code",
   "execution_count": 5,
   "metadata": {},
   "outputs": [
    {
     "data": {
      "text/html": [
       "189"
      ],
      "text/latex": [
       "189"
      ],
      "text/markdown": [
       "189"
      ],
      "text/plain": [
       "[1] 189"
      ]
     },
     "metadata": {},
     "output_type": "display_data"
    }
   ],
   "source": [
    "# read the file in wav folder and display count\n",
    "file_list_wav <- list.files(path = \"./Deezer Data/artist/mp3/\", pattern = NULL, all.files = FALSE,\n",
    "           full.names = FALSE, recursive = FALSE,\n",
    "           ignore.case = FALSE, include.dirs = FALSE, no.. = FALSE)\n",
    "length(file_list_wav)"
   ]
  },
  {
   "cell_type": "markdown",
   "metadata": {},
   "source": [
    "## Converting Mp4 to wav"
   ]
  },
  {
   "cell_type": "code",
   "execution_count": 2,
   "metadata": {},
   "outputs": [],
   "source": [
    "#install.packages(\"av\")\n",
    "library(av)"
   ]
  },
  {
   "cell_type": "markdown",
   "metadata": {},
   "source": [
    "### JioSaaven - English"
   ]
  },
  {
   "cell_type": "markdown",
   "metadata": {},
   "source": [
    "### Genre: Converting mp4 to wav format  "
   ]
  },
  {
   "cell_type": "code",
   "execution_count": 14,
   "metadata": {},
   "outputs": [
    {
     "data": {
      "text/html": [
       "85"
      ],
      "text/latex": [
       "85"
      ],
      "text/markdown": [
       "85"
      ],
      "text/plain": [
       "[1] 85"
      ]
     },
     "metadata": {},
     "output_type": "display_data"
    }
   ],
   "source": [
    "# reading data from a folder \n",
    "file_list <- list.files(path = \"./JioSavan Data/English/genre/mp4/\", pattern = NULL, all.files = FALSE,\n",
    "           full.names = FALSE, recursive = FALSE,\n",
    "           ignore.case = FALSE, include.dirs = FALSE, no.. = FALSE)\n",
    "length(file_list)"
   ]
  },
  {
   "cell_type": "code",
   "execution_count": 15,
   "metadata": {},
   "outputs": [
    {
     "name": "stdout",
     "output_type": "stream",
     "text": [
      "Error : FFMPEG error in 'avcodec_send_packet (audio)': Invalid data found when processing input\n"
     ]
    }
   ],
   "source": [
    "# converting mp3 to wav\n",
    "for (file in file_list){\n",
    "    src <- paste('./JioSavan Data/English/genre/mp4/', file, sep='')\n",
    "    desc <- paste('./JioSavan Data/English/genre/wav/', substr(file, 1 , nchar(file)-4), '.wav', sep='')\n",
    "    try(av_audio_convert(src, desc))\n",
    "}"
   ]
  },
  {
   "cell_type": "code",
   "execution_count": 16,
   "metadata": {},
   "outputs": [
    {
     "data": {
      "text/html": [
       "85"
      ],
      "text/latex": [
       "85"
      ],
      "text/markdown": [
       "85"
      ],
      "text/plain": [
       "[1] 85"
      ]
     },
     "metadata": {},
     "output_type": "display_data"
    }
   ],
   "source": [
    "file_list_wav <- list.files(path = \"./JioSavan Data/English/genre/wav/\", pattern = NULL, all.files = FALSE,\n",
    "           full.names = FALSE, recursive = FALSE,\n",
    "           ignore.case = FALSE, include.dirs = FALSE, no.. = FALSE)\n",
    "length(file_list_wav)"
   ]
  },
  {
   "cell_type": "markdown",
   "metadata": {},
   "source": [
    "### Artist: Converting mp4 to wav format  "
   ]
  },
  {
   "cell_type": "code",
   "execution_count": 8,
   "metadata": {},
   "outputs": [
    {
     "data": {
      "text/html": [
       "130"
      ],
      "text/latex": [
       "130"
      ],
      "text/markdown": [
       "130"
      ],
      "text/plain": [
       "[1] 130"
      ]
     },
     "metadata": {},
     "output_type": "display_data"
    }
   ],
   "source": [
    "# reading data from a folder \n",
    "file_list <- list.files(path = \"./JioSavan Data/English/artist/mp4/\", pattern = NULL, all.files = FALSE,\n",
    "           full.names = FALSE, recursive = FALSE,\n",
    "           ignore.case = FALSE, include.dirs = FALSE, no.. = FALSE)\n",
    "length(file_list)"
   ]
  },
  {
   "cell_type": "code",
   "execution_count": 9,
   "metadata": {},
   "outputs": [],
   "source": [
    "# converting mp3 to wav\n",
    "for (file in file_list){\n",
    "    src <- paste('./JioSavan Data/English/artist/mp4/', file, sep='')\n",
    "    desc <- paste('./JioSavan Data/English/artist/wav/', substr(file, 1 , nchar(file)-4), '.wav', sep='')\n",
    "    av_audio_convert(src, desc)\n",
    "}"
   ]
  },
  {
   "cell_type": "code",
   "execution_count": 10,
   "metadata": {},
   "outputs": [
    {
     "data": {
      "text/html": [
       "130"
      ],
      "text/latex": [
       "130"
      ],
      "text/markdown": [
       "130"
      ],
      "text/plain": [
       "[1] 130"
      ]
     },
     "metadata": {},
     "output_type": "display_data"
    }
   ],
   "source": [
    "file_list_wav <- list.files(path = \"./JioSavan Data/English/artist/wav/\", pattern = NULL, all.files = FALSE,\n",
    "           full.names = FALSE, recursive = FALSE,\n",
    "           ignore.case = FALSE, include.dirs = FALSE, no.. = FALSE)\n",
    "length(file_list_wav)"
   ]
  },
  {
   "cell_type": "markdown",
   "metadata": {},
   "source": [
    "### JioSaaven - Telugu"
   ]
  },
  {
   "cell_type": "markdown",
   "metadata": {},
   "source": [
    "### Genre: Converting mp4 to wav format  "
   ]
  },
  {
   "cell_type": "code",
   "execution_count": 3,
   "metadata": {},
   "outputs": [
    {
     "data": {
      "text/html": [
       "62"
      ],
      "text/latex": [
       "62"
      ],
      "text/markdown": [
       "62"
      ],
      "text/plain": [
       "[1] 62"
      ]
     },
     "metadata": {},
     "output_type": "display_data"
    }
   ],
   "source": [
    "# reading data from a folder \n",
    "file_list <- list.files(path = \"./JioSavan Data/Telugu/genre/mp4/\", pattern = NULL, all.files = FALSE,\n",
    "           full.names = FALSE, recursive = FALSE,\n",
    "           ignore.case = FALSE, include.dirs = FALSE, no.. = FALSE)\n",
    "length(file_list)"
   ]
  },
  {
   "cell_type": "code",
   "execution_count": 4,
   "metadata": {},
   "outputs": [],
   "source": [
    "# converting mp3 to wav\n",
    "for (file in file_list){\n",
    "    src <- paste('./JioSavan Data/Telugu/genre/mp4/', file, sep='')\n",
    "    desc <- paste('./JioSavan Data/Telugu/genre/wav/', substr(file, 1 , nchar(file)-4), '.wav', sep='')\n",
    "    try(av_audio_convert(src, desc))\n",
    "}"
   ]
  },
  {
   "cell_type": "code",
   "execution_count": 5,
   "metadata": {},
   "outputs": [
    {
     "data": {
      "text/html": [
       "62"
      ],
      "text/latex": [
       "62"
      ],
      "text/markdown": [
       "62"
      ],
      "text/plain": [
       "[1] 62"
      ]
     },
     "metadata": {},
     "output_type": "display_data"
    }
   ],
   "source": [
    "file_list_wav <- list.files(path = \"./JioSavan Data/Telugu/genre/wav/\", pattern = NULL, all.files = FALSE,\n",
    "           full.names = FALSE, recursive = FALSE,\n",
    "           ignore.case = FALSE, include.dirs = FALSE, no.. = FALSE)\n",
    "length(file_list_wav)"
   ]
  },
  {
   "cell_type": "markdown",
   "metadata": {},
   "source": [
    "### Artist: Converting mp4 to wav format  "
   ]
  },
  {
   "cell_type": "code",
   "execution_count": 6,
   "metadata": {},
   "outputs": [
    {
     "data": {
      "text/html": [
       "56"
      ],
      "text/latex": [
       "56"
      ],
      "text/markdown": [
       "56"
      ],
      "text/plain": [
       "[1] 56"
      ]
     },
     "metadata": {},
     "output_type": "display_data"
    }
   ],
   "source": [
    "# reading data from a folder \n",
    "file_list <- list.files(path = \"./JioSavan Data/Telugu/artist/mp4/\", pattern = NULL, all.files = FALSE,\n",
    "           full.names = FALSE, recursive = FALSE,\n",
    "           ignore.case = FALSE, include.dirs = FALSE, no.. = FALSE)\n",
    "length(file_list)"
   ]
  },
  {
   "cell_type": "code",
   "execution_count": 7,
   "metadata": {},
   "outputs": [],
   "source": [
    "# converting mp3 to wav\n",
    "for (file in file_list){\n",
    "    src <- paste('./JioSavan Data/Telugu/artist/mp4/', file, sep='')\n",
    "    desc <- paste('./JioSavan Data/Telugu/artist/wav/', substr(file, 1 , nchar(file)-4), '.wav', sep='')\n",
    "    av_audio_convert(src, desc)\n",
    "}"
   ]
  },
  {
   "cell_type": "code",
   "execution_count": 8,
   "metadata": {},
   "outputs": [
    {
     "data": {
      "text/html": [
       "56"
      ],
      "text/latex": [
       "56"
      ],
      "text/markdown": [
       "56"
      ],
      "text/plain": [
       "[1] 56"
      ]
     },
     "metadata": {},
     "output_type": "display_data"
    }
   ],
   "source": [
    "file_list_wav <- list.files(path = \"./JioSavan Data/Telugu/artist/wav/\", pattern = NULL, all.files = FALSE,\n",
    "           full.names = FALSE, recursive = FALSE,\n",
    "           ignore.case = FALSE, include.dirs = FALSE, no.. = FALSE)\n",
    "length(file_list_wav)"
   ]
  },
  {
   "cell_type": "markdown",
   "metadata": {},
   "source": [
    "### JioSaaven - Hindi\n",
    "\n",
    "### Genre: Converting mp4 to wav format  "
   ]
  },
  {
   "cell_type": "code",
   "execution_count": 9,
   "metadata": {},
   "outputs": [
    {
     "data": {
      "text/html": [
       "52"
      ],
      "text/latex": [
       "52"
      ],
      "text/markdown": [
       "52"
      ],
      "text/plain": [
       "[1] 52"
      ]
     },
     "metadata": {},
     "output_type": "display_data"
    }
   ],
   "source": [
    "# reading data from a folder \n",
    "file_list <- list.files(path = \"./JioSavan Data/Hindi/genre/mp4/\", pattern = NULL, all.files = FALSE,\n",
    "           full.names = FALSE, recursive = FALSE,\n",
    "           ignore.case = FALSE, include.dirs = FALSE, no.. = FALSE)\n",
    "length(file_list)"
   ]
  },
  {
   "cell_type": "code",
   "execution_count": 10,
   "metadata": {},
   "outputs": [],
   "source": [
    "# converting mp3 to wav\n",
    "for (file in file_list){\n",
    "    src <- paste('./JioSavan Data/Hindi/genre/mp4/', file, sep='')\n",
    "    desc <- paste('./JioSavan Data/Hindi/genre/wav/', substr(file, 1 , nchar(file)-4), '.wav', sep='')\n",
    "    try(av_audio_convert(src, desc))\n",
    "}"
   ]
  },
  {
   "cell_type": "code",
   "execution_count": 11,
   "metadata": {},
   "outputs": [
    {
     "data": {
      "text/html": [
       "52"
      ],
      "text/latex": [
       "52"
      ],
      "text/markdown": [
       "52"
      ],
      "text/plain": [
       "[1] 52"
      ]
     },
     "metadata": {},
     "output_type": "display_data"
    }
   ],
   "source": [
    "file_list_wav <- list.files(path = \"./JioSavan Data/Hindi/genre/wav/\", pattern = NULL, all.files = FALSE,\n",
    "           full.names = FALSE, recursive = FALSE,\n",
    "           ignore.case = FALSE, include.dirs = FALSE, no.. = FALSE)\n",
    "length(file_list_wav)"
   ]
  },
  {
   "cell_type": "markdown",
   "metadata": {},
   "source": [
    "### Artist: Converting mp4 to wav format  "
   ]
  },
  {
   "cell_type": "code",
   "execution_count": 12,
   "metadata": {},
   "outputs": [
    {
     "data": {
      "text/html": [
       "60"
      ],
      "text/latex": [
       "60"
      ],
      "text/markdown": [
       "60"
      ],
      "text/plain": [
       "[1] 60"
      ]
     },
     "metadata": {},
     "output_type": "display_data"
    }
   ],
   "source": [
    "# reading data from a folder \n",
    "file_list <- list.files(path = \"./JioSavan Data/Hindi/artist/mp4/\", pattern = NULL, all.files = FALSE,\n",
    "           full.names = FALSE, recursive = FALSE,\n",
    "           ignore.case = FALSE, include.dirs = FALSE, no.. = FALSE)\n",
    "length(file_list)"
   ]
  },
  {
   "cell_type": "code",
   "execution_count": 13,
   "metadata": {},
   "outputs": [],
   "source": [
    "# converting mp3 to wav\n",
    "for (file in file_list){\n",
    "    src <- paste('./JioSavan Data/Hindi/artist/mp4/', file, sep='')\n",
    "    desc <- paste('./JioSavan Data/Hindi/artist/wav/', substr(file, 1 , nchar(file)-4), '.wav', sep='')\n",
    "    av_audio_convert(src, desc)\n",
    "}"
   ]
  },
  {
   "cell_type": "code",
   "execution_count": 14,
   "metadata": {},
   "outputs": [
    {
     "data": {
      "text/html": [
       "60"
      ],
      "text/latex": [
       "60"
      ],
      "text/markdown": [
       "60"
      ],
      "text/plain": [
       "[1] 60"
      ]
     },
     "metadata": {},
     "output_type": "display_data"
    }
   ],
   "source": [
    "file_list_wav <- list.files(path = \"./JioSavan Data/Hindi/artist/wav/\", pattern = NULL, all.files = FALSE,\n",
    "           full.names = FALSE, recursive = FALSE,\n",
    "           ignore.case = FALSE, include.dirs = FALSE, no.. = FALSE)\n",
    "length(file_list_wav)"
   ]
  },
  {
   "cell_type": "code",
   "execution_count": null,
   "metadata": {},
   "outputs": [],
   "source": []
  }
 ],
 "metadata": {
  "kernelspec": {
   "display_name": "R",
   "language": "R",
   "name": "ir"
  },
  "language_info": {
   "codemirror_mode": "r",
   "file_extension": ".r",
   "mimetype": "text/x-r-source",
   "name": "R",
   "pygments_lexer": "r",
   "version": "3.6.1"
  }
 },
 "nbformat": 4,
 "nbformat_minor": 4
}
