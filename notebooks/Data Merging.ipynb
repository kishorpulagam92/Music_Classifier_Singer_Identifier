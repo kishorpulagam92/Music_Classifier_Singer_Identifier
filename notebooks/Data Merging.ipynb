{
 "cells": [
  {
   "cell_type": "markdown",
   "metadata": {},
   "source": [
    "#### Merging all the files and creating artists and genres data files with extracted features"
   ]
  },
  {
   "cell_type": "code",
   "execution_count": 9,
   "metadata": {},
   "outputs": [],
   "source": [
    "import pandas as pd"
   ]
  },
  {
   "cell_type": "code",
   "execution_count": 10,
   "metadata": {},
   "outputs": [],
   "source": [
    "# Reading all the extracted features files for artists data\n",
    "english_artist = pd.read_csv('data/English_artist_data_vocal_features.csv')\n",
    "english_artist_deezer = pd.read_csv('data/English_artist_data_vocal_features_deezer.csv')\n",
    "telugu_artist = pd.read_csv('data/Telugu_artist_data_vocal_features.csv')\n",
    "hindi_artist = pd.read_csv('data/Hindi_artist_data_vocal_features.csv')"
   ]
  },
  {
   "cell_type": "code",
   "execution_count": 11,
   "metadata": {},
   "outputs": [],
   "source": [
    "# Reading all the extracted features files for genres data\n",
    "english_genre = pd.read_csv('data/English_genres_data_features.csv')\n",
    "telugu_genre = pd.read_csv('data/Telugu_genres_data_features.csv')\n",
    "hindi_genre = pd.read_csv('data/Hindi_genres_data_features.csv')"
   ]
  },
  {
   "cell_type": "code",
   "execution_count": 12,
   "metadata": {},
   "outputs": [],
   "source": [
    "english_artist['language'] = 'English'\n",
    "english_artist_deezer['language'] = 'English'\n",
    "telugu_artist['language'] = 'Telugu'\n",
    "hindi_artist['language'] = 'Hindi'"
   ]
  },
  {
   "cell_type": "code",
   "execution_count": 13,
   "metadata": {},
   "outputs": [],
   "source": [
    "english_genre['language'] = 'English'\n",
    "telugu_genre['language'] = 'Telugu'\n",
    "hindi_genre['language'] = 'Hindi'"
   ]
  },
  {
   "cell_type": "code",
   "execution_count": 14,
   "metadata": {},
   "outputs": [
    {
     "data": {
      "text/plain": [
       "(13116, 127)"
      ]
     },
     "execution_count": 14,
     "metadata": {},
     "output_type": "execute_result"
    }
   ],
   "source": [
    "artist_df = pd.concat([english_artist,english_artist_deezer,telugu_artist,hindi_artist])\n",
    "artist_df.shape"
   ]
  },
  {
   "cell_type": "code",
   "execution_count": 15,
   "metadata": {},
   "outputs": [],
   "source": [
    "artist_df['target'] = artist_df['language'] + '_' + artist_df['Artist_name']"
   ]
  },
  {
   "cell_type": "code",
   "execution_count": 16,
   "metadata": {},
   "outputs": [
    {
     "data": {
      "text/plain": [
       "English_Justin Bieber    1599\n",
       "English_Drake            1580\n",
       "English_Selena Gomez     1471\n",
       "Hindi_sonunigam          1326\n",
       "English_Adam Levine      1229\n",
       "Hindi_arijit             1168\n",
       "Telugu_geetha            1162\n",
       "Hindi_atifaslam          1060\n",
       "English_The Weeknd        983\n",
       "Telugu_armaan             705\n",
       "Telugu_anurag             468\n",
       "Telugu_sidsriram          365\n",
       "Name: target, dtype: int64"
      ]
     },
     "execution_count": 16,
     "metadata": {},
     "output_type": "execute_result"
    }
   ],
   "source": [
    "artist_df['target'].value_counts()"
   ]
  },
  {
   "cell_type": "code",
   "execution_count": 17,
   "metadata": {},
   "outputs": [
    {
     "data": {
      "text/plain": [
       "(13116, 127)"
      ]
     },
     "execution_count": 17,
     "metadata": {},
     "output_type": "execute_result"
    }
   ],
   "source": [
    "artist_df = artist_df.drop(['Artist_name'], axis = 1)\n",
    "artist_df.shape"
   ]
  },
  {
   "cell_type": "code",
   "execution_count": 18,
   "metadata": {},
   "outputs": [],
   "source": [
    "# saving artists file \n",
    "artist_df.to_csv('data/Artists_data.csv', index=False)"
   ]
  },
  {
   "cell_type": "code",
   "execution_count": 19,
   "metadata": {},
   "outputs": [
    {
     "data": {
      "text/plain": [
       "(9659, 127)"
      ]
     },
     "execution_count": 19,
     "metadata": {},
     "output_type": "execute_result"
    }
   ],
   "source": [
    "genre_df = pd.concat([english_genre,telugu_genre,hindi_genre])\n",
    "genre_df.shape"
   ]
  },
  {
   "cell_type": "code",
   "execution_count": 20,
   "metadata": {},
   "outputs": [
    {
     "data": {
      "text/plain": [
       "Telugu_romantic        1263\n",
       "English_Rock           1188\n",
       "Telugu_workout         1133\n",
       "Hindi_workout          1021\n",
       "English_HipHopParty    1017\n",
       "English_Romantic        895\n",
       "English_Workout         842\n",
       "Hindi_romantic          842\n",
       "Hindi_rock              810\n",
       "Telugu_rock             648\n",
       "Name: target, dtype: int64"
      ]
     },
     "execution_count": 20,
     "metadata": {},
     "output_type": "execute_result"
    }
   ],
   "source": [
    "genre_df['target'] = genre_df['language'] + '_' + genre_df['genre_name']\n",
    "genre_df['target'].value_counts()"
   ]
  },
  {
   "cell_type": "code",
   "execution_count": 21,
   "metadata": {},
   "outputs": [
    {
     "data": {
      "text/plain": [
       "(9659, 127)"
      ]
     },
     "execution_count": 21,
     "metadata": {},
     "output_type": "execute_result"
    }
   ],
   "source": [
    "genre_df = genre_df.drop(['genre_name'], axis = 1)\n",
    "genre_df.shape"
   ]
  },
  {
   "cell_type": "code",
   "execution_count": 22,
   "metadata": {},
   "outputs": [],
   "source": [
    "# saving genres file \n",
    "genre_df.to_csv('data/Genres_data.csv', index=False)"
   ]
  },
  {
   "cell_type": "code",
   "execution_count": 23,
   "metadata": {},
   "outputs": [
    {
     "data": {
      "text/plain": [
       "(22775, 127)"
      ]
     },
     "execution_count": 23,
     "metadata": {},
     "output_type": "execute_result"
    }
   ],
   "source": [
    "final_df = pd.concat([artist_df,genre_df])\n",
    "final_df.shape"
   ]
  },
  {
   "cell_type": "code",
   "execution_count": 24,
   "metadata": {},
   "outputs": [],
   "source": [
    "final_df.to_csv('data/final_data.csv', index=False)"
   ]
  },
  {
   "cell_type": "code",
   "execution_count": null,
   "metadata": {},
   "outputs": [],
   "source": []
  }
 ],
 "metadata": {
  "kernelspec": {
   "display_name": "Python 3",
   "language": "python",
   "name": "python3"
  },
  "language_info": {
   "codemirror_mode": {
    "name": "ipython",
    "version": 3
   },
   "file_extension": ".py",
   "mimetype": "text/x-python",
   "name": "python",
   "nbconvert_exporter": "python",
   "pygments_lexer": "ipython3",
   "version": "3.7.3"
  }
 },
 "nbformat": 4,
 "nbformat_minor": 4
}
