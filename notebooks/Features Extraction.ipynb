{
 "cells": [
  {
   "cell_type": "markdown",
   "metadata": {},
   "source": [
    "## Extracting the features from wav files"
   ]
  },
  {
   "cell_type": "code",
   "execution_count": 2,
   "metadata": {},
   "outputs": [],
   "source": [
    "# importing required packages\n",
    "import librosa\n",
    "import pandas as pd\n",
    "import numpy as np\n",
    "import os\n",
    "from pydub import AudioSegment\n",
    "from tqdm import tqdm\n",
    "from IPython.display import Audio\n",
    "\n",
    "import warnings\n",
    "warnings.filterwarnings('ignore')"
   ]
  },
  {
   "cell_type": "code",
   "execution_count": 3,
   "metadata": {},
   "outputs": [],
   "source": [
    "# function to calculate the mean and variance\n",
    "def mean_var_calculator(x_list):\n",
    "    n_array = np.array(x_list)\n",
    "    return list(n_array.mean(axis=1)), list(n_array.var(axis=1))"
   ]
  },
  {
   "cell_type": "code",
   "execution_count": 4,
   "metadata": {},
   "outputs": [],
   "source": [
    "# function to extract the features from wav file\n",
    "def features(song_id,category,path):\n",
    "\n",
    "    x , sr = librosa.load(path)\n",
    "    tempo = librosa.beat.tempo(x, sr = sr)\n",
    "    zero_crossings = sum(librosa.zero_crossings(x, pad=False))\n",
    "    \n",
    "    n_sb = librosa.util.normalize(librosa.feature.spectral_bandwidth(x, sr=sr)[0])\n",
    "    spectral_bandwidth_mean=n_sb.mean()\n",
    "    spectral_bandwidth_var=n_sb.var()\n",
    "        \n",
    "    n_sc = librosa.util.normalize(librosa.feature.spectral_contrast(x, sr=sr)[0])\n",
    "    spectral_contrast_mean=n_sc.mean()\n",
    "    spectral_contrast_var=n_sc.var()\n",
    "    \n",
    "    n_scc = librosa.util.normalize(librosa.feature.spectral_centroid(x, sr=sr)[0])\n",
    "    spectral_centroids_mean=n_scc.mean()\n",
    "    spectral_centroids_var=n_scc.var()\n",
    "        \n",
    "    n_sr = librosa.util.normalize(librosa.feature.spectral_rolloff(x, sr=sr)[0])\n",
    "    spectral_rolloff_mean=n_sr.mean()\n",
    "    spectral_rolloff_var=n_sr.var()\n",
    "    \n",
    "    n_sf = librosa.util.normalize(librosa.feature.spectral_flatness(x)[0])\n",
    "    spectral_flatness_mean=n_sf.mean()\n",
    "    spectral_flatness_var=n_sf.var()\n",
    "    \n",
    "    chroma_stft_mean, chroma_stft_var  = mean_var_calculator(librosa.feature.chroma_stft(x, sr = sr))\n",
    "    chroma_cqt_mean, chroma_cqt_var = mean_var_calculator(librosa.feature.chroma_cqt(x, sr = sr))\n",
    "    chroma_cens_mean, chroma_cens_var = mean_var_calculator(librosa.feature.chroma_cens(x, sr = sr))\n",
    "    #melspectrogram_mean, melspectrogram_var = mean_var_calculator(librosa.feature.melspectrogram(x, sr = sr))\n",
    "    mfcc_mean, mfcc_var = mean_var_calculator(librosa.feature.mfcc(x, sr = sr))\n",
    "    \n",
    "    features = [song_id, tempo[0], zero_crossings, spectral_bandwidth_mean, spectral_bandwidth_var, spectral_contrast_mean, spectral_contrast_var,\n",
    "            spectral_centroids_mean, spectral_centroids_var, spectral_rolloff_mean, spectral_rolloff_var, spectral_flatness_mean, spectral_flatness_var ]\n",
    "    features.extend(chroma_stft_mean)\n",
    "    features.extend(chroma_stft_var)\n",
    "    features.extend(chroma_cqt_mean)\n",
    "    features.extend(chroma_cqt_var)\n",
    "    features.extend(chroma_cens_mean)\n",
    "    features.extend(chroma_cens_var)\n",
    "    features.extend(mfcc_mean)\n",
    "    features.extend(mfcc_var)\n",
    "    features.append(category)\n",
    "    \n",
    "    return features"
   ]
  },
  {
   "cell_type": "code",
   "execution_count": 5,
   "metadata": {},
   "outputs": [
    {
     "data": {
      "text/plain": [
       "126"
      ]
     },
     "execution_count": 5,
     "metadata": {},
     "output_type": "execute_result"
    }
   ],
   "source": [
    "columns=['song_id','tempo','zero_crossings','spectral_bandwidth_mean','spectral_bandwidth_var','spectral_contrast_mean','spectral_contrast_var',\n",
    "         'spectral_centroids_mean','spectral_centroids_var','spectral_rolloff_mean','spectral_rolloff_var','spectral_flatness_mean','spectral_flatness_var',\n",
    "         \n",
    "         'chroma_stft1_mean', 'chroma_stft2_mean', 'chroma_stft3_mean', 'chroma_stft4_mean', 'chroma_stft5_mean', 'chroma_stft6_mean', 'chroma_stft7_mean', \n",
    "         'chroma_stft8_mean', 'chroma_stft9_mean', 'chroma_stft10_mean', 'chroma_stft11_mean', 'chroma_stft12_mean', 'chroma_stft1_var', 'chroma_stft2_var', \n",
    "         'chroma_stft3_var', 'chroma_stft4_var', 'chroma_stft5_var', 'chroma_stft6_var', 'chroma_stft7_var', 'chroma_stft8_var', 'chroma_stft9_var', \n",
    "         'chroma_stft10_var', 'chroma_stft11_var', 'chroma_stft12_var',\n",
    "         \n",
    "         'chroma_cqt1_mean', 'chroma_cqt2_mean', 'chroma_cqt3_mean', 'chroma_cqt4_mean', 'chroma_cqt5_mean', 'chroma_cqt6_mean', 'chroma_cqt7_mean', \n",
    "         'chroma_cqt8_mean', 'chroma_cqt9_mean', 'chroma_cqt10_mean', 'chroma_cqt11_mean', 'chroma_cqt12_mean', 'chroma_cqt1_var', 'chroma_cqt2_var', \n",
    "         'chroma_cqt3_var', 'chroma_cqt4_var', 'chroma_cqt5_var', 'chroma_cqt6_var', 'chroma_cqt7_var', 'chroma_cqt8_var', 'chroma_cqt9_var', \n",
    "         'chroma_cqt10_var', 'chroma_cqt11_var', 'chroma_cqt12_var',\n",
    "         \n",
    "         'chroma_cens1_mean', 'chroma_cens2_mean', 'chroma_cens3_mean', 'chroma_cens4_mean', 'chroma_cens5_mean', 'chroma_cens6_mean', 'chroma_cens7_mean', \n",
    "         'chroma_cens8_mean', 'chroma_cens9_mean', 'chroma_cens10_mean', 'chroma_cens11_mean', 'chroma_cens12_mean','chroma_cens1_var', 'chroma_cens2_var', \n",
    "         'chroma_cens3_var', 'chroma_cens4_var', 'chroma_cens5_var', 'chroma_cens6_var', 'chroma_cens7_var', 'chroma_cens8_var', 'chroma_cens9_var', \n",
    "         'chroma_cens10_var', 'chroma_cens11_var', 'chroma_cens12_var',\n",
    "         \n",
    "         'mfcc1_mean', 'mfcc2_mean', 'mfcc3_mean', 'mfcc4_mean', 'mfcc5_mean', 'mfcc6_mean', 'mfcc7_mean', 'mfcc8_mean', 'mfcc9_mean', 'mfcc10_mean', \n",
    "         'mfcc11_mean', 'mfcc12_mean', 'mfcc13_mean', 'mfcc14_mean', 'mfcc15_mean', 'mfcc16_mean', 'mfcc17_mean', 'mfcc18_mean', 'mfcc19_mean', \n",
    "         'mfcc20_mean', 'mfcc1_var', 'mfcc2_var', 'mfcc3_var', 'mfcc4_var', 'mfcc5_var', 'mfcc6_var', 'mfcc7_var', 'mfcc8_var', 'mfcc9_var',\n",
    "         'mfcc10_var', 'mfcc11_var', 'mfcc12_var', 'mfcc13_var', 'mfcc14_var', 'mfcc15_var', 'mfcc16_var', 'mfcc17_var', 'mfcc18_var', \n",
    "         'mfcc19_var', 'mfcc20_var', 'Artist_name']\n",
    "\n",
    "len(columns)"
   ]
  },
  {
   "cell_type": "markdown",
   "metadata": {},
   "source": [
    "### Extracting features for English Songs"
   ]
  },
  {
   "cell_type": "markdown",
   "metadata": {},
   "source": [
    "#### Extracting artist data features from vocals data for collected deezer data"
   ]
  },
  {
   "cell_type": "code",
   "execution_count": 5,
   "metadata": {},
   "outputs": [
    {
     "name": "stdout",
     "output_type": "stream",
     "text": [
      "Total number of songs: 189\n"
     ]
    }
   ],
   "source": [
    "# English songs Vocal_features Extraction\n",
    "source = r'Deezer Data\\artist\\wav'\n",
    "dest = r'Deezer Data\\artist\\splitter'\n",
    "songs = os.listdir(source)\n",
    "print('Total number of songs:', len(songs))\n",
    "songs_features = []"
   ]
  },
  {
   "cell_type": "code",
   "execution_count": 6,
   "metadata": {},
   "outputs": [
    {
     "name": "stderr",
     "output_type": "stream",
     "text": [
      "100%|██████████| 189/189 [48:30<00:00, 15.40s/it]\n"
     ]
    }
   ],
   "source": [
    "# English songs Vocal_features Extraction\n",
    "for song in tqdm(songs):\n",
    "    song_id = song[:song.find('.')]\n",
    "    artist_name = song[:song.find('_')]\n",
    "    path = dest + '\\\\' + song_id + '\\\\vocals.wav'\n",
    "    audio = AudioSegment.from_mp3(path)\n",
    "    \n",
    "    for i in range(round(len(audio)/5000)):\n",
    "        try:\n",
    "            song = audio[i*5000:(i+1)*5000] \n",
    "            out_path = 'output.wav'\n",
    "            song.export(out_path, format=\"wav\")\n",
    "            temp = features(song_id + '_' + str(i), artist_name , out_path)\n",
    "            songs_features.append(temp)\n",
    "            os.remove(out_path)\n",
    "        except:\n",
    "            song = audio[i*5000:(i+1)*5000] \n",
    "            out_path = 'output2.wav'\n",
    "            song.export(out_path, format=\"wav\")\n",
    "            temp = features(song_id + '_' + str(i), artist_name , out_path)\n",
    "            songs_features.append(temp)\n",
    "            os.remove(out_path)\n"
   ]
  },
  {
   "cell_type": "code",
   "execution_count": 7,
   "metadata": {},
   "outputs": [
    {
     "data": {
      "text/plain": [
       "(1134, 126)"
      ]
     },
     "execution_count": 7,
     "metadata": {},
     "output_type": "execute_result"
    }
   ],
   "source": [
    "df = pd.DataFrame(songs_features, columns = columns)\n",
    "df.shape"
   ]
  },
  {
   "cell_type": "code",
   "execution_count": 9,
   "metadata": {},
   "outputs": [],
   "source": [
    "df.to_csv(r'Deezer Data\\artist\\English_artist_data_vocal_features_deezer.csv', index=False)"
   ]
  },
  {
   "cell_type": "markdown",
   "metadata": {},
   "source": [
    "#### Extracting artist data features from vocals data for collected JioSaven data"
   ]
  },
  {
   "cell_type": "code",
   "execution_count": null,
   "metadata": {},
   "outputs": [],
   "source": [
    "# English songs Vocal_features Extraction\n",
    "source = r'JioSavan Data\\English\\artist\\wav'\n",
    "dest = r'JioSavan Data\\English\\artist\\splitter'\n",
    "songs = os.listdir(source)\n",
    "print('Total number of songs:', len(songs))\n",
    "songs_features = []"
   ]
  },
  {
   "cell_type": "code",
   "execution_count": null,
   "metadata": {},
   "outputs": [],
   "source": [
    "# English songs Vocal_features Extraction\n",
    "for song in tqdm(songs):\n",
    "    song_id = song[:song.find('.')]\n",
    "    artist_name = song[:song.find('_')]\n",
    "    path = dest + '\\\\' + song_id + '\\\\vocals.wav'\n",
    "    audio = AudioSegment.from_mp3(path)\n",
    "    \n",
    "    for i in range(round(len(audio)/5000)):\n",
    "        try:\n",
    "            song = audio[i*5000:(i+1)*5000] \n",
    "            out_path = 'output.wav'\n",
    "            song.export(out_path, format=\"wav\")\n",
    "            temp = features(song_id + '_' + str(i), artist_name , out_path)\n",
    "            songs_features.append(temp)\n",
    "            os.remove(out_path)\n",
    "        except:\n",
    "            song = audio[i*5000:(i+1)*5000] \n",
    "            out_path = 'output2.wav'\n",
    "            song.export(out_path, format=\"wav\")\n",
    "            temp = features(song_id + '_' + str(i), artist_name , out_path)\n",
    "            songs_features.append(temp)\n",
    "            os.remove(out_path)\n"
   ]
  },
  {
   "cell_type": "code",
   "execution_count": null,
   "metadata": {},
   "outputs": [],
   "source": [
    "df = pd.DataFrame(songs_features, columns = columns)\n",
    "df.to_csv(r'JioSavan Data\\English\\artist\\English_artist_data_vocal_features.csv', index=False)"
   ]
  },
  {
   "cell_type": "markdown",
   "metadata": {},
   "source": [
    "#### Extracting genres data features from the collected JioSaven data"
   ]
  },
  {
   "cell_type": "code",
   "execution_count": null,
   "metadata": {},
   "outputs": [],
   "source": [
    "# English songs features Extraction genre\n",
    "source = r'JioSavan Data\\English\\genre\\wav'\n",
    "songs = os.listdir(source)\n",
    "print('Total number of songs:', len(songs))\n",
    "songs_features = []"
   ]
  },
  {
   "cell_type": "code",
   "execution_count": null,
   "metadata": {},
   "outputs": [],
   "source": [
    "# English songs Vocal_features Extraction\n",
    "for song in tqdm(songs):\n",
    "    song_id = song[:song.find('.')]\n",
    "    artist_name = song[:song.find('_')]\n",
    "    path = source + '\\\\' + song\n",
    "    audio = AudioSegment.from_mp3(path)\n",
    "    \n",
    "    for i in range(round(len(audio)/5000)):\n",
    "        try:\n",
    "            song = audio[i*5000:(i+1)*5000] \n",
    "            out_path = 'output.wav'\n",
    "            song.export(out_path, format=\"wav\")\n",
    "            temp = features(song_id + '_' + str(i), artist_name , out_path)\n",
    "            songs_features.append(temp)\n",
    "            os.remove(out_path)\n",
    "        except:\n",
    "            song = audio[i*5000:(i+1)*5000] \n",
    "            out_path = 'output2.wav'\n",
    "            song.export(out_path, format=\"wav\")\n",
    "            temp = features(song_id + '_' + str(i), artist_name , out_path)\n",
    "            songs_features.append(temp)\n",
    "            os.remove(out_path)\n"
   ]
  },
  {
   "cell_type": "code",
   "execution_count": null,
   "metadata": {},
   "outputs": [],
   "source": [
    "df = pd.DataFrame(songs_features, columns = columns)\n",
    "df.to_csv(r'JioSavan Data\\English\\genre\\English_genres_data_features.csv', index=False)"
   ]
  },
  {
   "cell_type": "markdown",
   "metadata": {},
   "source": [
    "## Extracting features for Telugu lanuage\n",
    "### Features extraction for genres data"
   ]
  },
  {
   "cell_type": "code",
   "execution_count": null,
   "metadata": {},
   "outputs": [],
   "source": [
    "# Telugu songs features Extraction genre\n",
    "source = r'JioSavan Data\\Telugu\\genre\\wav'\n",
    "songs = os.listdir(source)\n",
    "print('Total number of songs:', len(songs))\n",
    "songs_features = []"
   ]
  },
  {
   "cell_type": "code",
   "execution_count": null,
   "metadata": {},
   "outputs": [],
   "source": [
    "# Telugu songs Vocal_features Extraction\n",
    "for song in tqdm(songs):\n",
    "    song_id = song[:song.find('.')]\n",
    "    artist_name = song[:song.find('_')]\n",
    "    path = source + '\\\\' + song\n",
    "    audio = AudioSegment.from_mp3(path)\n",
    "    \n",
    "    for i in range(round(len(audio)/5000)):\n",
    "        try:\n",
    "            song = audio[i*5000:(i+1)*5000] \n",
    "            out_path = 'output.wav'\n",
    "            song.export(out_path, format=\"wav\")\n",
    "            temp = features(song_id + '_' + str(i), artist_name , out_path)\n",
    "            songs_features.append(temp)\n",
    "            os.remove(out_path)\n",
    "        except:\n",
    "            song = audio[i*5000:(i+1)*5000] \n",
    "            out_path = 'output2.wav'\n",
    "            song.export(out_path, format=\"wav\")\n",
    "            temp = features(song_id + '_' + str(i), artist_name , out_path)\n",
    "            songs_features.append(temp)\n",
    "            os.remove(out_path)\n"
   ]
  },
  {
   "cell_type": "code",
   "execution_count": null,
   "metadata": {},
   "outputs": [],
   "source": [
    "df = pd.DataFrame(songs_features, columns = columns)\n",
    "df.to_csv(r'JioSavan Data\\Telugu\\genre\\Telugu_genres_data_features.csv', index=False)"
   ]
  },
  {
   "cell_type": "markdown",
   "metadata": {},
   "source": [
    "### Features extraction for Artists data"
   ]
  },
  {
   "cell_type": "code",
   "execution_count": null,
   "metadata": {},
   "outputs": [],
   "source": [
    "# Telugu songs Vocal_features Extraction\n",
    "source = r'JioSavan Data\\Telugu\\artist\\wav'\n",
    "dest = r'JioSavan Data\\Telugu\\artist\\splitter'\n",
    "songs = os.listdir(source)\n",
    "print('Total number of songs:', len(songs))\n",
    "songs_features = []"
   ]
  },
  {
   "cell_type": "code",
   "execution_count": null,
   "metadata": {},
   "outputs": [],
   "source": [
    "# Telugu songs Vocal_features Extraction\n",
    "for song in tqdm(songs):\n",
    "    song_id = song[:song.find('.')]\n",
    "    artist_name = song[:song.find('_')]\n",
    "    path = dest + '\\\\' + song_id + '\\\\vocals.wav'\n",
    "    audio = AudioSegment.from_mp3(path)\n",
    "    \n",
    "    for i in range(round(len(audio)/5000)):\n",
    "        try:\n",
    "            song = audio[i*5000:(i+1)*5000] \n",
    "            out_path = 'output.wav'\n",
    "            song.export(out_path, format=\"wav\")\n",
    "            temp = features(song_id + '_' + str(i), artist_name , out_path)\n",
    "            songs_features.append(temp)\n",
    "            os.remove(out_path)\n",
    "        except:\n",
    "            song = audio[i*5000:(i+1)*5000] \n",
    "            out_path = 'output2.wav'\n",
    "            song.export(out_path, format=\"wav\")\n",
    "            temp = features(song_id + '_' + str(i), artist_name , out_path)\n",
    "            songs_features.append(temp)\n",
    "            os.remove(out_path)"
   ]
  },
  {
   "cell_type": "code",
   "execution_count": null,
   "metadata": {},
   "outputs": [],
   "source": [
    "df = pd.DataFrame(songs_features, columns = columns)\n",
    "df.to_csv(r'JioSavan Data\\Telugu\\artist\\Telugu_artist_data_vocal_features.csv', index=False)"
   ]
  },
  {
   "cell_type": "markdown",
   "metadata": {},
   "source": [
    "## Extracting features for Hindi lanuage\n",
    "### Features extraction for genres data"
   ]
  },
  {
   "cell_type": "code",
   "execution_count": null,
   "metadata": {},
   "outputs": [],
   "source": [
    "# Hindi songs features Extraction genre\n",
    "source = r'JioSavan Data\\Hindi\\genre\\wav'\n",
    "songs = os.listdir(source)\n",
    "print('Total number of songs:', len(songs))\n",
    "songs_features = []"
   ]
  },
  {
   "cell_type": "code",
   "execution_count": null,
   "metadata": {},
   "outputs": [],
   "source": [
    "# Hindi songs Vocal_features Extraction\n",
    "for song in tqdm(songs):\n",
    "    song_id = song[:song.find('.')]\n",
    "    artist_name = song[:song.find('_')]\n",
    "    path = source + '\\\\' + song\n",
    "    audio = AudioSegment.from_mp3(path)\n",
    "    \n",
    "    for i in range(round(len(audio)/5000)):\n",
    "        try:\n",
    "            song = audio[i*5000:(i+1)*5000] \n",
    "            out_path = 'output.wav'\n",
    "            song.export(out_path, format=\"wav\")\n",
    "            temp = features(song_id + '_' + str(i), artist_name , out_path)\n",
    "            songs_features.append(temp)\n",
    "            os.remove(out_path)\n",
    "        except:\n",
    "            song = audio[i*5000:(i+1)*5000] \n",
    "            out_path = 'output2.wav'\n",
    "            song.export(out_path, format=\"wav\")\n",
    "            temp = features(song_id + '_' + str(i), artist_name , out_path)\n",
    "            songs_features.append(temp)\n",
    "            os.remove(out_path)\n"
   ]
  },
  {
   "cell_type": "code",
   "execution_count": null,
   "metadata": {},
   "outputs": [],
   "source": [
    "df = pd.DataFrame(songs_features, columns = columns)\n",
    "df.to_csv(r'JioSavan Data\\Hindi\\genre\\Hindi_genres_data_features.csv', index=False)"
   ]
  },
  {
   "cell_type": "markdown",
   "metadata": {},
   "source": [
    "### Features extraction for Artists data"
   ]
  },
  {
   "cell_type": "code",
   "execution_count": null,
   "metadata": {},
   "outputs": [],
   "source": [
    "# Telugu songs Vocal_features Extraction\n",
    "source = r'JioSavan Data\\Hindi\\artist\\wav'\n",
    "dest = r'JioSavan Data\\Hindi\\artist\\splitter'\n",
    "songs = os.listdir(source)\n",
    "print('Total number of songs:', len(songs))\n",
    "songs_features = []"
   ]
  },
  {
   "cell_type": "code",
   "execution_count": null,
   "metadata": {},
   "outputs": [],
   "source": [
    "# Telugu songs Vocal_features Extraction\n",
    "for song in tqdm(songs):\n",
    "    song_id = song[:song.find('.')]\n",
    "    artist_name = song[:song.find('_')]\n",
    "    path = dest + '\\\\' + song_id + '\\\\vocals.wav'\n",
    "    audio = AudioSegment.from_mp3(path)\n",
    "    \n",
    "    for i in range(round(len(audio)/5000)):\n",
    "        try:\n",
    "            song = audio[i*5000:(i+1)*5000] \n",
    "            out_path = 'output.wav'\n",
    "            song.export(out_path, format=\"wav\")\n",
    "            temp = features(song_id + '_' + str(i), artist_name , out_path)\n",
    "            songs_features.append(temp)\n",
    "            os.remove(out_path)\n",
    "        except:\n",
    "            song = audio[i*5000:(i+1)*5000] \n",
    "            out_path = 'output2.wav'\n",
    "            song.export(out_path, format=\"wav\")\n",
    "            temp = features(song_id + '_' + str(i), artist_name , out_path)\n",
    "            songs_features.append(temp)\n",
    "            os.remove(out_path)"
   ]
  },
  {
   "cell_type": "code",
   "execution_count": null,
   "metadata": {},
   "outputs": [],
   "source": [
    "df = pd.DataFrame(songs_features, columns = columns)\n",
    "df.to_csv(r'JioSavan Data\\Hindi\\artist\\Hindi_artist_data_vocal_features.csv', index=False)"
   ]
  }
 ],
 "metadata": {
  "kernelspec": {
   "display_name": "Python 3",
   "language": "python",
   "name": "python3"
  },
  "language_info": {
   "codemirror_mode": {
    "name": "ipython",
    "version": 3
   },
   "file_extension": ".py",
   "mimetype": "text/x-python",
   "name": "python",
   "nbconvert_exporter": "python",
   "pygments_lexer": "ipython3",
   "version": "3.7.3"
  }
 },
 "nbformat": 4,
 "nbformat_minor": 4
}
