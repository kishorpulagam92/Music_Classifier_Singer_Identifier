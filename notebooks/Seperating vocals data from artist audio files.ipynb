{
 "cells": [
  {
   "cell_type": "markdown",
   "metadata": {},
   "source": [
    "## Seperating the vocal audio data from artist data wav files"
   ]
  },
  {
   "cell_type": "code",
   "execution_count": 7,
   "metadata": {},
   "outputs": [],
   "source": [
    "# Installing required packages\n",
    "import librosa\n",
    "import pandas as pd\n",
    "import sklearn\n",
    "%matplotlib inline\n",
    "import matplotlib.pyplot as plt\n",
    "import librosa.display\n",
    "from tqdm import tqdm\n",
    "from IPython.display import Audio\n",
    "from spleeter.separator import Separator"
   ]
  },
  {
   "cell_type": "code",
   "execution_count": 4,
   "metadata": {},
   "outputs": [],
   "source": [
    "# Using 2stems configuration.\n",
    "separator = Separator('spleeter:2stems')"
   ]
  },
  {
   "cell_type": "markdown",
   "metadata": {},
   "source": [
    "### Sepearting Vocal data for artists data - English"
   ]
  },
  {
   "cell_type": "code",
   "execution_count": 8,
   "metadata": {},
   "outputs": [
    {
     "name": "stdout",
     "output_type": "stream",
     "text": [
      "130\n"
     ]
    }
   ],
   "source": [
    "import os\n",
    "\n",
    "source = r'JioSavan Data\\English\\artist\\wav'\n",
    "dest = r'JioSavan Data\\English\\artist\\splitter'\n",
    "songs = os.listdir(source)\n",
    "print(len(songs))"
   ]
  },
  {
   "cell_type": "code",
   "execution_count": 21,
   "metadata": {},
   "outputs": [
    {
     "name": "stderr",
     "output_type": "stream",
     "text": [
      "100%|██████████| 130/130 [31:11<00:00, 14.39s/it]\n"
     ]
    }
   ],
   "source": [
    "separator = Separator('spleeter:2stems')\n",
    "\n",
    "# Batch separation export.\n",
    "for song_name in tqdm(songs):\n",
    "    song_path = source + '\\\\' + song_name\n",
    "    separator.separate_to_file(song_path, dest, synchronous=False)\n",
    "\n",
    "# Wait for batch to finish.\n",
    "separator.join()"
   ]
  },
  {
   "cell_type": "markdown",
   "metadata": {},
   "source": [
    "### Sepearting Vocal data for artists data - English from Deezer"
   ]
  },
  {
   "cell_type": "code",
   "execution_count": 5,
   "metadata": {},
   "outputs": [
    {
     "name": "stdout",
     "output_type": "stream",
     "text": [
      "189\n"
     ]
    }
   ],
   "source": [
    "import os\n",
    "\n",
    "source = r'Deezer Data\\artist\\wav'\n",
    "dest = r'Deezer Data\\artist\\splitter'\n",
    "songs = os.listdir(source)\n",
    "print(len(songs))"
   ]
  },
  {
   "cell_type": "code",
   "execution_count": 6,
   "metadata": {},
   "outputs": [
    {
     "name": "stderr",
     "output_type": "stream",
     "text": [
      "  0%|          | 0/189 [00:00<?, ?it/s]"
     ]
    },
    {
     "name": "stdout",
     "output_type": "stream",
     "text": [
      "INFO:tensorflow:Apply unet for vocals_spectrogram\n",
      "INFO:tensorflow:Apply unet for accompaniment_spectrogram\n",
      "INFO:tensorflow:Restoring parameters from pretrained_models\\2stems\\model\n"
     ]
    },
    {
     "name": "stderr",
     "output_type": "stream",
     "text": [
      "100%|██████████| 189/189 [10:57<00:00,  3.48s/it]\n"
     ]
    }
   ],
   "source": [
    "separator = Separator('spleeter:2stems')\n",
    "\n",
    "# Batch separation export.\n",
    "for song_name in tqdm(songs):\n",
    "    song_path = source + '\\\\' + song_name\n",
    "    separator.separate_to_file(song_path, dest, synchronous=False)\n",
    "\n",
    "# Wait for batch to finish.\n",
    "separator.join()"
   ]
  },
  {
   "cell_type": "markdown",
   "metadata": {},
   "source": [
    "### Sepearting Vocal data for artists data - Telugu"
   ]
  },
  {
   "cell_type": "code",
   "execution_count": 11,
   "metadata": {},
   "outputs": [
    {
     "name": "stdout",
     "output_type": "stream",
     "text": [
      "56\n"
     ]
    }
   ],
   "source": [
    "import os\n",
    "\n",
    "source = r'JioSavan Data\\Telugu\\artist\\wav'\n",
    "dest = r'JioSavan Data\\Telugu\\artist\\splitter'\n",
    "songs = os.listdir(source)\n",
    "print(len(songs))"
   ]
  },
  {
   "cell_type": "code",
   "execution_count": 12,
   "metadata": {},
   "outputs": [],
   "source": [
    "separator = Separator('spleeter:2stems')\n",
    "\n",
    "# Batch separation export.\n",
    "for song_name in tqdm(songs):\n",
    "    song_path = source + '\\\\' + song_name\n",
    "    separator.separate_to_file(song_path, dest, synchronous=False)\n",
    "\n",
    "# Wait for batch to finish.\n",
    "separator.join()"
   ]
  },
  {
   "cell_type": "markdown",
   "metadata": {},
   "source": [
    "### Sepearting Vocal data for artists data - Hindi"
   ]
  },
  {
   "cell_type": "code",
   "execution_count": 9,
   "metadata": {},
   "outputs": [
    {
     "name": "stdout",
     "output_type": "stream",
     "text": [
      "60\n"
     ]
    }
   ],
   "source": [
    "source = r'JioSavan Data\\Hindi\\artist\\wav'\n",
    "dest = r'JioSavan Data\\Hindi\\artist\\splitter'\n",
    "songs = os.listdir(source)\n",
    "print(len(songs))"
   ]
  },
  {
   "cell_type": "code",
   "execution_count": 11,
   "metadata": {},
   "outputs": [],
   "source": [
    "# Batch separation export.\n",
    "for song_name in tqdm(songs):\n",
    "    song_path = source + '\\\\' + song_name\n",
    "    separator.separate_to_file(song_path, dest, synchronous=False)\n",
    "\n",
    "# Wait for batch to finish.\n",
    "separator.join()"
   ]
  },
  {
   "cell_type": "code",
   "execution_count": null,
   "metadata": {},
   "outputs": [],
   "source": []
  }
 ],
 "metadata": {
  "kernelspec": {
   "display_name": "Python 3",
   "language": "python",
   "name": "python3"
  },
  "language_info": {
   "codemirror_mode": {
    "name": "ipython",
    "version": 3
   },
   "file_extension": ".py",
   "mimetype": "text/x-python",
   "name": "python",
   "nbconvert_exporter": "python",
   "pygments_lexer": "ipython3",
   "version": "3.7.3"
  }
 },
 "nbformat": 4,
 "nbformat_minor": 4
}
