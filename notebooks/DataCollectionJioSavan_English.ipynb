{
 "cells": [
  {
   "cell_type": "markdown",
   "metadata": {},
   "source": [
    "## Data Collection from JioSavan for English Language\n",
    "\n",
    "This notebook helps to collect the mp4 URLs of different songs from JioSavan API"
   ]
  },
  {
   "cell_type": "code",
   "execution_count": 1,
   "metadata": {},
   "outputs": [],
   "source": [
    "# importing required packaegs\n",
    "import pandas as pd\n",
    "import json\n",
    "import urllib.request as req\n",
    "import os\n",
    "from tqdm import tqdm"
   ]
  },
  {
   "cell_type": "code",
   "execution_count": 2,
   "metadata": {},
   "outputs": [],
   "source": [
    "# Defining url for gener and artist playlists\n",
    "genre = {\n",
    "    'Rock': 'https://www.jiosaavn.com/s/playlist/38e6bfd36d1ad1f70db84ef71a7fa88e/Rock/49t5x5-aMliO0eMLZZxqsA__',\n",
    "    'Workout': 'https://www.jiosaavn.com/s/playlist/38e6bfd36d1ad1f70db84ef71a7fa88e/Workout/CfL9X1gZ2cZuOxiEGmm6lQ__',\n",
    "    'Romantic': 'https://www.jiosaavn.com/s/playlist/38e6bfd36d1ad1f70db84ef71a7fa88e/Romantic/9ZUJjaXZGjRuOxiEGmm6lQ__',\n",
    "    'HipHopParty': 'https://www.jiosaavn.com/s/playlist/38e6bfd36d1ad1f70db84ef71a7fa88e/HipHopParty/1fClLeOCHDbufxkxMEIbIw__'\n",
    "}\n",
    "\n",
    "\n",
    "artist = {\n",
    "    'Selena Gomez': 'https://www.jiosaavn.com/s/playlist/38e6bfd36d1ad1f70db84ef71a7fa88e/Selena_Gomez/5Dof731eh2Mwkg5tVhI3fw__',\n",
    "    'Adam Levine': 'https://www.jiosaavn.com/s/playlist/38e6bfd36d1ad1f70db84ef71a7fa88e/Adam_Levine/xiejqZd7vwxieSJqt9HmOQ__',\n",
    "    'Justin Bieber': 'https://www.jiosaavn.com/s/playlist/38e6bfd36d1ad1f70db84ef71a7fa88e/Justin_Bieber/IAT5LUjgzvwwkg5tVhI3fw__',\n",
    "    'Drake': 'https://www.jiosaavn.com/s/playlist/38e6bfd36d1ad1f70db84ef71a7fa88e/Drake/fM-lT4AodABuOxiEGmm6lQ__',\n",
    "    'The Weeknd': 'https://www.jiosaavn.com/s/playlist/38e6bfd36d1ad1f70db84ef71a7fa88e/The_Weeknd/NSaWZdVxZL4GSw2I1RxdhQ__'\n",
    "}"
   ]
  },
  {
   "cell_type": "code",
   "execution_count": 3,
   "metadata": {},
   "outputs": [],
   "source": [
    "# Collecting defined geners and artistis songs related info and loading into a dictionary\n",
    "genre_songs_collection = dict()\n",
    "artist_songs_collection = dict()\n",
    "\n",
    "for genre_name, genre_url in genre.items():\n",
    "    #savan_api_url = 'http://127.0.0.1:5000/playlist/?query=' + genre_url + '&lyrics=true'\n",
    "    savan_api_url = 'http://127.0.0.1:5000/playlist/?query=' + genre_url\n",
    "    with req.urlopen(savan_api_url) as url:\n",
    "        genre_songs_collection[genre_name] = json.loads(url.read().decode())\n",
    "        \n",
    "for artist_name, artist_url in artist.items():\n",
    "    #savan_api_url = 'http://127.0.0.1:5000/playlist/?query=' + artist_url + '&lyrics=true'\n",
    "    savan_api_url = 'http://127.0.0.1:5000/playlist/?query=' + artist_url \n",
    "    with req.urlopen(savan_api_url) as url:\n",
    "        artist_songs_collection[artist_name] = json.loads(url.read().decode())"
   ]
  },
  {
   "cell_type": "code",
   "execution_count": 4,
   "metadata": {},
   "outputs": [
    {
     "name": "stdout",
     "output_type": "stream",
     "text": [
      "Rock : 20\n",
      "Workout : 20\n",
      "Romantic : 20\n",
      "HipHopParty : 25\n"
     ]
    }
   ],
   "source": [
    "# Checking how many songs present for each genre\n",
    "for k,v in genre_songs_collection.items():\n",
    "    try:\n",
    "        print(k,':' ,len(v['songs']))\n",
    "    except:\n",
    "        print(k)"
   ]
  },
  {
   "cell_type": "code",
   "execution_count": 5,
   "metadata": {},
   "outputs": [
    {
     "name": "stdout",
     "output_type": "stream",
     "text": [
      "Selena Gomez : 28\n",
      "Adam Levine : 27\n",
      "Justin Bieber : 32\n",
      "Drake : 28\n",
      "The Weeknd : 15\n"
     ]
    }
   ],
   "source": [
    "# Checking how many songs present for each artist\n",
    "for k,v in artist_songs_collection.items():\n",
    "    try:\n",
    "        print(k,':' ,len(v['songs']))\n",
    "    except:\n",
    "        print(k)"
   ]
  },
  {
   "cell_type": "code",
   "execution_count": 7,
   "metadata": {},
   "outputs": [],
   "source": [
    "# Setting up the folders\n",
    "\n",
    "paths ={\n",
    "    'root_path': 'JioSavan Data/English',\n",
    "    'genre_mp3_path' : 'JioSavan Data/English/genre/mp4',\n",
    "    'genre_wav_path' : 'JioSavan Data/English/genre/wav',\n",
    "    'artist_mp3_path' : 'JioSavan Data/English/artist/mp4',\n",
    "    'artist_wav_path' : 'JioSavan Data/English/artist/wav',\n",
    "}\n",
    "\n",
    "for name, path in paths.items():\n",
    "    if not os.path.exists(path):\n",
    "        os.makedirs(path)\n"
   ]
  },
  {
   "cell_type": "code",
   "execution_count": 8,
   "metadata": {},
   "outputs": [],
   "source": [
    "# saving the collced info\n",
    "with open(paths['root_path'] + '/genre/genres_data.json', 'w') as outfile:\n",
    "    json.dump(genre_songs_collection, outfile)\n",
    "    \n",
    "with open(paths['root_path'] + '/artist/artists_data.json', 'w') as outfile:\n",
    "    json.dump(artist_songs_collection, outfile)"
   ]
  },
  {
   "cell_type": "markdown",
   "metadata": {},
   "source": [
    "## Genres data collection and pre-processing"
   ]
  },
  {
   "cell_type": "code",
   "execution_count": 9,
   "metadata": {},
   "outputs": [],
   "source": [
    "#Redaing data from saved files\n",
    "with open(paths['root_path'] + '/genre/genres_data.json', 'r') as file:\n",
    "    genre_songs_collection = json.load(file)"
   ]
  },
  {
   "cell_type": "code",
   "execution_count": 10,
   "metadata": {},
   "outputs": [
    {
     "data": {
      "text/plain": [
       "(85, 42)"
      ]
     },
     "execution_count": 10,
     "metadata": {},
     "output_type": "execute_result"
    }
   ],
   "source": [
    "# Converting genre_songs_collection into a data frame\n",
    "\n",
    "appended_data = []\n",
    "for genre_type, genre_songs_details in genre_songs_collection.items():\n",
    "    if genre_type != 'Electronic' :\n",
    "        temp_df = pd.DataFrame.from_dict(genre_songs_details['songs'])\n",
    "        temp_df.insert(0, 'song_id', genre_type + '_' + temp_df['id'])\n",
    "        temp_df.insert(1, 'genere', genre_type)\n",
    "        appended_data.append(temp_df) # store DataFrame in list \n",
    "genre_df = pd.concat(appended_data)\n",
    "genre_df.shape"
   ]
  },
  {
   "cell_type": "code",
   "execution_count": 11,
   "metadata": {},
   "outputs": [
    {
     "data": {
      "text/plain": [
       "HipHopParty    25\n",
       "Rock           20\n",
       "Romantic       20\n",
       "Workout        20\n",
       "Name: genere, dtype: int64"
      ]
     },
     "execution_count": 11,
     "metadata": {},
     "output_type": "execute_result"
    }
   ],
   "source": [
    "genre_df['genere'].value_counts()"
   ]
  },
  {
   "cell_type": "code",
   "execution_count": 12,
   "metadata": {},
   "outputs": [
    {
     "data": {
      "text/html": [
       "<div>\n",
       "<style scoped>\n",
       "    .dataframe tbody tr th:only-of-type {\n",
       "        vertical-align: middle;\n",
       "    }\n",
       "\n",
       "    .dataframe tbody tr th {\n",
       "        vertical-align: top;\n",
       "    }\n",
       "\n",
       "    .dataframe thead th {\n",
       "        text-align: right;\n",
       "    }\n",
       "</style>\n",
       "<table border=\"1\" class=\"dataframe\">\n",
       "  <thead>\n",
       "    <tr style=\"text-align: right;\">\n",
       "      <th></th>\n",
       "      <th>song_id</th>\n",
       "      <th>genere</th>\n",
       "      <th>320kbps</th>\n",
       "      <th>album</th>\n",
       "      <th>album_url</th>\n",
       "      <th>albumid</th>\n",
       "      <th>artistMap</th>\n",
       "      <th>cache_state</th>\n",
       "      <th>copyright_text</th>\n",
       "      <th>duration</th>\n",
       "      <th>...</th>\n",
       "      <th>rights</th>\n",
       "      <th>singers</th>\n",
       "      <th>song</th>\n",
       "      <th>starred</th>\n",
       "      <th>starring</th>\n",
       "      <th>triller_available</th>\n",
       "      <th>type</th>\n",
       "      <th>year</th>\n",
       "      <th>vcode</th>\n",
       "      <th>vlink</th>\n",
       "    </tr>\n",
       "  </thead>\n",
       "  <tbody>\n",
       "    <tr>\n",
       "      <th>0</th>\n",
       "      <td>Rock_PUjl7vs8</td>\n",
       "      <td>Rock</td>\n",
       "      <td>true</td>\n",
       "      <td>Jesus</td>\n",
       "      <td>https://www.jiosaavn.com/album/jesus/GekIXXJHXfU_</td>\n",
       "      <td>2457552</td>\n",
       "      <td>{'Chris Tomlin': '572982'}</td>\n",
       "      <td>false</td>\n",
       "      <td>℗ 2016 sixstepsrecords/Sparrow Records</td>\n",
       "      <td>249</td>\n",
       "      <td>...</td>\n",
       "      <td>{'cacheable': True, 'code': 0, 'delete_cached_...</td>\n",
       "      <td>Chris Tomlin</td>\n",
       "      <td>Jesus</td>\n",
       "      <td>false</td>\n",
       "      <td></td>\n",
       "      <td>False</td>\n",
       "      <td></td>\n",
       "      <td>2016</td>\n",
       "      <td>NaN</td>\n",
       "      <td>NaN</td>\n",
       "    </tr>\n",
       "    <tr>\n",
       "      <th>1</th>\n",
       "      <td>Rock_IPbuIHKX</td>\n",
       "      <td>Rock</td>\n",
       "      <td>true</td>\n",
       "      <td>The Dark Side of the Moon</td>\n",
       "      <td>https://www.jiosaavn.com/album/the-dark-side-o...</td>\n",
       "      <td>1707513</td>\n",
       "      <td>{'David Gilmour': '528009', 'Nick Mason': '584...</td>\n",
       "      <td>false</td>\n",
       "      <td>(P) 2016 The copyright in this sound recording...</td>\n",
       "      <td>418</td>\n",
       "      <td>...</td>\n",
       "      <td>{'cacheable': True, 'code': 0, 'delete_cached_...</td>\n",
       "      <td>Pink Floyd, David Gilmour, Nick Mason, Richard...</td>\n",
       "      <td>Time</td>\n",
       "      <td>false</td>\n",
       "      <td></td>\n",
       "      <td>False</td>\n",
       "      <td></td>\n",
       "      <td>1973</td>\n",
       "      <td>NaN</td>\n",
       "      <td>NaN</td>\n",
       "    </tr>\n",
       "    <tr>\n",
       "      <th>2</th>\n",
       "      <td>Rock_ifkMQ1jy</td>\n",
       "      <td>Rock</td>\n",
       "      <td>true</td>\n",
       "      <td>We Are The Champions (Raw Sessions Version)</td>\n",
       "      <td>https://www.jiosaavn.com/album/we-are-the-cham...</td>\n",
       "      <td>11597696</td>\n",
       "      <td>{'Queen': '527759'}</td>\n",
       "      <td>false</td>\n",
       "      <td>℗ 2017 Queen Productions Ltd, under exclusive ...</td>\n",
       "      <td>273</td>\n",
       "      <td>...</td>\n",
       "      <td>{'cacheable': True, 'code': 0, 'delete_cached_...</td>\n",
       "      <td>Queen</td>\n",
       "      <td>We Are The Champions (Alternative Version)</td>\n",
       "      <td>false</td>\n",
       "      <td></td>\n",
       "      <td>False</td>\n",
       "      <td></td>\n",
       "      <td>2017</td>\n",
       "      <td>NaN</td>\n",
       "      <td>NaN</td>\n",
       "    </tr>\n",
       "    <tr>\n",
       "      <th>3</th>\n",
       "      <td>Rock_ZKY9_R-U</td>\n",
       "      <td>Rock</td>\n",
       "      <td>true</td>\n",
       "      <td>Unleashed</td>\n",
       "      <td>https://www.jiosaavn.com/album/unleashed/-kwmr...</td>\n",
       "      <td>2502954</td>\n",
       "      <td>{'Skillet': '704751'}</td>\n",
       "      <td>false</td>\n",
       "      <td>℗ 2016 Atlantic Recording Corporation</td>\n",
       "      <td>232</td>\n",
       "      <td>...</td>\n",
       "      <td>{'cacheable': True, 'code': 0, 'delete_cached_...</td>\n",
       "      <td>Skillet</td>\n",
       "      <td>The Resistance</td>\n",
       "      <td>false</td>\n",
       "      <td></td>\n",
       "      <td>False</td>\n",
       "      <td></td>\n",
       "      <td>2016</td>\n",
       "      <td>NaN</td>\n",
       "      <td>NaN</td>\n",
       "    </tr>\n",
       "    <tr>\n",
       "      <th>4</th>\n",
       "      <td>Rock_nhn4ApPt</td>\n",
       "      <td>Rock</td>\n",
       "      <td>true</td>\n",
       "      <td>Wake Me up When September Ends (Live at Foxbor...</td>\n",
       "      <td>https://www.jiosaavn.com/album/wake-me-up-when...</td>\n",
       "      <td>1169546</td>\n",
       "      <td>{'Green Day': '645985'}</td>\n",
       "      <td>false</td>\n",
       "      <td>℗ 2005 Reprise Records</td>\n",
       "      <td>340</td>\n",
       "      <td>...</td>\n",
       "      <td>{'cacheable': True, 'code': 0, 'delete_cached_...</td>\n",
       "      <td>Green Day</td>\n",
       "      <td>Wake Me up When September Ends (Live at Foxbor...</td>\n",
       "      <td>false</td>\n",
       "      <td></td>\n",
       "      <td>False</td>\n",
       "      <td></td>\n",
       "      <td>2005</td>\n",
       "      <td>NaN</td>\n",
       "      <td>NaN</td>\n",
       "    </tr>\n",
       "  </tbody>\n",
       "</table>\n",
       "<p>5 rows × 42 columns</p>\n",
       "</div>"
      ],
      "text/plain": [
       "         song_id genere 320kbps  \\\n",
       "0  Rock_PUjl7vs8   Rock    true   \n",
       "1  Rock_IPbuIHKX   Rock    true   \n",
       "2  Rock_ifkMQ1jy   Rock    true   \n",
       "3  Rock_ZKY9_R-U   Rock    true   \n",
       "4  Rock_nhn4ApPt   Rock    true   \n",
       "\n",
       "                                               album  \\\n",
       "0                                              Jesus   \n",
       "1                          The Dark Side of the Moon   \n",
       "2        We Are The Champions (Raw Sessions Version)   \n",
       "3                                          Unleashed   \n",
       "4  Wake Me up When September Ends (Live at Foxbor...   \n",
       "\n",
       "                                           album_url   albumid  \\\n",
       "0  https://www.jiosaavn.com/album/jesus/GekIXXJHXfU_   2457552   \n",
       "1  https://www.jiosaavn.com/album/the-dark-side-o...   1707513   \n",
       "2  https://www.jiosaavn.com/album/we-are-the-cham...  11597696   \n",
       "3  https://www.jiosaavn.com/album/unleashed/-kwmr...   2502954   \n",
       "4  https://www.jiosaavn.com/album/wake-me-up-when...   1169546   \n",
       "\n",
       "                                           artistMap cache_state  \\\n",
       "0                         {'Chris Tomlin': '572982'}       false   \n",
       "1  {'David Gilmour': '528009', 'Nick Mason': '584...       false   \n",
       "2                                {'Queen': '527759'}       false   \n",
       "3                              {'Skillet': '704751'}       false   \n",
       "4                            {'Green Day': '645985'}       false   \n",
       "\n",
       "                                      copyright_text duration  ...  \\\n",
       "0             ℗ 2016 sixstepsrecords/Sparrow Records      249  ...   \n",
       "1  (P) 2016 The copyright in this sound recording...      418  ...   \n",
       "2  ℗ 2017 Queen Productions Ltd, under exclusive ...      273  ...   \n",
       "3              ℗ 2016 Atlantic Recording Corporation      232  ...   \n",
       "4                             ℗ 2005 Reprise Records      340  ...   \n",
       "\n",
       "                                              rights  \\\n",
       "0  {'cacheable': True, 'code': 0, 'delete_cached_...   \n",
       "1  {'cacheable': True, 'code': 0, 'delete_cached_...   \n",
       "2  {'cacheable': True, 'code': 0, 'delete_cached_...   \n",
       "3  {'cacheable': True, 'code': 0, 'delete_cached_...   \n",
       "4  {'cacheable': True, 'code': 0, 'delete_cached_...   \n",
       "\n",
       "                                             singers  \\\n",
       "0                                       Chris Tomlin   \n",
       "1  Pink Floyd, David Gilmour, Nick Mason, Richard...   \n",
       "2                                              Queen   \n",
       "3                                            Skillet   \n",
       "4                                          Green Day   \n",
       "\n",
       "                                                song starred starring  \\\n",
       "0                                              Jesus   false            \n",
       "1                                               Time   false            \n",
       "2         We Are The Champions (Alternative Version)   false            \n",
       "3                                     The Resistance   false            \n",
       "4  Wake Me up When September Ends (Live at Foxbor...   false            \n",
       "\n",
       "  triller_available type  year vcode vlink  \n",
       "0             False       2016   NaN   NaN  \n",
       "1             False       1973   NaN   NaN  \n",
       "2             False       2017   NaN   NaN  \n",
       "3             False       2016   NaN   NaN  \n",
       "4             False       2005   NaN   NaN  \n",
       "\n",
       "[5 rows x 42 columns]"
      ]
     },
     "execution_count": 12,
     "metadata": {},
     "output_type": "execute_result"
    }
   ],
   "source": [
    "genre_df.head()"
   ]
  },
  {
   "cell_type": "code",
   "execution_count": 13,
   "metadata": {},
   "outputs": [
    {
     "data": {
      "text/plain": [
       "Index(['song_id', 'genere', '320kbps', 'album', 'album_url', 'albumid',\n",
       "       'artistMap', 'cache_state', 'copyright_text', 'duration',\n",
       "       'encrypted_media_path', 'encrypted_media_url', 'explicit_content',\n",
       "       'featured_artists', 'featured_artists_id', 'has_lyrics', 'id', 'image',\n",
       "       'label', 'label_url', 'language', 'lyrics_snippet', 'media_preview_url',\n",
       "       'media_url', 'music', 'music_id', 'origin', 'perma_url', 'play_count',\n",
       "       'primary_artists', 'primary_artists_id', 'release_date', 'rights',\n",
       "       'singers', 'song', 'starred', 'starring', 'triller_available', 'type',\n",
       "       'year', 'vcode', 'vlink'],\n",
       "      dtype='object')"
      ]
     },
     "execution_count": 13,
     "metadata": {},
     "output_type": "execute_result"
    }
   ],
   "source": [
    "genre_df.columns"
   ]
  },
  {
   "cell_type": "code",
   "execution_count": 14,
   "metadata": {},
   "outputs": [],
   "source": [
    "# save the data into CSV\n",
    "genre_df.to_csv(paths['root_path'] + '/genre/genres_data.csv', index = False)"
   ]
  },
  {
   "cell_type": "code",
   "execution_count": 15,
   "metadata": {},
   "outputs": [
    {
     "name": "stderr",
     "output_type": "stream",
     "text": [
      "100%|██████████| 85/85 [05:36<00:00,  3.96s/it]\n"
     ]
    }
   ],
   "source": [
    "# downloading songs from a url and saving in mp4 format\n",
    "genre_mp4_mapping = dict(zip(genre_df['song_id'], genre_df['media_url']))\n",
    "for idx, url in tqdm(genre_mp4_mapping.items()):\n",
    "    try:\n",
    "        download_path = paths['root_path'] + '/genre/mp4/' + str(idx) +'.mp4'\n",
    "        req.urlretrieve(url, download_path)\n",
    "    except:\n",
    "        print('Error ocuured for Id:', idx)"
   ]
  },
  {
   "cell_type": "markdown",
   "metadata": {},
   "source": [
    "## Artists data collection and pre-processing"
   ]
  },
  {
   "cell_type": "code",
   "execution_count": 23,
   "metadata": {},
   "outputs": [],
   "source": [
    "# Reading artists_data \n",
    "with open(paths['root_path'] + '/artist/artists_data.json', 'r') as file:\n",
    "    artist_songs_collection = json.load(file)"
   ]
  },
  {
   "cell_type": "code",
   "execution_count": 24,
   "metadata": {},
   "outputs": [
    {
     "name": "stderr",
     "output_type": "stream",
     "text": [
      "C:\\Users\\npula\\Anaconda3\\lib\\site-packages\\ipykernel_launcher.py:9: FutureWarning: Sorting because non-concatenation axis is not aligned. A future version\n",
      "of pandas will change to not sort by default.\n",
      "\n",
      "To accept the future behavior, pass 'sort=False'.\n",
      "\n",
      "To retain the current behavior and silence the warning, pass 'sort=True'.\n",
      "\n",
      "  if __name__ == '__main__':\n"
     ]
    },
    {
     "data": {
      "text/plain": [
       "(130, 43)"
      ]
     },
     "execution_count": 24,
     "metadata": {},
     "output_type": "execute_result"
    }
   ],
   "source": [
    "# Converting genre_songs_collection into a data frame\n",
    "appended_data = []\n",
    "for artist_name, artist_songs_details in artist_songs_collection.items():\n",
    "    temp_df = pd.DataFrame.from_dict(artist_songs_details['songs'])\n",
    "    temp_df.insert(0, 'song_id', artist_name + '_' + temp_df['id'])\n",
    "    temp_df.insert(1, 'artist', artist_name)\n",
    "    appended_data.append(temp_df) # store DataFrame in list\n",
    "    \n",
    "artist_df = pd.concat(appended_data)\n",
    "artist_df.shape"
   ]
  },
  {
   "cell_type": "code",
   "execution_count": 25,
   "metadata": {},
   "outputs": [
    {
     "data": {
      "text/html": [
       "<div>\n",
       "<style scoped>\n",
       "    .dataframe tbody tr th:only-of-type {\n",
       "        vertical-align: middle;\n",
       "    }\n",
       "\n",
       "    .dataframe tbody tr th {\n",
       "        vertical-align: top;\n",
       "    }\n",
       "\n",
       "    .dataframe thead th {\n",
       "        text-align: right;\n",
       "    }\n",
       "</style>\n",
       "<table border=\"1\" class=\"dataframe\">\n",
       "  <thead>\n",
       "    <tr style=\"text-align: right;\">\n",
       "      <th></th>\n",
       "      <th>320kbps</th>\n",
       "      <th>album</th>\n",
       "      <th>album_url</th>\n",
       "      <th>albumid</th>\n",
       "      <th>artist</th>\n",
       "      <th>artistMap</th>\n",
       "      <th>cache_state</th>\n",
       "      <th>copyright_text</th>\n",
       "      <th>disabled</th>\n",
       "      <th>disabled_text</th>\n",
       "      <th>...</th>\n",
       "      <th>rights</th>\n",
       "      <th>singers</th>\n",
       "      <th>song</th>\n",
       "      <th>song_id</th>\n",
       "      <th>starred</th>\n",
       "      <th>starring</th>\n",
       "      <th>type</th>\n",
       "      <th>vcode</th>\n",
       "      <th>vlink</th>\n",
       "      <th>year</th>\n",
       "    </tr>\n",
       "  </thead>\n",
       "  <tbody>\n",
       "    <tr>\n",
       "      <th>0</th>\n",
       "      <td>true</td>\n",
       "      <td>Wolves</td>\n",
       "      <td>https://www.jiosaavn.com/album/wolves/8MDTQ3s3...</td>\n",
       "      <td>11686511</td>\n",
       "      <td>Selena Gomez</td>\n",
       "      <td>{'Marshmello': '862454', 'Selena Gomez': '6038...</td>\n",
       "      <td>false</td>\n",
       "      <td>℗ 2017 Interscope Records</td>\n",
       "      <td>true</td>\n",
       "      <td>Unavailable</td>\n",
       "      <td>...</td>\n",
       "      <td>{'cacheable': False, 'code': 1, 'delete_cached...</td>\n",
       "      <td>Selena Gomez, Marshmello</td>\n",
       "      <td>Wolves</td>\n",
       "      <td>Selena Gomez_2oWa2CKB</td>\n",
       "      <td>false</td>\n",
       "      <td></td>\n",
       "      <td></td>\n",
       "      <td>010912291154903</td>\n",
       "      <td>https://jiotunepreview.jio.com/content/Convert...</td>\n",
       "      <td>2017</td>\n",
       "    </tr>\n",
       "    <tr>\n",
       "      <th>1</th>\n",
       "      <td>true</td>\n",
       "      <td>It Ain't Me</td>\n",
       "      <td>https://www.jiosaavn.com/album/it-aint-me/b6tO...</td>\n",
       "      <td>10218145</td>\n",
       "      <td>Selena Gomez</td>\n",
       "      <td>{'Ali Tamposi': '566701', 'Andrew Watt': '7775...</td>\n",
       "      <td>false</td>\n",
       "      <td>(P) 2017 Kygo AS under exclusive license to So...</td>\n",
       "      <td>true</td>\n",
       "      <td>Unavailable</td>\n",
       "      <td>...</td>\n",
       "      <td>{'cacheable': False, 'code': 1, 'delete_cached...</td>\n",
       "      <td>Kygo, Selena Gomez, Kygo &amp; Selena Gomez</td>\n",
       "      <td>It Ain't Me</td>\n",
       "      <td>Selena Gomez_sEdO8hht</td>\n",
       "      <td>false</td>\n",
       "      <td></td>\n",
       "      <td></td>\n",
       "      <td>010910140587988</td>\n",
       "      <td>https://jiotunepreview.jio.com/content/Convert...</td>\n",
       "      <td>2017</td>\n",
       "    </tr>\n",
       "    <tr>\n",
       "      <th>2</th>\n",
       "      <td>true</td>\n",
       "      <td>Fetish</td>\n",
       "      <td>https://www.jiosaavn.com/album/fetish/XQagTr,l...</td>\n",
       "      <td>11164990</td>\n",
       "      <td>Selena Gomez</td>\n",
       "      <td>{'Gucci Mane': '634121', 'Selena Gomez': '6038...</td>\n",
       "      <td>false</td>\n",
       "      <td>℗ 2017 Interscope Records</td>\n",
       "      <td>true</td>\n",
       "      <td>Unavailable</td>\n",
       "      <td>...</td>\n",
       "      <td>{'cacheable': False, 'code': 1, 'delete_cached...</td>\n",
       "      <td>Selena Gomez, Gucci Mane</td>\n",
       "      <td>Fetish</td>\n",
       "      <td>Selena Gomez_hJBMcPcc</td>\n",
       "      <td>false</td>\n",
       "      <td></td>\n",
       "      <td></td>\n",
       "      <td>010912291154921</td>\n",
       "      <td>https://jiotunepreview.jio.com/content/Convert...</td>\n",
       "      <td>2017</td>\n",
       "    </tr>\n",
       "    <tr>\n",
       "      <th>3</th>\n",
       "      <td>true</td>\n",
       "      <td>13 Reasons Why (Season 2)</td>\n",
       "      <td>https://www.jiosaavn.com/album/13-reasons-why-...</td>\n",
       "      <td>12879128</td>\n",
       "      <td>Selena Gomez</td>\n",
       "      <td>{'Selena Gomez': '603812'}</td>\n",
       "      <td>false</td>\n",
       "      <td>℗ 2018 Interscope Records</td>\n",
       "      <td>true</td>\n",
       "      <td>Unavailable</td>\n",
       "      <td>...</td>\n",
       "      <td>{'cacheable': False, 'code': 1, 'delete_cached...</td>\n",
       "      <td>Selena Gomez</td>\n",
       "      <td>Back To You (From 13 Reasons Why â Season 2 ...</td>\n",
       "      <td>Selena Gomez_dXLuqVW9</td>\n",
       "      <td>false</td>\n",
       "      <td></td>\n",
       "      <td></td>\n",
       "      <td>010912291154241</td>\n",
       "      <td>https://jiotunepreview.jio.com/content/Convert...</td>\n",
       "      <td>2018</td>\n",
       "    </tr>\n",
       "    <tr>\n",
       "      <th>4</th>\n",
       "      <td>true</td>\n",
       "      <td>Bad Liar</td>\n",
       "      <td>https://www.jiosaavn.com/album/bad-liar/VPeCFo...</td>\n",
       "      <td>10842137</td>\n",
       "      <td>Selena Gomez</td>\n",
       "      <td>{'Selena Gomez': '603812'}</td>\n",
       "      <td>false</td>\n",
       "      <td>℗ 2017 Interscope Records</td>\n",
       "      <td>true</td>\n",
       "      <td>Unavailable</td>\n",
       "      <td>...</td>\n",
       "      <td>{'cacheable': False, 'code': 1, 'delete_cached...</td>\n",
       "      <td>Selena Gomez</td>\n",
       "      <td>Bad Liar</td>\n",
       "      <td>Selena Gomez_HWSf8WIh</td>\n",
       "      <td>false</td>\n",
       "      <td></td>\n",
       "      <td></td>\n",
       "      <td>010912291154897</td>\n",
       "      <td>https://jiotunepreview.jio.com/content/Convert...</td>\n",
       "      <td>2017</td>\n",
       "    </tr>\n",
       "  </tbody>\n",
       "</table>\n",
       "<p>5 rows × 43 columns</p>\n",
       "</div>"
      ],
      "text/plain": [
       "  320kbps                      album  \\\n",
       "0    true                     Wolves   \n",
       "1    true                It Ain't Me   \n",
       "2    true                     Fetish   \n",
       "3    true  13 Reasons Why (Season 2)   \n",
       "4    true                   Bad Liar   \n",
       "\n",
       "                                           album_url   albumid        artist  \\\n",
       "0  https://www.jiosaavn.com/album/wolves/8MDTQ3s3...  11686511  Selena Gomez   \n",
       "1  https://www.jiosaavn.com/album/it-aint-me/b6tO...  10218145  Selena Gomez   \n",
       "2  https://www.jiosaavn.com/album/fetish/XQagTr,l...  11164990  Selena Gomez   \n",
       "3  https://www.jiosaavn.com/album/13-reasons-why-...  12879128  Selena Gomez   \n",
       "4  https://www.jiosaavn.com/album/bad-liar/VPeCFo...  10842137  Selena Gomez   \n",
       "\n",
       "                                           artistMap cache_state  \\\n",
       "0  {'Marshmello': '862454', 'Selena Gomez': '6038...       false   \n",
       "1  {'Ali Tamposi': '566701', 'Andrew Watt': '7775...       false   \n",
       "2  {'Gucci Mane': '634121', 'Selena Gomez': '6038...       false   \n",
       "3                         {'Selena Gomez': '603812'}       false   \n",
       "4                         {'Selena Gomez': '603812'}       false   \n",
       "\n",
       "                                      copyright_text disabled disabled_text  \\\n",
       "0                          ℗ 2017 Interscope Records     true   Unavailable   \n",
       "1  (P) 2017 Kygo AS under exclusive license to So...     true   Unavailable   \n",
       "2                          ℗ 2017 Interscope Records     true   Unavailable   \n",
       "3                          ℗ 2018 Interscope Records     true   Unavailable   \n",
       "4                          ℗ 2017 Interscope Records     true   Unavailable   \n",
       "\n",
       "   ...                                             rights  \\\n",
       "0  ...  {'cacheable': False, 'code': 1, 'delete_cached...   \n",
       "1  ...  {'cacheable': False, 'code': 1, 'delete_cached...   \n",
       "2  ...  {'cacheable': False, 'code': 1, 'delete_cached...   \n",
       "3  ...  {'cacheable': False, 'code': 1, 'delete_cached...   \n",
       "4  ...  {'cacheable': False, 'code': 1, 'delete_cached...   \n",
       "\n",
       "                                   singers  \\\n",
       "0                 Selena Gomez, Marshmello   \n",
       "1  Kygo, Selena Gomez, Kygo & Selena Gomez   \n",
       "2                 Selena Gomez, Gucci Mane   \n",
       "3                             Selena Gomez   \n",
       "4                             Selena Gomez   \n",
       "\n",
       "                                                song                song_id  \\\n",
       "0                                             Wolves  Selena Gomez_2oWa2CKB   \n",
       "1                                        It Ain't Me  Selena Gomez_sEdO8hht   \n",
       "2                                             Fetish  Selena Gomez_hJBMcPcc   \n",
       "3  Back To You (From 13 Reasons Why â Season 2 ...  Selena Gomez_dXLuqVW9   \n",
       "4                                           Bad Liar  Selena Gomez_HWSf8WIh   \n",
       "\n",
       "  starred starring type            vcode  \\\n",
       "0   false                010912291154903   \n",
       "1   false                010910140587988   \n",
       "2   false                010912291154921   \n",
       "3   false                010912291154241   \n",
       "4   false                010912291154897   \n",
       "\n",
       "                                               vlink  year  \n",
       "0  https://jiotunepreview.jio.com/content/Convert...  2017  \n",
       "1  https://jiotunepreview.jio.com/content/Convert...  2017  \n",
       "2  https://jiotunepreview.jio.com/content/Convert...  2017  \n",
       "3  https://jiotunepreview.jio.com/content/Convert...  2018  \n",
       "4  https://jiotunepreview.jio.com/content/Convert...  2017  \n",
       "\n",
       "[5 rows x 43 columns]"
      ]
     },
     "execution_count": 25,
     "metadata": {},
     "output_type": "execute_result"
    }
   ],
   "source": [
    "artist_df.head()"
   ]
  },
  {
   "cell_type": "code",
   "execution_count": 26,
   "metadata": {},
   "outputs": [
    {
     "data": {
      "text/plain": [
       "Justin Bieber    32\n",
       "Drake            28\n",
       "Selena Gomez     28\n",
       "Adam Levine      27\n",
       "The Weeknd       15\n",
       "Name: artist, dtype: int64"
      ]
     },
     "execution_count": 26,
     "metadata": {},
     "output_type": "execute_result"
    }
   ],
   "source": [
    "artist_df['artist'].value_counts()"
   ]
  },
  {
   "cell_type": "code",
   "execution_count": 28,
   "metadata": {},
   "outputs": [],
   "source": [
    "# save the data into CSV\n",
    "artist_df.to_csv(paths['root_path'] + '/artist/artists_data.csv', index = False)"
   ]
  },
  {
   "cell_type": "code",
   "execution_count": 29,
   "metadata": {},
   "outputs": [
    {
     "name": "stderr",
     "output_type": "stream",
     "text": [
      "100%|██████████| 130/130 [09:26<00:00,  4.36s/it]\n"
     ]
    }
   ],
   "source": [
    "# downloading songs from a url and saving in mp3 format\n",
    "artist_mp4_mapping = dict(zip(artist_df['song_id'], artist_df['media_url']))\n",
    "for idx, url in tqdm(artist_mp4_mapping.items()):\n",
    "    try:\n",
    "        download_path = paths['root_path'] +'/artist/mp4/' + str(idx) +'.mp4'\n",
    "        req.urlretrieve(url, download_path)\n",
    "    except:\n",
    "        print('Error ocuured for Id:', idx)"
   ]
  },
  {
   "cell_type": "code",
   "execution_count": null,
   "metadata": {},
   "outputs": [],
   "source": []
  }
 ],
 "metadata": {
  "kernelspec": {
   "display_name": "Python 3",
   "language": "python",
   "name": "python3"
  },
  "language_info": {
   "codemirror_mode": {
    "name": "ipython",
    "version": 3
   },
   "file_extension": ".py",
   "mimetype": "text/x-python",
   "name": "python",
   "nbconvert_exporter": "python",
   "pygments_lexer": "ipython3",
   "version": "3.7.3"
  }
 },
 "nbformat": 4,
 "nbformat_minor": 4
}
