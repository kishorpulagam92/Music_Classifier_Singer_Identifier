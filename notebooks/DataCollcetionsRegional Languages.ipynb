{
 "cells": [
  {
   "cell_type": "markdown",
   "metadata": {},
   "source": [
    "## Data Collection from JioSavan for Telugu and Hindi Languages"
   ]
  },
  {
   "cell_type": "code",
   "execution_count": 1,
   "metadata": {},
   "outputs": [],
   "source": [
    "# importing required packaegs\n",
    "import pandas as pd\n",
    "import json\n",
    "import urllib.request as req\n",
    "import os\n",
    "from tqdm import tqdm"
   ]
  },
  {
   "cell_type": "code",
   "execution_count": 2,
   "metadata": {},
   "outputs": [],
   "source": [
    "# Defining urls for gener and artist playlists for Telugu language\n",
    "artist_telugu = {\n",
    "    'armaan':'https://www.jiosaavn.com/s/playlist/nirupamkumar783/Armaanmalik/-Bk0LScmHanuCJW60TJk1Q__',\n",
    "    'geetha':'https://www.jiosaavn.com/s/playlist/nirupamkumar783/Geetha/RVMkfEXHIXBieSJqt9HmOQ__',\n",
    "    'anurag':'https://www.jiosaavn.com/s/playlist/nirupamkumar783/Anurag/UEbEVNg4MnDfemJ68FuXsA__',\n",
    "    'sidsriram':'https://www.jiosaavn.com/s/playlist/nirupamkumar783/SidSriram/mf6uhpQYx9-femJ68FuXsA__',\n",
    "}\n",
    "genre_telugu = {\n",
    "    'romantic':'https://www.jiosaavn.com/s/playlist/nirupamkumar783/romantic_telugu/S9XlYCAY9MnuCJW60TJk1Q__',\n",
    "    'workout': 'https://www.jiosaavn.com/s/playlist/nirupamkumar783/workout_telugu/52dDXu76ew3femJ68FuXsA__',\n",
    "    'rock': 'https://www.jiosaavn.com/s/playlist/nirupamkumar783/rock_telugu/mdpU-D0Yfz3ufxkxMEIbIw__'\n",
    "}\n",
    "\n",
    " \n",
    "\n",
    "# Defining urls for gener and artist playlists for Hindi language\n",
    "artist_hindi = {\n",
    "    'sonunigam':'https://www.jiosaavn.com/s/playlist/nirupamkumar783/Sonunigam/XkR36glHnO2O0eMLZZxqsA__',\n",
    "    'arijit':'https://www.jiosaavn.com/s/playlist/nirupamkumar783/Arijit/NdU0h57FeuHuCJW60TJk1Q__',\n",
    "    'atifaslam':'https://www.jiosaavn.com/s/playlist/nirupamkumar783/Atifaslam/k-d-iYGE1mowkg5tVhI3fw__'    \n",
    "}\n",
    "genre_hindi = {\n",
    "    'workout':'https://www.jiosaavn.com/s/playlist/nirupamkumar783/workout/vksQVeaTrrVuOxiEGmm6lQ__',\n",
    "    'rock':'https://www.jiosaavn.com/s/playlist/nirupamkumar783/rock/iiH095xhtlHfemJ68FuXsA__',\n",
    "    'romantic': 'https://www.jiosaavn.com/s/playlist/nirupamkumar783/romantic_hindi/WLGabCRS6PhieSJqt9HmOQ__'\n",
    "}"
   ]
  },
  {
   "cell_type": "markdown",
   "metadata": {},
   "source": [
    "### Collecting audio data for Telugu language"
   ]
  },
  {
   "cell_type": "code",
   "execution_count": 3,
   "metadata": {},
   "outputs": [],
   "source": [
    "# Collecting defined geners and artistis songs related info and loading into a dictionary\n",
    "genre_songs_collection_telugu = dict()\n",
    "artist_songs_collection_telugu = dict()\n",
    "\n",
    "\n",
    "for genre_name, genre_url in genre_telugu.items():\n",
    "    savan_api_url = 'http://127.0.0.1:5000/playlist/?query=' + genre_url\n",
    "    with req.urlopen(savan_api_url) as url:\n",
    "        genre_songs_collection_telugu[genre_name] = json.loads(url.read().decode())\n",
    "        \n",
    "        \n",
    "for artist_name, artist_url in artist_telugu.items():\n",
    "    savan_api_url = 'http://127.0.0.1:5000/playlist/?query=' + artist_url \n",
    "    with req.urlopen(savan_api_url) as url:\n",
    "        artist_songs_collection_telugu[artist_name] = json.loads(url.read().decode())"
   ]
  },
  {
   "cell_type": "code",
   "execution_count": 4,
   "metadata": {},
   "outputs": [],
   "source": [
    "# Setting up the folders\n",
    "\n",
    "paths ={\n",
    "    'root_path': 'JioSavan Data/Telugu',\n",
    "    'genre_mp3_path' : 'JioSavan Data/Telugu/genre/mp4',\n",
    "    'genre_wav_path' : 'JioSavan Data/Telugu/genre/wav',\n",
    "    'artist_mp3_path' : 'JioSavan Data/Telugu/artist/mp4',\n",
    "    'artist_wav_path' : 'JioSavan Data/Telugu/artist/wav',\n",
    "}\n",
    "\n",
    "for name, path in paths.items():\n",
    "    if not os.path.exists(path):\n",
    "        os.makedirs(path)"
   ]
  },
  {
   "cell_type": "code",
   "execution_count": 5,
   "metadata": {},
   "outputs": [
    {
     "name": "stdout",
     "output_type": "stream",
     "text": [
      "romantic : 25\n",
      "workout : 24\n",
      "rock : 13\n"
     ]
    }
   ],
   "source": [
    "# Checking how many songs present for each genre\n",
    "for k,v in genre_songs_collection_telugu.items():\n",
    "    try:\n",
    "        print(k,':' ,len(v['songs']))\n",
    "    except:\n",
    "        print(k)"
   ]
  },
  {
   "cell_type": "code",
   "execution_count": 6,
   "metadata": {},
   "outputs": [
    {
     "name": "stdout",
     "output_type": "stream",
     "text": [
      "armaan : 15\n",
      "geetha : 23\n",
      "anurag : 10\n",
      "sidsriram : 8\n"
     ]
    }
   ],
   "source": [
    "# Checking how many songs present for each genre\n",
    "for k,v in artist_songs_collection_telugu.items():\n",
    "    try:\n",
    "        print(k,':' ,len(v['songs']))\n",
    "    except:\n",
    "        print(k)"
   ]
  },
  {
   "cell_type": "code",
   "execution_count": 9,
   "metadata": {},
   "outputs": [],
   "source": [
    "# saving the collced info\n",
    "with open(paths['root_path'] + '/genre/genres_data.json', 'w') as outfile:\n",
    "    json.dump(genre_songs_collection_telugu, outfile)\n",
    "    \n",
    "with open(paths['root_path'] + '/artist/artists_data.json', 'w') as outfile:\n",
    "    json.dump(artist_songs_collection_telugu, outfile)"
   ]
  },
  {
   "cell_type": "markdown",
   "metadata": {},
   "source": [
    "### Data collection and pre-processing for Telugu genres"
   ]
  },
  {
   "cell_type": "code",
   "execution_count": 28,
   "metadata": {},
   "outputs": [],
   "source": [
    "#Redaing data from saved files\n",
    "with open(paths['root_path'] + '/genre/genres_data.json', 'r') as file:\n",
    "    genre_songs_collection = json.load(file)"
   ]
  },
  {
   "cell_type": "code",
   "execution_count": 29,
   "metadata": {},
   "outputs": [
    {
     "data": {
      "text/plain": [
       "(62, 43)"
      ]
     },
     "execution_count": 29,
     "metadata": {},
     "output_type": "execute_result"
    }
   ],
   "source": [
    "# Converting genre_songs_collection into a data frame\n",
    "\n",
    "appended_data = []\n",
    "for genre_type, genre_songs_details in genre_songs_collection.items():\n",
    "    if genre_type != 'Electronic' :\n",
    "        temp_df = pd.DataFrame.from_dict(genre_songs_details['songs'])\n",
    "        #temp_df['genere'] = genre_type\n",
    "        temp_df.insert(0, 'song_id', genre_type + '_' + temp_df['id'])\n",
    "        temp_df.insert(1, 'genere', genre_type)\n",
    "        appended_data.append(temp_df) # store DataFrame in list \n",
    "genre_df = pd.concat(appended_data)\n",
    "genre_df.shape"
   ]
  },
  {
   "cell_type": "code",
   "execution_count": 30,
   "metadata": {},
   "outputs": [
    {
     "data": {
      "text/plain": [
       "romantic    25\n",
       "workout     24\n",
       "rock        13\n",
       "Name: genere, dtype: int64"
      ]
     },
     "execution_count": 30,
     "metadata": {},
     "output_type": "execute_result"
    }
   ],
   "source": [
    "genre_df['genere'].value_counts()"
   ]
  },
  {
   "cell_type": "code",
   "execution_count": 31,
   "metadata": {},
   "outputs": [],
   "source": [
    "#save the data into CSV\n",
    "genre_df.to_csv(paths['root_path'] + '/genre/genres_data.csv', index = False)"
   ]
  },
  {
   "cell_type": "code",
   "execution_count": 32,
   "metadata": {},
   "outputs": [
    {
     "name": "stderr",
     "output_type": "stream",
     "text": [
      "100%|██████████| 62/62 [06:11<00:00,  5.99s/it]\n"
     ]
    }
   ],
   "source": [
    "# downloading songs from a url and saving in mp4 format\n",
    "genre_mp4_mapping = dict(zip(genre_df['song_id'], genre_df['media_url']))\n",
    "for idx, url in tqdm(genre_mp4_mapping.items()):\n",
    "    try:\n",
    "        download_path = paths['root_path'] + '/genre/mp4/' + str(idx) +'.mp4'\n",
    "        req.urlretrieve(url, download_path)\n",
    "    except:\n",
    "        print('Error ocuured for Id:', idx)"
   ]
  },
  {
   "cell_type": "markdown",
   "metadata": {},
   "source": [
    "### Data collection and pre-processing Artist - Telugu"
   ]
  },
  {
   "cell_type": "code",
   "execution_count": 33,
   "metadata": {},
   "outputs": [],
   "source": [
    "# Reading artists_data \n",
    "with open(paths['root_path'] + '/artist/artists_data.json', 'r') as file:\n",
    "    artist_songs_collection = json.load(file)"
   ]
  },
  {
   "cell_type": "code",
   "execution_count": 34,
   "metadata": {},
   "outputs": [
    {
     "data": {
      "text/plain": [
       "(56, 41)"
      ]
     },
     "execution_count": 34,
     "metadata": {},
     "output_type": "execute_result"
    }
   ],
   "source": [
    "# Converting genre_songs_collection into a data frame\n",
    "appended_data = []\n",
    "for artist_name, artist_songs_details in artist_songs_collection.items():\n",
    "    temp_df = pd.DataFrame.from_dict(artist_songs_details['songs'])\n",
    "    temp_df.insert(0, 'song_id', artist_name + '_' + temp_df['id'])\n",
    "    temp_df.insert(1, 'artist', artist_name)\n",
    "    appended_data.append(temp_df) # store DataFrame in list\n",
    "    \n",
    "artist_df = pd.concat(appended_data)\n",
    "artist_df.shape"
   ]
  },
  {
   "cell_type": "code",
   "execution_count": 35,
   "metadata": {},
   "outputs": [
    {
     "data": {
      "text/plain": [
       "geetha       23\n",
       "armaan       15\n",
       "anurag       10\n",
       "sidsriram     8\n",
       "Name: artist, dtype: int64"
      ]
     },
     "execution_count": 35,
     "metadata": {},
     "output_type": "execute_result"
    }
   ],
   "source": [
    "artist_df['artist'].value_counts()"
   ]
  },
  {
   "cell_type": "code",
   "execution_count": 36,
   "metadata": {},
   "outputs": [],
   "source": [
    "# save the data into CSV\n",
    "artist_df.to_csv(paths['root_path'] + '/artist/artists_data.csv', index = False)"
   ]
  },
  {
   "cell_type": "code",
   "execution_count": 37,
   "metadata": {},
   "outputs": [
    {
     "name": "stderr",
     "output_type": "stream",
     "text": [
      "100%|██████████| 56/56 [05:28<00:00,  5.87s/it]\n"
     ]
    }
   ],
   "source": [
    "# downloading songs from a url and saving in mp3 format\n",
    "artist_mp4_mapping = dict(zip(artist_df['song_id'], artist_df['media_url']))\n",
    "for idx, url in tqdm(artist_mp4_mapping.items()):\n",
    "    try:\n",
    "        download_path = paths['root_path'] +'/artist/mp4/' + str(idx) +'.mp4'\n",
    "        req.urlretrieve(url, download_path)\n",
    "    except:\n",
    "        print('Error ocuured for Id:', idx)"
   ]
  },
  {
   "cell_type": "markdown",
   "metadata": {},
   "source": [
    "### Collectting audio data for Hindi language"
   ]
  },
  {
   "cell_type": "code",
   "execution_count": 10,
   "metadata": {},
   "outputs": [],
   "source": [
    "# Collecting defined geners and artistis songs related info and loading into a dictionary\n",
    "genre_songs_collection_hindi = dict()\n",
    "artist_songs_collection_hindi = dict()\n",
    "\n",
    "\n",
    "for genre_name, genre_url in genre_hindi.items():\n",
    "    #savan_api_url = 'http://127.0.0.1:5000/playlist/?query=' + genre_url + '&lyrics=true'\n",
    "    savan_api_url = 'http://127.0.0.1:5000/playlist/?query=' + genre_url\n",
    "    with req.urlopen(savan_api_url) as url:\n",
    "        genre_songs_collection_hindi[genre_name] = json.loads(url.read().decode())\n",
    "        \n",
    "for artist_name, artist_url in artist_hindi.items():\n",
    "    #savan_api_url = 'http://127.0.0.1:5000/playlist/?query=' + artist_url + '&lyrics=true'\n",
    "    savan_api_url = 'http://127.0.0.1:5000/playlist/?query=' + artist_url \n",
    "    with req.urlopen(savan_api_url) as url:\n",
    "        artist_songs_collection_hindi[artist_name] = json.loads(url.read().decode())"
   ]
  },
  {
   "cell_type": "code",
   "execution_count": 11,
   "metadata": {},
   "outputs": [],
   "source": [
    "# Setting up the folders\n",
    "\n",
    "paths ={\n",
    "    'root_path': 'JioSavan Data/Hindi',\n",
    "    'genre_mp3_path' : 'JioSavan Data/Hindi/genre/mp4',\n",
    "    'genre_wav_path' : 'JioSavan Data/Hindi/genre/wav',\n",
    "    'artist_mp3_path' : 'JioSavan Data/Hindi/artist/mp4',\n",
    "    'artist_wav_path' : 'JioSavan Data/Hindi/artist/wav',\n",
    "}\n",
    "\n",
    "for name, path in paths.items():\n",
    "    if not os.path.exists(path):\n",
    "        os.makedirs(path)"
   ]
  },
  {
   "cell_type": "code",
   "execution_count": 12,
   "metadata": {},
   "outputs": [
    {
     "name": "stdout",
     "output_type": "stream",
     "text": [
      "workout : 20\n",
      "rock : 16\n",
      "romantic : 16\n"
     ]
    }
   ],
   "source": [
    "# Checking how many songs present for each genre\n",
    "for k,v in genre_songs_collection_hindi.items():\n",
    "    try:\n",
    "        print(k,':' ,len(v['songs']))\n",
    "    except:\n",
    "        print(k)"
   ]
  },
  {
   "cell_type": "code",
   "execution_count": 13,
   "metadata": {},
   "outputs": [
    {
     "name": "stdout",
     "output_type": "stream",
     "text": [
      "sonunigam : 20\n",
      "arijit : 20\n",
      "atifaslam : 20\n"
     ]
    }
   ],
   "source": [
    "# Checking how many songs present for each genre\n",
    "for k,v in artist_songs_collection_hindi.items():\n",
    "    try:\n",
    "        print(k,':' ,len(v['songs']))\n",
    "    except:\n",
    "        print(k)"
   ]
  },
  {
   "cell_type": "code",
   "execution_count": 14,
   "metadata": {},
   "outputs": [],
   "source": [
    "# saving the collced info\n",
    "with open(paths['root_path'] + '/genre/genres_data.json', 'w') as outfile:\n",
    "    json.dump(genre_songs_collection_hindi, outfile)\n",
    "    \n",
    "with open(paths['root_path'] + '/artist/artists_data.json', 'w') as outfile:\n",
    "    json.dump(artist_songs_collection_hindi, outfile)"
   ]
  },
  {
   "cell_type": "markdown",
   "metadata": {},
   "source": [
    "### Data collection and pre-processing Hindi - Genre"
   ]
  },
  {
   "cell_type": "code",
   "execution_count": 15,
   "metadata": {},
   "outputs": [],
   "source": [
    "#Redaing data from saved files\n",
    "with open(paths['root_path'] + '/genre/genres_data.json', 'r') as file:\n",
    "    genre_songs_collection = json.load(file)"
   ]
  },
  {
   "cell_type": "code",
   "execution_count": 16,
   "metadata": {},
   "outputs": [
    {
     "data": {
      "text/plain": [
       "(52, 43)"
      ]
     },
     "execution_count": 16,
     "metadata": {},
     "output_type": "execute_result"
    }
   ],
   "source": [
    "# Converting genre_songs_collection into a data frame\n",
    "\n",
    "appended_data = []\n",
    "for genre_type, genre_songs_details in genre_songs_collection.items():\n",
    "    if genre_type != 'Electronic' :\n",
    "        temp_df = pd.DataFrame.from_dict(genre_songs_details['songs'])\n",
    "        #temp_df['genere'] = genre_type\n",
    "        temp_df.insert(0, 'song_id', genre_type + '_' + temp_df['id'])\n",
    "        temp_df.insert(1, 'genere', genre_type)\n",
    "        appended_data.append(temp_df) # store DataFrame in list \n",
    "genre_df = pd.concat(appended_data)\n",
    "genre_df.shape"
   ]
  },
  {
   "cell_type": "code",
   "execution_count": 17,
   "metadata": {},
   "outputs": [
    {
     "data": {
      "text/plain": [
       "workout     20\n",
       "romantic    16\n",
       "rock        16\n",
       "Name: genere, dtype: int64"
      ]
     },
     "execution_count": 17,
     "metadata": {},
     "output_type": "execute_result"
    }
   ],
   "source": [
    "genre_df['genere'].value_counts()"
   ]
  },
  {
   "cell_type": "code",
   "execution_count": 18,
   "metadata": {},
   "outputs": [
    {
     "data": {
      "text/html": [
       "<div>\n",
       "<style scoped>\n",
       "    .dataframe tbody tr th:only-of-type {\n",
       "        vertical-align: middle;\n",
       "    }\n",
       "\n",
       "    .dataframe tbody tr th {\n",
       "        vertical-align: top;\n",
       "    }\n",
       "\n",
       "    .dataframe thead th {\n",
       "        text-align: right;\n",
       "    }\n",
       "</style>\n",
       "<table border=\"1\" class=\"dataframe\">\n",
       "  <thead>\n",
       "    <tr style=\"text-align: right;\">\n",
       "      <th></th>\n",
       "      <th>song_id</th>\n",
       "      <th>genere</th>\n",
       "      <th>320kbps</th>\n",
       "      <th>album</th>\n",
       "      <th>album_url</th>\n",
       "      <th>albumid</th>\n",
       "      <th>artistMap</th>\n",
       "      <th>cache_state</th>\n",
       "      <th>copyright_text</th>\n",
       "      <th>duration</th>\n",
       "      <th>...</th>\n",
       "      <th>singers</th>\n",
       "      <th>song</th>\n",
       "      <th>starred</th>\n",
       "      <th>starring</th>\n",
       "      <th>type</th>\n",
       "      <th>vcode</th>\n",
       "      <th>vlink</th>\n",
       "      <th>year</th>\n",
       "      <th>disabled</th>\n",
       "      <th>disabled_text</th>\n",
       "    </tr>\n",
       "  </thead>\n",
       "  <tbody>\n",
       "    <tr>\n",
       "      <th>0</th>\n",
       "      <td>workout_ptVsuhLj</td>\n",
       "      <td>workout</td>\n",
       "      <td>true</td>\n",
       "      <td>Garmi (From 'Street Dancer 3D')</td>\n",
       "      <td>https://www.jiosaavn.com/album/garmi-from-stre...</td>\n",
       "      <td>18434002</td>\n",
       "      <td>{'Badshah': '456863', 'Neha Kakkar': '464932',...</td>\n",
       "      <td>false</td>\n",
       "      <td>℗ 2019 Super Cassettes Industries Private Limited</td>\n",
       "      <td>182</td>\n",
       "      <td>...</td>\n",
       "      <td>Neha Kakkar, Badshah</td>\n",
       "      <td>Garmi</td>\n",
       "      <td>false</td>\n",
       "      <td>Varun Dhawan, Prabhu Deva, Shraddha Kapoor, No...</td>\n",
       "      <td></td>\n",
       "      <td>010910091082929</td>\n",
       "      <td>https://jiotunepreview.jio.com/content/Convert...</td>\n",
       "      <td>2019</td>\n",
       "      <td>NaN</td>\n",
       "      <td>NaN</td>\n",
       "    </tr>\n",
       "    <tr>\n",
       "      <th>1</th>\n",
       "      <td>workout_9xnr1G5u</td>\n",
       "      <td>workout</td>\n",
       "      <td>true</td>\n",
       "      <td>Baar Baar Dekho</td>\n",
       "      <td>https://www.jiosaavn.com/album/baar-baar-dekho...</td>\n",
       "      <td>2480284</td>\n",
       "      <td>{'Amar Arshi': '457728', 'Amrik Singh': '54578...</td>\n",
       "      <td>false</td>\n",
       "      <td>Zee Music Company</td>\n",
       "      <td>187</td>\n",
       "      <td>...</td>\n",
       "      <td>Amar Arshi, Badshah, Neha Kakkar</td>\n",
       "      <td>Kala Chashma</td>\n",
       "      <td>false</td>\n",
       "      <td>Sidharth Malhotra, Katrina Kaif, Sarika, Ram K...</td>\n",
       "      <td></td>\n",
       "      <td>010910440266684</td>\n",
       "      <td>https://jiotunepreview.jio.com/content/Convert...</td>\n",
       "      <td>2016</td>\n",
       "      <td>NaN</td>\n",
       "      <td>NaN</td>\n",
       "    </tr>\n",
       "    <tr>\n",
       "      <th>2</th>\n",
       "      <td>workout_yshGBwsU</td>\n",
       "      <td>workout</td>\n",
       "      <td>true</td>\n",
       "      <td>Befikre</td>\n",
       "      <td>https://www.jiosaavn.com/album/befikre/0J-8H55...</td>\n",
       "      <td>2652003</td>\n",
       "      <td>{'Arijit Singh': '459320', 'Caralisa Monteiro'...</td>\n",
       "      <td>false</td>\n",
       "      <td>© 2016 YRF Music</td>\n",
       "      <td>237</td>\n",
       "      <td>...</td>\n",
       "      <td>Arijit Singh, Caralisa Monteiro</td>\n",
       "      <td>Nashe Si Chadh Gayi</td>\n",
       "      <td>false</td>\n",
       "      <td>Ranveer Singh, Vaani Kapoor</td>\n",
       "      <td></td>\n",
       "      <td>010910390528186</td>\n",
       "      <td>https://jiotunepreview.jio.com/content/Convert...</td>\n",
       "      <td>2016</td>\n",
       "      <td>NaN</td>\n",
       "      <td>NaN</td>\n",
       "    </tr>\n",
       "    <tr>\n",
       "      <th>3</th>\n",
       "      <td>workout_Xo1Z1OwW</td>\n",
       "      <td>workout</td>\n",
       "      <td>true</td>\n",
       "      <td>Raabta</td>\n",
       "      <td>https://www.jiosaavn.com/album/raabta/CKUSdZyu...</td>\n",
       "      <td>10660301</td>\n",
       "      <td>{'Amitabh Bhattacharya': '458681', 'Arijit Sin...</td>\n",
       "      <td>false</td>\n",
       "      <td>© 2017 T-Series</td>\n",
       "      <td>275</td>\n",
       "      <td>...</td>\n",
       "      <td>Arijit Singh</td>\n",
       "      <td>Ik Vaari Aa</td>\n",
       "      <td>false</td>\n",
       "      <td>Sushant Singh Rajput, Kriti Sanon, Jim Sarbh, ...</td>\n",
       "      <td></td>\n",
       "      <td>010910090619276</td>\n",
       "      <td>https://jiotunepreview.jio.com/content/Convert...</td>\n",
       "      <td>2017</td>\n",
       "      <td>NaN</td>\n",
       "      <td>NaN</td>\n",
       "    </tr>\n",
       "    <tr>\n",
       "      <th>4</th>\n",
       "      <td>workout_3ERwm_MU</td>\n",
       "      <td>workout</td>\n",
       "      <td>true</td>\n",
       "      <td>Shivaay</td>\n",
       "      <td>https://www.jiosaavn.com/album/shivaay/BNW4dXY...</td>\n",
       "      <td>2659075</td>\n",
       "      <td>{'Abigail Eames': '2134917', 'Ajay Devgn': '46...</td>\n",
       "      <td>false</td>\n",
       "      <td>© 2016 T-Series</td>\n",
       "      <td>374</td>\n",
       "      <td>...</td>\n",
       "      <td>Mithoon, Mohit Chauhan, Sukhwinder Singh, Bads...</td>\n",
       "      <td>Bolo Har Har Har</td>\n",
       "      <td>false</td>\n",
       "      <td>Ajay Devgn, Sayyeshaa, Erika Kaar, Abigail Eam...</td>\n",
       "      <td></td>\n",
       "      <td>010910090345218</td>\n",
       "      <td>https://jiotunepreview.jio.com/content/Convert...</td>\n",
       "      <td>2016</td>\n",
       "      <td>NaN</td>\n",
       "      <td>NaN</td>\n",
       "    </tr>\n",
       "  </tbody>\n",
       "</table>\n",
       "<p>5 rows × 43 columns</p>\n",
       "</div>"
      ],
      "text/plain": [
       "            song_id   genere 320kbps                            album  \\\n",
       "0  workout_ptVsuhLj  workout    true  Garmi (From 'Street Dancer 3D')   \n",
       "1  workout_9xnr1G5u  workout    true                  Baar Baar Dekho   \n",
       "2  workout_yshGBwsU  workout    true                          Befikre   \n",
       "3  workout_Xo1Z1OwW  workout    true                           Raabta   \n",
       "4  workout_3ERwm_MU  workout    true                          Shivaay   \n",
       "\n",
       "                                           album_url   albumid  \\\n",
       "0  https://www.jiosaavn.com/album/garmi-from-stre...  18434002   \n",
       "1  https://www.jiosaavn.com/album/baar-baar-dekho...   2480284   \n",
       "2  https://www.jiosaavn.com/album/befikre/0J-8H55...   2652003   \n",
       "3  https://www.jiosaavn.com/album/raabta/CKUSdZyu...  10660301   \n",
       "4  https://www.jiosaavn.com/album/shivaay/BNW4dXY...   2659075   \n",
       "\n",
       "                                           artistMap cache_state  \\\n",
       "0  {'Badshah': '456863', 'Neha Kakkar': '464932',...       false   \n",
       "1  {'Amar Arshi': '457728', 'Amrik Singh': '54578...       false   \n",
       "2  {'Arijit Singh': '459320', 'Caralisa Monteiro'...       false   \n",
       "3  {'Amitabh Bhattacharya': '458681', 'Arijit Sin...       false   \n",
       "4  {'Abigail Eames': '2134917', 'Ajay Devgn': '46...       false   \n",
       "\n",
       "                                      copyright_text duration  ...  \\\n",
       "0  ℗ 2019 Super Cassettes Industries Private Limited      182  ...   \n",
       "1                                  Zee Music Company      187  ...   \n",
       "2                                   © 2016 YRF Music      237  ...   \n",
       "3                                    © 2017 T-Series      275  ...   \n",
       "4                                    © 2016 T-Series      374  ...   \n",
       "\n",
       "                                             singers                 song  \\\n",
       "0                               Neha Kakkar, Badshah                Garmi   \n",
       "1                   Amar Arshi, Badshah, Neha Kakkar         Kala Chashma   \n",
       "2                    Arijit Singh, Caralisa Monteiro  Nashe Si Chadh Gayi   \n",
       "3                                       Arijit Singh          Ik Vaari Aa   \n",
       "4  Mithoon, Mohit Chauhan, Sukhwinder Singh, Bads...     Bolo Har Har Har   \n",
       "\n",
       "   starred                                           starring type  \\\n",
       "0    false  Varun Dhawan, Prabhu Deva, Shraddha Kapoor, No...        \n",
       "1    false  Sidharth Malhotra, Katrina Kaif, Sarika, Ram K...        \n",
       "2    false                        Ranveer Singh, Vaani Kapoor        \n",
       "3    false  Sushant Singh Rajput, Kriti Sanon, Jim Sarbh, ...        \n",
       "4    false  Ajay Devgn, Sayyeshaa, Erika Kaar, Abigail Eam...        \n",
       "\n",
       "             vcode                                              vlink  year  \\\n",
       "0  010910091082929  https://jiotunepreview.jio.com/content/Convert...  2019   \n",
       "1  010910440266684  https://jiotunepreview.jio.com/content/Convert...  2016   \n",
       "2  010910390528186  https://jiotunepreview.jio.com/content/Convert...  2016   \n",
       "3  010910090619276  https://jiotunepreview.jio.com/content/Convert...  2017   \n",
       "4  010910090345218  https://jiotunepreview.jio.com/content/Convert...  2016   \n",
       "\n",
       "  disabled disabled_text  \n",
       "0      NaN           NaN  \n",
       "1      NaN           NaN  \n",
       "2      NaN           NaN  \n",
       "3      NaN           NaN  \n",
       "4      NaN           NaN  \n",
       "\n",
       "[5 rows x 43 columns]"
      ]
     },
     "execution_count": 18,
     "metadata": {},
     "output_type": "execute_result"
    }
   ],
   "source": [
    "genre_df.head()"
   ]
  },
  {
   "cell_type": "code",
   "execution_count": 20,
   "metadata": {},
   "outputs": [],
   "source": [
    "#save the data into CSV\n",
    "genre_df.to_csv(paths['root_path'] + '/genre/genres_data.csv', index = False)"
   ]
  },
  {
   "cell_type": "code",
   "execution_count": 21,
   "metadata": {},
   "outputs": [
    {
     "name": "stderr",
     "output_type": "stream",
     "text": [
      "100%|██████████| 52/52 [03:08<00:00,  3.63s/it]\n"
     ]
    }
   ],
   "source": [
    "# downloading songs from a url and saving in mp4 format\n",
    "genre_mp4_mapping = dict(zip(genre_df['song_id'], genre_df['media_url']))\n",
    "for idx, url in tqdm(genre_mp4_mapping.items()):\n",
    "    try:\n",
    "        download_path = paths['root_path'] + '/genre/mp4/' + str(idx) +'.mp4'\n",
    "        req.urlretrieve(url, download_path)\n",
    "    except:\n",
    "        print('Error ocuured for Id:', idx)"
   ]
  },
  {
   "cell_type": "markdown",
   "metadata": {},
   "source": [
    "### Data collection and pre-processing Hindi -Artist"
   ]
  },
  {
   "cell_type": "code",
   "execution_count": 22,
   "metadata": {},
   "outputs": [],
   "source": [
    "# Reading artists_data \n",
    "with open(paths['root_path'] + '/artist/artists_data.json', 'r') as file:\n",
    "    artist_songs_collection = json.load(file)"
   ]
  },
  {
   "cell_type": "code",
   "execution_count": 23,
   "metadata": {},
   "outputs": [
    {
     "data": {
      "text/plain": [
       "(60, 41)"
      ]
     },
     "execution_count": 23,
     "metadata": {},
     "output_type": "execute_result"
    }
   ],
   "source": [
    "# Converting genre_songs_collection into a data frame\n",
    "appended_data = []\n",
    "for artist_name, artist_songs_details in artist_songs_collection.items():\n",
    "    temp_df = pd.DataFrame.from_dict(artist_songs_details['songs'])\n",
    "    temp_df.insert(0, 'song_id', artist_name + '_' + temp_df['id'])\n",
    "    temp_df.insert(1, 'artist', artist_name)\n",
    "    appended_data.append(temp_df) # store DataFrame in list\n",
    "    \n",
    "artist_df = pd.concat(appended_data)\n",
    "artist_df.shape"
   ]
  },
  {
   "cell_type": "code",
   "execution_count": 24,
   "metadata": {},
   "outputs": [
    {
     "data": {
      "text/plain": [
       "arijit       20\n",
       "sonunigam    20\n",
       "atifaslam    20\n",
       "Name: artist, dtype: int64"
      ]
     },
     "execution_count": 24,
     "metadata": {},
     "output_type": "execute_result"
    }
   ],
   "source": [
    "artist_df['artist'].value_counts()"
   ]
  },
  {
   "cell_type": "code",
   "execution_count": 25,
   "metadata": {},
   "outputs": [],
   "source": [
    "# save the data into CSV\n",
    "artist_df.to_csv(paths['root_path'] + '/artist/artists_data.csv', index = False)"
   ]
  },
  {
   "cell_type": "code",
   "execution_count": 26,
   "metadata": {},
   "outputs": [
    {
     "name": "stderr",
     "output_type": "stream",
     "text": [
      "100%|██████████| 60/60 [04:14<00:00,  4.25s/it]\n"
     ]
    }
   ],
   "source": [
    "# downloading songs from a url and saving in mp3 format\n",
    "artist_mp4_mapping = dict(zip(artist_df['song_id'], artist_df['media_url']))\n",
    "for idx, url in tqdm(artist_mp4_mapping.items()):\n",
    "    try:\n",
    "        download_path = paths['root_path'] +'/artist/mp4/' + str(idx) +'.mp4'\n",
    "        req.urlretrieve(url, download_path)\n",
    "    except:\n",
    "        print('Error ocuured for Id:', idx)"
   ]
  },
  {
   "cell_type": "code",
   "execution_count": null,
   "metadata": {},
   "outputs": [],
   "source": []
  }
 ],
 "metadata": {
  "kernelspec": {
   "display_name": "Python 3",
   "language": "python",
   "name": "python3"
  },
  "language_info": {
   "codemirror_mode": {
    "name": "ipython",
    "version": 3
   },
   "file_extension": ".py",
   "mimetype": "text/x-python",
   "name": "python",
   "nbconvert_exporter": "python",
   "pygments_lexer": "ipython3",
   "version": "3.7.3"
  }
 },
 "nbformat": 4,
 "nbformat_minor": 4
}
