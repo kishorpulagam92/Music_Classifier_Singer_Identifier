{
 "cells": [
  {
   "cell_type": "code",
   "execution_count": 1,
   "metadata": {},
   "outputs": [],
   "source": [
    "from sklearn.model_selection import train_test_split, GridSearchCV\n",
    "from sklearn.svm import SVC\n",
    "from sklearn.neighbors import KNeighborsClassifier\n",
    "from sklearn.metrics import accuracy_score, precision_score, recall_score, f1_score, precision_recall_curve, roc_curve\n",
    "from sklearn.pipeline import Pipeline\n",
    "from yellowbrick.classifier import PrecisionRecallCurve\n",
    "from yellowbrick.classifier.rocauc import roc_auc\n",
    "\n",
    "import pandas as pd\n",
    "import numpy as np\n",
    "import sklearn.metrics as metrics\n",
    "import matplotlib.pyplot as plt"
   ]
  },
  {
   "cell_type": "code",
   "execution_count": 2,
   "metadata": {},
   "outputs": [
    {
     "name": "stderr",
     "output_type": "stream",
     "text": [
      "WARNING:root:Limited tf.compat.v2.summary API due to missing TensorBoard installation.\n",
      "WARNING:root:Limited tf.compat.v2.summary API due to missing TensorBoard installation.\n",
      "WARNING:root:Limited tf.compat.v2.summary API due to missing TensorBoard installation.\n",
      "WARNING:root:Limited tf.summary API due to missing TensorBoard installation.\n"
     ]
    }
   ],
   "source": [
    "from keras.models import Sequential\n",
    "from keras.layers import Dense, Activation\n",
    "from keras.utils.np_utils import to_categorical"
   ]
  },
  {
   "cell_type": "code",
   "execution_count": 3,
   "metadata": {},
   "outputs": [],
   "source": [
    "pd.set_option('display.max_rows', None)"
   ]
  },
  {
   "cell_type": "markdown",
   "metadata": {},
   "source": [
    "# Artist Data Classification"
   ]
  },
  {
   "cell_type": "code",
   "execution_count": 4,
   "metadata": {},
   "outputs": [],
   "source": [
    "artist_data = pd.read_csv('Artist_Data_PCA.csv')"
   ]
  },
  {
   "cell_type": "code",
   "execution_count": 5,
   "metadata": {},
   "outputs": [
    {
     "data": {
      "text/plain": [
       "(13116, 82)"
      ]
     },
     "execution_count": 5,
     "metadata": {},
     "output_type": "execute_result"
    }
   ],
   "source": [
    "artist_data.shape"
   ]
  },
  {
   "cell_type": "code",
   "execution_count": 6,
   "metadata": {},
   "outputs": [
    {
     "data": {
      "text/html": [
       "<div>\n",
       "<style scoped>\n",
       "    .dataframe tbody tr th:only-of-type {\n",
       "        vertical-align: middle;\n",
       "    }\n",
       "\n",
       "    .dataframe tbody tr th {\n",
       "        vertical-align: top;\n",
       "    }\n",
       "\n",
       "    .dataframe thead th {\n",
       "        text-align: right;\n",
       "    }\n",
       "</style>\n",
       "<table border=\"1\" class=\"dataframe\">\n",
       "  <thead>\n",
       "    <tr style=\"text-align: right;\">\n",
       "      <th></th>\n",
       "      <th>Unnamed: 0</th>\n",
       "      <th>0</th>\n",
       "      <th>1</th>\n",
       "      <th>2</th>\n",
       "      <th>3</th>\n",
       "      <th>4</th>\n",
       "      <th>5</th>\n",
       "      <th>6</th>\n",
       "      <th>7</th>\n",
       "      <th>8</th>\n",
       "      <th>...</th>\n",
       "      <th>71</th>\n",
       "      <th>72</th>\n",
       "      <th>73</th>\n",
       "      <th>74</th>\n",
       "      <th>75</th>\n",
       "      <th>76</th>\n",
       "      <th>77</th>\n",
       "      <th>78</th>\n",
       "      <th>79</th>\n",
       "      <th>target</th>\n",
       "    </tr>\n",
       "  </thead>\n",
       "  <tbody>\n",
       "    <tr>\n",
       "      <th>0</th>\n",
       "      <td>0</td>\n",
       "      <td>-1.827335</td>\n",
       "      <td>-2.256777</td>\n",
       "      <td>-0.903751</td>\n",
       "      <td>10.301044</td>\n",
       "      <td>0.620098</td>\n",
       "      <td>0.620632</td>\n",
       "      <td>0.489641</td>\n",
       "      <td>1.888206</td>\n",
       "      <td>3.693750</td>\n",
       "      <td>...</td>\n",
       "      <td>-0.509637</td>\n",
       "      <td>-0.413244</td>\n",
       "      <td>-1.197073</td>\n",
       "      <td>0.346815</td>\n",
       "      <td>-0.773088</td>\n",
       "      <td>0.609545</td>\n",
       "      <td>0.399227</td>\n",
       "      <td>-0.178205</td>\n",
       "      <td>-0.802978</td>\n",
       "      <td>English_Adam Levine</td>\n",
       "    </tr>\n",
       "    <tr>\n",
       "      <th>1</th>\n",
       "      <td>1</td>\n",
       "      <td>2.025989</td>\n",
       "      <td>0.441281</td>\n",
       "      <td>0.376539</td>\n",
       "      <td>-0.586625</td>\n",
       "      <td>-2.036355</td>\n",
       "      <td>-2.439478</td>\n",
       "      <td>-1.803635</td>\n",
       "      <td>0.035705</td>\n",
       "      <td>3.298495</td>\n",
       "      <td>...</td>\n",
       "      <td>-0.215651</td>\n",
       "      <td>0.563840</td>\n",
       "      <td>-0.202138</td>\n",
       "      <td>1.174967</td>\n",
       "      <td>0.082535</td>\n",
       "      <td>1.441231</td>\n",
       "      <td>-0.077128</td>\n",
       "      <td>-0.195585</td>\n",
       "      <td>0.165031</td>\n",
       "      <td>English_Adam Levine</td>\n",
       "    </tr>\n",
       "    <tr>\n",
       "      <th>2</th>\n",
       "      <td>2</td>\n",
       "      <td>2.723809</td>\n",
       "      <td>3.563807</td>\n",
       "      <td>1.228067</td>\n",
       "      <td>-1.172875</td>\n",
       "      <td>-0.745987</td>\n",
       "      <td>-0.958132</td>\n",
       "      <td>-1.188426</td>\n",
       "      <td>1.460021</td>\n",
       "      <td>4.545623</td>\n",
       "      <td>...</td>\n",
       "      <td>0.282998</td>\n",
       "      <td>-0.265769</td>\n",
       "      <td>-0.152389</td>\n",
       "      <td>0.526315</td>\n",
       "      <td>-0.051916</td>\n",
       "      <td>0.143310</td>\n",
       "      <td>-0.568424</td>\n",
       "      <td>-0.393091</td>\n",
       "      <td>-0.289537</td>\n",
       "      <td>English_Adam Levine</td>\n",
       "    </tr>\n",
       "    <tr>\n",
       "      <th>3</th>\n",
       "      <td>3</td>\n",
       "      <td>2.951669</td>\n",
       "      <td>1.958432</td>\n",
       "      <td>1.961544</td>\n",
       "      <td>-1.076994</td>\n",
       "      <td>-1.543390</td>\n",
       "      <td>-1.703135</td>\n",
       "      <td>-0.834766</td>\n",
       "      <td>2.845731</td>\n",
       "      <td>3.249200</td>\n",
       "      <td>...</td>\n",
       "      <td>-0.357448</td>\n",
       "      <td>0.165831</td>\n",
       "      <td>-0.144423</td>\n",
       "      <td>0.683468</td>\n",
       "      <td>-0.354656</td>\n",
       "      <td>0.455928</td>\n",
       "      <td>-0.110395</td>\n",
       "      <td>-0.330423</td>\n",
       "      <td>0.301409</td>\n",
       "      <td>English_Adam Levine</td>\n",
       "    </tr>\n",
       "    <tr>\n",
       "      <th>4</th>\n",
       "      <td>4</td>\n",
       "      <td>1.645428</td>\n",
       "      <td>3.213587</td>\n",
       "      <td>4.240718</td>\n",
       "      <td>-1.249053</td>\n",
       "      <td>-1.555400</td>\n",
       "      <td>-1.367242</td>\n",
       "      <td>-0.503761</td>\n",
       "      <td>3.057599</td>\n",
       "      <td>3.328564</td>\n",
       "      <td>...</td>\n",
       "      <td>-0.351130</td>\n",
       "      <td>0.523847</td>\n",
       "      <td>-0.137182</td>\n",
       "      <td>0.544590</td>\n",
       "      <td>-0.365681</td>\n",
       "      <td>-0.005531</td>\n",
       "      <td>-0.201185</td>\n",
       "      <td>-0.685479</td>\n",
       "      <td>-0.031841</td>\n",
       "      <td>English_Adam Levine</td>\n",
       "    </tr>\n",
       "  </tbody>\n",
       "</table>\n",
       "<p>5 rows × 82 columns</p>\n",
       "</div>"
      ],
      "text/plain": [
       "   Unnamed: 0         0         1         2          3         4         5  \\\n",
       "0           0 -1.827335 -2.256777 -0.903751  10.301044  0.620098  0.620632   \n",
       "1           1  2.025989  0.441281  0.376539  -0.586625 -2.036355 -2.439478   \n",
       "2           2  2.723809  3.563807  1.228067  -1.172875 -0.745987 -0.958132   \n",
       "3           3  2.951669  1.958432  1.961544  -1.076994 -1.543390 -1.703135   \n",
       "4           4  1.645428  3.213587  4.240718  -1.249053 -1.555400 -1.367242   \n",
       "\n",
       "          6         7         8  ...        71        72        73        74  \\\n",
       "0  0.489641  1.888206  3.693750  ... -0.509637 -0.413244 -1.197073  0.346815   \n",
       "1 -1.803635  0.035705  3.298495  ... -0.215651  0.563840 -0.202138  1.174967   \n",
       "2 -1.188426  1.460021  4.545623  ...  0.282998 -0.265769 -0.152389  0.526315   \n",
       "3 -0.834766  2.845731  3.249200  ... -0.357448  0.165831 -0.144423  0.683468   \n",
       "4 -0.503761  3.057599  3.328564  ... -0.351130  0.523847 -0.137182  0.544590   \n",
       "\n",
       "         75        76        77        78        79               target  \n",
       "0 -0.773088  0.609545  0.399227 -0.178205 -0.802978  English_Adam Levine  \n",
       "1  0.082535  1.441231 -0.077128 -0.195585  0.165031  English_Adam Levine  \n",
       "2 -0.051916  0.143310 -0.568424 -0.393091 -0.289537  English_Adam Levine  \n",
       "3 -0.354656  0.455928 -0.110395 -0.330423  0.301409  English_Adam Levine  \n",
       "4 -0.365681 -0.005531 -0.201185 -0.685479 -0.031841  English_Adam Levine  \n",
       "\n",
       "[5 rows x 82 columns]"
      ]
     },
     "execution_count": 6,
     "metadata": {},
     "output_type": "execute_result"
    }
   ],
   "source": [
    "artist_data.head()"
   ]
  },
  {
   "cell_type": "code",
   "execution_count": 7,
   "metadata": {},
   "outputs": [
    {
     "data": {
      "text/plain": [
       "Index(['Unnamed: 0', '0', '1', '2', '3', '4', '5', '6', '7', '8', '9', '10',\n",
       "       '11', '12', '13', '14', '15', '16', '17', '18', '19', '20', '21', '22',\n",
       "       '23', '24', '25', '26', '27', '28', '29', '30', '31', '32', '33', '34',\n",
       "       '35', '36', '37', '38', '39', '40', '41', '42', '43', '44', '45', '46',\n",
       "       '47', '48', '49', '50', '51', '52', '53', '54', '55', '56', '57', '58',\n",
       "       '59', '60', '61', '62', '63', '64', '65', '66', '67', '68', '69', '70',\n",
       "       '71', '72', '73', '74', '75', '76', '77', '78', '79', 'target'],\n",
       "      dtype='object')"
      ]
     },
     "execution_count": 7,
     "metadata": {},
     "output_type": "execute_result"
    }
   ],
   "source": [
    "artist_data.columns"
   ]
  },
  {
   "cell_type": "code",
   "execution_count": 8,
   "metadata": {},
   "outputs": [
    {
     "data": {
      "text/plain": [
       "English_Justin Bieber    1599\n",
       "English_Drake            1580\n",
       "English_Selena Gomez     1471\n",
       "Hindi_sonunigam          1326\n",
       "English_Adam Levine      1229\n",
       "Hindi_arijit             1168\n",
       "Telugu_geetha            1162\n",
       "Hindi_atifaslam          1060\n",
       "English_The Weeknd        983\n",
       "Telugu_armaan             705\n",
       "Telugu_anurag             468\n",
       "Telugu_sidsriram          365\n",
       "Name: target, dtype: int64"
      ]
     },
     "execution_count": 8,
     "metadata": {},
     "output_type": "execute_result"
    }
   ],
   "source": [
    "artist_data['target'].value_counts()"
   ]
  },
  {
   "cell_type": "code",
   "execution_count": 7,
   "metadata": {},
   "outputs": [],
   "source": [
    "artist_data = artist_data.drop(['Unnamed: 0'], 1)"
   ]
  },
  {
   "cell_type": "code",
   "execution_count": 10,
   "metadata": {},
   "outputs": [
    {
     "data": {
      "text/html": [
       "<div>\n",
       "<style scoped>\n",
       "    .dataframe tbody tr th:only-of-type {\n",
       "        vertical-align: middle;\n",
       "    }\n",
       "\n",
       "    .dataframe tbody tr th {\n",
       "        vertical-align: top;\n",
       "    }\n",
       "\n",
       "    .dataframe thead th {\n",
       "        text-align: right;\n",
       "    }\n",
       "</style>\n",
       "<table border=\"1\" class=\"dataframe\">\n",
       "  <thead>\n",
       "    <tr style=\"text-align: right;\">\n",
       "      <th></th>\n",
       "      <th>0</th>\n",
       "      <th>1</th>\n",
       "      <th>2</th>\n",
       "      <th>3</th>\n",
       "      <th>4</th>\n",
       "      <th>5</th>\n",
       "      <th>6</th>\n",
       "      <th>7</th>\n",
       "      <th>8</th>\n",
       "      <th>9</th>\n",
       "      <th>...</th>\n",
       "      <th>71</th>\n",
       "      <th>72</th>\n",
       "      <th>73</th>\n",
       "      <th>74</th>\n",
       "      <th>75</th>\n",
       "      <th>76</th>\n",
       "      <th>77</th>\n",
       "      <th>78</th>\n",
       "      <th>79</th>\n",
       "      <th>target</th>\n",
       "    </tr>\n",
       "  </thead>\n",
       "  <tbody>\n",
       "    <tr>\n",
       "      <th>0</th>\n",
       "      <td>-1.827335</td>\n",
       "      <td>-2.256777</td>\n",
       "      <td>-0.903751</td>\n",
       "      <td>10.301044</td>\n",
       "      <td>0.620098</td>\n",
       "      <td>0.620632</td>\n",
       "      <td>0.489641</td>\n",
       "      <td>1.888206</td>\n",
       "      <td>3.693750</td>\n",
       "      <td>-3.621383</td>\n",
       "      <td>...</td>\n",
       "      <td>-0.509637</td>\n",
       "      <td>-0.413244</td>\n",
       "      <td>-1.197073</td>\n",
       "      <td>0.346815</td>\n",
       "      <td>-0.773088</td>\n",
       "      <td>0.609545</td>\n",
       "      <td>0.399227</td>\n",
       "      <td>-0.178205</td>\n",
       "      <td>-0.802978</td>\n",
       "      <td>English_Adam Levine</td>\n",
       "    </tr>\n",
       "    <tr>\n",
       "      <th>1</th>\n",
       "      <td>2.025989</td>\n",
       "      <td>0.441281</td>\n",
       "      <td>0.376539</td>\n",
       "      <td>-0.586625</td>\n",
       "      <td>-2.036355</td>\n",
       "      <td>-2.439478</td>\n",
       "      <td>-1.803635</td>\n",
       "      <td>0.035705</td>\n",
       "      <td>3.298495</td>\n",
       "      <td>-2.308301</td>\n",
       "      <td>...</td>\n",
       "      <td>-0.215651</td>\n",
       "      <td>0.563840</td>\n",
       "      <td>-0.202138</td>\n",
       "      <td>1.174967</td>\n",
       "      <td>0.082535</td>\n",
       "      <td>1.441231</td>\n",
       "      <td>-0.077128</td>\n",
       "      <td>-0.195585</td>\n",
       "      <td>0.165031</td>\n",
       "      <td>English_Adam Levine</td>\n",
       "    </tr>\n",
       "    <tr>\n",
       "      <th>2</th>\n",
       "      <td>2.723809</td>\n",
       "      <td>3.563807</td>\n",
       "      <td>1.228067</td>\n",
       "      <td>-1.172875</td>\n",
       "      <td>-0.745987</td>\n",
       "      <td>-0.958132</td>\n",
       "      <td>-1.188426</td>\n",
       "      <td>1.460021</td>\n",
       "      <td>4.545623</td>\n",
       "      <td>-0.383365</td>\n",
       "      <td>...</td>\n",
       "      <td>0.282998</td>\n",
       "      <td>-0.265769</td>\n",
       "      <td>-0.152389</td>\n",
       "      <td>0.526315</td>\n",
       "      <td>-0.051916</td>\n",
       "      <td>0.143310</td>\n",
       "      <td>-0.568424</td>\n",
       "      <td>-0.393091</td>\n",
       "      <td>-0.289537</td>\n",
       "      <td>English_Adam Levine</td>\n",
       "    </tr>\n",
       "    <tr>\n",
       "      <th>3</th>\n",
       "      <td>2.951669</td>\n",
       "      <td>1.958432</td>\n",
       "      <td>1.961544</td>\n",
       "      <td>-1.076994</td>\n",
       "      <td>-1.543390</td>\n",
       "      <td>-1.703135</td>\n",
       "      <td>-0.834766</td>\n",
       "      <td>2.845731</td>\n",
       "      <td>3.249200</td>\n",
       "      <td>-0.267589</td>\n",
       "      <td>...</td>\n",
       "      <td>-0.357448</td>\n",
       "      <td>0.165831</td>\n",
       "      <td>-0.144423</td>\n",
       "      <td>0.683468</td>\n",
       "      <td>-0.354656</td>\n",
       "      <td>0.455928</td>\n",
       "      <td>-0.110395</td>\n",
       "      <td>-0.330423</td>\n",
       "      <td>0.301409</td>\n",
       "      <td>English_Adam Levine</td>\n",
       "    </tr>\n",
       "    <tr>\n",
       "      <th>4</th>\n",
       "      <td>1.645428</td>\n",
       "      <td>3.213587</td>\n",
       "      <td>4.240718</td>\n",
       "      <td>-1.249053</td>\n",
       "      <td>-1.555400</td>\n",
       "      <td>-1.367242</td>\n",
       "      <td>-0.503761</td>\n",
       "      <td>3.057599</td>\n",
       "      <td>3.328564</td>\n",
       "      <td>-0.023845</td>\n",
       "      <td>...</td>\n",
       "      <td>-0.351130</td>\n",
       "      <td>0.523847</td>\n",
       "      <td>-0.137182</td>\n",
       "      <td>0.544590</td>\n",
       "      <td>-0.365681</td>\n",
       "      <td>-0.005531</td>\n",
       "      <td>-0.201185</td>\n",
       "      <td>-0.685479</td>\n",
       "      <td>-0.031841</td>\n",
       "      <td>English_Adam Levine</td>\n",
       "    </tr>\n",
       "  </tbody>\n",
       "</table>\n",
       "<p>5 rows × 81 columns</p>\n",
       "</div>"
      ],
      "text/plain": [
       "          0         1         2          3         4         5         6  \\\n",
       "0 -1.827335 -2.256777 -0.903751  10.301044  0.620098  0.620632  0.489641   \n",
       "1  2.025989  0.441281  0.376539  -0.586625 -2.036355 -2.439478 -1.803635   \n",
       "2  2.723809  3.563807  1.228067  -1.172875 -0.745987 -0.958132 -1.188426   \n",
       "3  2.951669  1.958432  1.961544  -1.076994 -1.543390 -1.703135 -0.834766   \n",
       "4  1.645428  3.213587  4.240718  -1.249053 -1.555400 -1.367242 -0.503761   \n",
       "\n",
       "          7         8         9  ...        71        72        73        74  \\\n",
       "0  1.888206  3.693750 -3.621383  ... -0.509637 -0.413244 -1.197073  0.346815   \n",
       "1  0.035705  3.298495 -2.308301  ... -0.215651  0.563840 -0.202138  1.174967   \n",
       "2  1.460021  4.545623 -0.383365  ...  0.282998 -0.265769 -0.152389  0.526315   \n",
       "3  2.845731  3.249200 -0.267589  ... -0.357448  0.165831 -0.144423  0.683468   \n",
       "4  3.057599  3.328564 -0.023845  ... -0.351130  0.523847 -0.137182  0.544590   \n",
       "\n",
       "         75        76        77        78        79               target  \n",
       "0 -0.773088  0.609545  0.399227 -0.178205 -0.802978  English_Adam Levine  \n",
       "1  0.082535  1.441231 -0.077128 -0.195585  0.165031  English_Adam Levine  \n",
       "2 -0.051916  0.143310 -0.568424 -0.393091 -0.289537  English_Adam Levine  \n",
       "3 -0.354656  0.455928 -0.110395 -0.330423  0.301409  English_Adam Levine  \n",
       "4 -0.365681 -0.005531 -0.201185 -0.685479 -0.031841  English_Adam Levine  \n",
       "\n",
       "[5 rows x 81 columns]"
      ]
     },
     "execution_count": 10,
     "metadata": {},
     "output_type": "execute_result"
    }
   ],
   "source": [
    "artist_data.head()"
   ]
  },
  {
   "cell_type": "code",
   "execution_count": 8,
   "metadata": {},
   "outputs": [],
   "source": [
    "def train_test_split_func(data, target_data, test_size = 0.2, random_state = 42):\n",
    "    train_data, test_data = train_test_split(data, \n",
    "                                             test_size = test_size, \n",
    "                                             random_state = random_state, \n",
    "                                             stratify = target_data)\n",
    "    return train_data, test_data"
   ]
  },
  {
   "cell_type": "code",
   "execution_count": 9,
   "metadata": {},
   "outputs": [],
   "source": [
    "def display_metrics(model_name, language, class_type, tuning, model_instance, x_test, y_test):\n",
    "    print(\"%s Classifier Model - %s %s : %s Hyper-parameter Tuning\" % (model_name, language, class_type, tuning))\n",
    "    print(\"Accuracy Score  : \", accuracy_score(y_pred = model_instance.predict(x_test), y_true = y_test))\n",
    "    print(\"Precision Score : \", precision_score(y_pred = model_instance.predict(x_test), y_true = y_test, average = 'weighted'))\n",
    "    print(\"Recall Score    : \", recall_score(y_pred = model_instance.predict(x_test), y_true = y_test, average = 'weighted'))\n",
    "    print(\"F1 Score        : \", f1_score(y_pred = model_instance.predict(x_test), y_true = y_test, average = 'weighted'))"
   ]
  },
  {
   "cell_type": "code",
   "execution_count": 14,
   "metadata": {},
   "outputs": [],
   "source": [
    "def confusion_matrix_plot(model, x_test, y_test):\n",
    "\n",
    "    fig, ax = plt.subplots(figsize=(10, 10))\n",
    "#     fig, ax = plt.subplots()\n",
    "    plt.rcParams.update({'font.size': 16})\n",
    "    metrics.plot_confusion_matrix(model, x_test, y_test, ax = ax, cmap = 'Oranges')\n",
    "    ax.grid(False)\n",
    "\n",
    "    label_font = {'size':'18'}\n",
    "    ax.set_xlabel('\\nPredicted labels', fontdict = label_font)\n",
    "    ax.set_ylabel('Observed labels\\n', fontdict = label_font)\n",
    "\n",
    "    title_font = {'size':'21'}\n",
    "    ax.set_title('Confusion Matrix\\n', fontdict = title_font)\n",
    "\n",
    "    plt.xticks(fontsize=10, rotation=90)\n",
    "    plt.yticks(fontsize=10, rotation=0)\n",
    "    plt.show()"
   ]
  },
  {
   "cell_type": "markdown",
   "metadata": {},
   "source": [
    "# Language Specific Artist Data Classifiaction"
   ]
  },
  {
   "cell_type": "markdown",
   "metadata": {},
   "source": [
    "## English Artists"
   ]
  },
  {
   "cell_type": "code",
   "execution_count": 11,
   "metadata": {},
   "outputs": [
    {
     "data": {
      "text/plain": [
       "English_Justin Bieber    1599\n",
       "English_Drake            1580\n",
       "English_Selena Gomez     1471\n",
       "English_Adam Levine      1229\n",
       "English_The Weeknd        983\n",
       "Name: target, dtype: int64"
      ]
     },
     "execution_count": 11,
     "metadata": {},
     "output_type": "execute_result"
    }
   ],
   "source": [
    "artist_data_english = artist_data[artist_data['target'].isin(['English_Justin Bieber',\n",
    "                                                              'English_Drake',\n",
    "                                                              'English_Selena Gomez',\n",
    "                                                              'English_Adam Levine',\n",
    "                                                              'English_The Weeknd'])]\n",
    "\n",
    "artist_data_english['target'].value_counts()"
   ]
  },
  {
   "cell_type": "code",
   "execution_count": 12,
   "metadata": {},
   "outputs": [],
   "source": [
    "train_data_english_artist, test_data_english_artist = train_test_split_func(artist_data_english, artist_data_english['target'], 0.2, 42)"
   ]
  },
  {
   "cell_type": "code",
   "execution_count": 13,
   "metadata": {},
   "outputs": [],
   "source": [
    "x_train_english_artist = train_data_english_artist.drop(['target'], 1).copy()\n",
    "x_test_english_artist  = test_data_english_artist.drop(['target'], 1).copy()\n",
    "\n",
    "y_train_english_artist = train_data_english_artist['target'].copy()\n",
    "y_test_english_artist  = test_data_english_artist['target'].copy()"
   ]
  },
  {
   "cell_type": "markdown",
   "metadata": {},
   "source": [
    "## Telugu Artists"
   ]
  },
  {
   "cell_type": "code",
   "execution_count": 19,
   "metadata": {},
   "outputs": [
    {
     "data": {
      "text/plain": [
       "Telugu_geetha       1162\n",
       "Telugu_armaan        705\n",
       "Telugu_anurag        468\n",
       "Telugu_sidsriram     365\n",
       "Name: target, dtype: int64"
      ]
     },
     "execution_count": 19,
     "metadata": {},
     "output_type": "execute_result"
    }
   ],
   "source": [
    "artist_data_telugu  = artist_data[artist_data['target'].isin(['Telugu_geetha',\n",
    "                                                              'Telugu_armaan',\n",
    "                                                              'Telugu_anurag',\n",
    "                                                              'Telugu_sidsriram'])]\n",
    "\n",
    "artist_data_telugu['target'].value_counts()"
   ]
  },
  {
   "cell_type": "code",
   "execution_count": 20,
   "metadata": {},
   "outputs": [],
   "source": [
    "train_data_telugu_artist, test_data_telugu_artist = train_test_split_func(artist_data_telugu, artist_data_telugu['target'], 0.2, 42)"
   ]
  },
  {
   "cell_type": "code",
   "execution_count": 21,
   "metadata": {},
   "outputs": [],
   "source": [
    "x_train_telugu_artist = train_data_telugu_artist.drop(['target'], 1).copy()\n",
    "x_test_telugu_artist  = test_data_telugu_artist.drop(['target'], 1).copy()\n",
    "\n",
    "y_train_telugu_artist = train_data_telugu_artist['target'].copy()\n",
    "y_test_telugu_artist  = test_data_telugu_artist['target'].copy()"
   ]
  },
  {
   "cell_type": "markdown",
   "metadata": {},
   "source": [
    "## Hindi Artists"
   ]
  },
  {
   "cell_type": "code",
   "execution_count": 22,
   "metadata": {},
   "outputs": [
    {
     "data": {
      "text/plain": [
       "Hindi_sonunigam    1326\n",
       "Hindi_arijit       1168\n",
       "Hindi_atifaslam    1060\n",
       "Name: target, dtype: int64"
      ]
     },
     "execution_count": 22,
     "metadata": {},
     "output_type": "execute_result"
    }
   ],
   "source": [
    "artist_data_hindi   = artist_data[artist_data['target'].isin(['Hindi_sonunigam',\n",
    "                                                              'Hindi_arijit',\n",
    "                                                              'Hindi_atifaslam'])]\n",
    "\n",
    "artist_data_hindi['target'].value_counts()"
   ]
  },
  {
   "cell_type": "code",
   "execution_count": 23,
   "metadata": {},
   "outputs": [],
   "source": [
    "train_data_hindi_artist, test_data_hindi_artist = train_test_split_func(artist_data_hindi, artist_data_hindi['target'], 0.2, 42)"
   ]
  },
  {
   "cell_type": "code",
   "execution_count": 24,
   "metadata": {},
   "outputs": [],
   "source": [
    "x_train_hindi_artist = train_data_hindi_artist.drop(['target'], 1).copy()\n",
    "x_test_hindi_artist  = test_data_hindi_artist.drop(['target'], 1).copy()\n",
    "\n",
    "y_train_hindi_artist = train_data_hindi_artist['target'].copy()\n",
    "y_test_hindi_artist  = test_data_hindi_artist['target'].copy()"
   ]
  },
  {
   "cell_type": "markdown",
   "metadata": {},
   "source": [
    "## All language Artists together"
   ]
  },
  {
   "cell_type": "code",
   "execution_count": 25,
   "metadata": {},
   "outputs": [],
   "source": [
    "train_data_all_artists, test_data_all_artists = train_test_split_func(artist_data, artist_data['target'], 0.2, 42)"
   ]
  },
  {
   "cell_type": "code",
   "execution_count": 26,
   "metadata": {},
   "outputs": [],
   "source": [
    "x_train_all_artists = train_data_all_artists.drop(['target'], 1).copy()\n",
    "x_test_all_artists  = test_data_all_artists.drop(['target'], 1).copy()\n",
    "\n",
    "y_train_all_artists = train_data_all_artists['target'].copy()\n",
    "y_test_all_artists  = test_data_all_artists['target'].copy()"
   ]
  },
  {
   "cell_type": "markdown",
   "metadata": {},
   "source": [
    "# Genre Data Classification"
   ]
  },
  {
   "cell_type": "code",
   "execution_count": 27,
   "metadata": {},
   "outputs": [],
   "source": [
    "genre_data = pd.read_csv('Genre_Data_PCA.csv')"
   ]
  },
  {
   "cell_type": "code",
   "execution_count": 28,
   "metadata": {},
   "outputs": [
    {
     "data": {
      "text/plain": [
       "(9659, 92)"
      ]
     },
     "execution_count": 28,
     "metadata": {},
     "output_type": "execute_result"
    }
   ],
   "source": [
    "genre_data.shape"
   ]
  },
  {
   "cell_type": "code",
   "execution_count": 29,
   "metadata": {},
   "outputs": [
    {
     "data": {
      "text/html": [
       "<div>\n",
       "<style scoped>\n",
       "    .dataframe tbody tr th:only-of-type {\n",
       "        vertical-align: middle;\n",
       "    }\n",
       "\n",
       "    .dataframe tbody tr th {\n",
       "        vertical-align: top;\n",
       "    }\n",
       "\n",
       "    .dataframe thead th {\n",
       "        text-align: right;\n",
       "    }\n",
       "</style>\n",
       "<table border=\"1\" class=\"dataframe\">\n",
       "  <thead>\n",
       "    <tr style=\"text-align: right;\">\n",
       "      <th></th>\n",
       "      <th>Unnamed: 0</th>\n",
       "      <th>0</th>\n",
       "      <th>1</th>\n",
       "      <th>2</th>\n",
       "      <th>3</th>\n",
       "      <th>4</th>\n",
       "      <th>5</th>\n",
       "      <th>6</th>\n",
       "      <th>7</th>\n",
       "      <th>8</th>\n",
       "      <th>...</th>\n",
       "      <th>81</th>\n",
       "      <th>82</th>\n",
       "      <th>83</th>\n",
       "      <th>84</th>\n",
       "      <th>85</th>\n",
       "      <th>86</th>\n",
       "      <th>87</th>\n",
       "      <th>88</th>\n",
       "      <th>89</th>\n",
       "      <th>target</th>\n",
       "    </tr>\n",
       "  </thead>\n",
       "  <tbody>\n",
       "    <tr>\n",
       "      <th>0</th>\n",
       "      <td>0</td>\n",
       "      <td>5.981779</td>\n",
       "      <td>0.877041</td>\n",
       "      <td>6.125297</td>\n",
       "      <td>2.589149</td>\n",
       "      <td>5.042832</td>\n",
       "      <td>5.892499</td>\n",
       "      <td>-3.552737</td>\n",
       "      <td>2.189388</td>\n",
       "      <td>-4.451867</td>\n",
       "      <td>...</td>\n",
       "      <td>-2.018604</td>\n",
       "      <td>-0.224472</td>\n",
       "      <td>-0.562292</td>\n",
       "      <td>0.914119</td>\n",
       "      <td>-1.034346</td>\n",
       "      <td>0.947299</td>\n",
       "      <td>1.131462</td>\n",
       "      <td>-0.051413</td>\n",
       "      <td>0.519872</td>\n",
       "      <td>English_HipHopParty</td>\n",
       "    </tr>\n",
       "    <tr>\n",
       "      <th>1</th>\n",
       "      <td>1</td>\n",
       "      <td>6.127472</td>\n",
       "      <td>1.245377</td>\n",
       "      <td>5.972584</td>\n",
       "      <td>3.089422</td>\n",
       "      <td>4.220182</td>\n",
       "      <td>5.213958</td>\n",
       "      <td>-2.468576</td>\n",
       "      <td>1.874529</td>\n",
       "      <td>-3.975218</td>\n",
       "      <td>...</td>\n",
       "      <td>-1.106540</td>\n",
       "      <td>-0.095864</td>\n",
       "      <td>0.137479</td>\n",
       "      <td>0.279392</td>\n",
       "      <td>-0.715812</td>\n",
       "      <td>0.551319</td>\n",
       "      <td>0.602541</td>\n",
       "      <td>-0.384802</td>\n",
       "      <td>0.321413</td>\n",
       "      <td>English_HipHopParty</td>\n",
       "    </tr>\n",
       "    <tr>\n",
       "      <th>2</th>\n",
       "      <td>2</td>\n",
       "      <td>5.172627</td>\n",
       "      <td>1.414000</td>\n",
       "      <td>6.536934</td>\n",
       "      <td>2.903600</td>\n",
       "      <td>1.707707</td>\n",
       "      <td>3.514837</td>\n",
       "      <td>-1.150563</td>\n",
       "      <td>1.694019</td>\n",
       "      <td>-2.869184</td>\n",
       "      <td>...</td>\n",
       "      <td>-0.497019</td>\n",
       "      <td>0.013177</td>\n",
       "      <td>-0.244138</td>\n",
       "      <td>0.722465</td>\n",
       "      <td>-0.622286</td>\n",
       "      <td>-0.141013</td>\n",
       "      <td>0.406096</td>\n",
       "      <td>0.145804</td>\n",
       "      <td>0.047461</td>\n",
       "      <td>English_HipHopParty</td>\n",
       "    </tr>\n",
       "    <tr>\n",
       "      <th>3</th>\n",
       "      <td>3</td>\n",
       "      <td>3.827175</td>\n",
       "      <td>4.207265</td>\n",
       "      <td>3.274808</td>\n",
       "      <td>2.983916</td>\n",
       "      <td>1.573987</td>\n",
       "      <td>3.390338</td>\n",
       "      <td>0.786223</td>\n",
       "      <td>1.544706</td>\n",
       "      <td>-3.372448</td>\n",
       "      <td>...</td>\n",
       "      <td>-0.231228</td>\n",
       "      <td>-0.089365</td>\n",
       "      <td>0.031927</td>\n",
       "      <td>0.929269</td>\n",
       "      <td>-0.456640</td>\n",
       "      <td>-0.460912</td>\n",
       "      <td>0.330757</td>\n",
       "      <td>0.407672</td>\n",
       "      <td>-0.247432</td>\n",
       "      <td>English_HipHopParty</td>\n",
       "    </tr>\n",
       "    <tr>\n",
       "      <th>4</th>\n",
       "      <td>4</td>\n",
       "      <td>-1.856591</td>\n",
       "      <td>3.859385</td>\n",
       "      <td>1.894855</td>\n",
       "      <td>1.670821</td>\n",
       "      <td>4.706613</td>\n",
       "      <td>3.945676</td>\n",
       "      <td>0.072540</td>\n",
       "      <td>1.970401</td>\n",
       "      <td>-3.121050</td>\n",
       "      <td>...</td>\n",
       "      <td>-0.131538</td>\n",
       "      <td>0.166438</td>\n",
       "      <td>0.312505</td>\n",
       "      <td>0.345820</td>\n",
       "      <td>-0.869161</td>\n",
       "      <td>0.445305</td>\n",
       "      <td>-0.197545</td>\n",
       "      <td>-0.150402</td>\n",
       "      <td>0.130008</td>\n",
       "      <td>English_HipHopParty</td>\n",
       "    </tr>\n",
       "  </tbody>\n",
       "</table>\n",
       "<p>5 rows × 92 columns</p>\n",
       "</div>"
      ],
      "text/plain": [
       "   Unnamed: 0         0         1         2         3         4         5  \\\n",
       "0           0  5.981779  0.877041  6.125297  2.589149  5.042832  5.892499   \n",
       "1           1  6.127472  1.245377  5.972584  3.089422  4.220182  5.213958   \n",
       "2           2  5.172627  1.414000  6.536934  2.903600  1.707707  3.514837   \n",
       "3           3  3.827175  4.207265  3.274808  2.983916  1.573987  3.390338   \n",
       "4           4 -1.856591  3.859385  1.894855  1.670821  4.706613  3.945676   \n",
       "\n",
       "          6         7         8  ...        81        82        83        84  \\\n",
       "0 -3.552737  2.189388 -4.451867  ... -2.018604 -0.224472 -0.562292  0.914119   \n",
       "1 -2.468576  1.874529 -3.975218  ... -1.106540 -0.095864  0.137479  0.279392   \n",
       "2 -1.150563  1.694019 -2.869184  ... -0.497019  0.013177 -0.244138  0.722465   \n",
       "3  0.786223  1.544706 -3.372448  ... -0.231228 -0.089365  0.031927  0.929269   \n",
       "4  0.072540  1.970401 -3.121050  ... -0.131538  0.166438  0.312505  0.345820   \n",
       "\n",
       "         85        86        87        88        89               target  \n",
       "0 -1.034346  0.947299  1.131462 -0.051413  0.519872  English_HipHopParty  \n",
       "1 -0.715812  0.551319  0.602541 -0.384802  0.321413  English_HipHopParty  \n",
       "2 -0.622286 -0.141013  0.406096  0.145804  0.047461  English_HipHopParty  \n",
       "3 -0.456640 -0.460912  0.330757  0.407672 -0.247432  English_HipHopParty  \n",
       "4 -0.869161  0.445305 -0.197545 -0.150402  0.130008  English_HipHopParty  \n",
       "\n",
       "[5 rows x 92 columns]"
      ]
     },
     "execution_count": 29,
     "metadata": {},
     "output_type": "execute_result"
    }
   ],
   "source": [
    "genre_data.head()"
   ]
  },
  {
   "cell_type": "code",
   "execution_count": 30,
   "metadata": {},
   "outputs": [
    {
     "data": {
      "text/plain": [
       "Index(['Unnamed: 0', '0', '1', '2', '3', '4', '5', '6', '7', '8', '9', '10',\n",
       "       '11', '12', '13', '14', '15', '16', '17', '18', '19', '20', '21', '22',\n",
       "       '23', '24', '25', '26', '27', '28', '29', '30', '31', '32', '33', '34',\n",
       "       '35', '36', '37', '38', '39', '40', '41', '42', '43', '44', '45', '46',\n",
       "       '47', '48', '49', '50', '51', '52', '53', '54', '55', '56', '57', '58',\n",
       "       '59', '60', '61', '62', '63', '64', '65', '66', '67', '68', '69', '70',\n",
       "       '71', '72', '73', '74', '75', '76', '77', '78', '79', '80', '81', '82',\n",
       "       '83', '84', '85', '86', '87', '88', '89', 'target'],\n",
       "      dtype='object')"
      ]
     },
     "execution_count": 30,
     "metadata": {},
     "output_type": "execute_result"
    }
   ],
   "source": [
    "genre_data.columns"
   ]
  },
  {
   "cell_type": "code",
   "execution_count": 31,
   "metadata": {},
   "outputs": [
    {
     "data": {
      "text/plain": [
       "Telugu_romantic        1263\n",
       "English_Rock           1188\n",
       "Telugu_workout         1133\n",
       "Hindi_workout          1021\n",
       "English_HipHopParty    1017\n",
       "English_Romantic        895\n",
       "Hindi_romantic          842\n",
       "English_Workout         842\n",
       "Hindi_rock              810\n",
       "Telugu_rock             648\n",
       "Name: target, dtype: int64"
      ]
     },
     "execution_count": 31,
     "metadata": {},
     "output_type": "execute_result"
    }
   ],
   "source": [
    "genre_data['target'].value_counts()"
   ]
  },
  {
   "cell_type": "code",
   "execution_count": 32,
   "metadata": {},
   "outputs": [],
   "source": [
    "genre_data = genre_data.drop(['Unnamed: 0'], 1)"
   ]
  },
  {
   "cell_type": "code",
   "execution_count": 33,
   "metadata": {},
   "outputs": [
    {
     "data": {
      "text/html": [
       "<div>\n",
       "<style scoped>\n",
       "    .dataframe tbody tr th:only-of-type {\n",
       "        vertical-align: middle;\n",
       "    }\n",
       "\n",
       "    .dataframe tbody tr th {\n",
       "        vertical-align: top;\n",
       "    }\n",
       "\n",
       "    .dataframe thead th {\n",
       "        text-align: right;\n",
       "    }\n",
       "</style>\n",
       "<table border=\"1\" class=\"dataframe\">\n",
       "  <thead>\n",
       "    <tr style=\"text-align: right;\">\n",
       "      <th></th>\n",
       "      <th>0</th>\n",
       "      <th>1</th>\n",
       "      <th>2</th>\n",
       "      <th>3</th>\n",
       "      <th>4</th>\n",
       "      <th>5</th>\n",
       "      <th>6</th>\n",
       "      <th>7</th>\n",
       "      <th>8</th>\n",
       "      <th>9</th>\n",
       "      <th>...</th>\n",
       "      <th>81</th>\n",
       "      <th>82</th>\n",
       "      <th>83</th>\n",
       "      <th>84</th>\n",
       "      <th>85</th>\n",
       "      <th>86</th>\n",
       "      <th>87</th>\n",
       "      <th>88</th>\n",
       "      <th>89</th>\n",
       "      <th>target</th>\n",
       "    </tr>\n",
       "  </thead>\n",
       "  <tbody>\n",
       "    <tr>\n",
       "      <th>0</th>\n",
       "      <td>5.981779</td>\n",
       "      <td>0.877041</td>\n",
       "      <td>6.125297</td>\n",
       "      <td>2.589149</td>\n",
       "      <td>5.042832</td>\n",
       "      <td>5.892499</td>\n",
       "      <td>-3.552737</td>\n",
       "      <td>2.189388</td>\n",
       "      <td>-4.451867</td>\n",
       "      <td>2.051966</td>\n",
       "      <td>...</td>\n",
       "      <td>-2.018604</td>\n",
       "      <td>-0.224472</td>\n",
       "      <td>-0.562292</td>\n",
       "      <td>0.914119</td>\n",
       "      <td>-1.034346</td>\n",
       "      <td>0.947299</td>\n",
       "      <td>1.131462</td>\n",
       "      <td>-0.051413</td>\n",
       "      <td>0.519872</td>\n",
       "      <td>English_HipHopParty</td>\n",
       "    </tr>\n",
       "    <tr>\n",
       "      <th>1</th>\n",
       "      <td>6.127472</td>\n",
       "      <td>1.245377</td>\n",
       "      <td>5.972584</td>\n",
       "      <td>3.089422</td>\n",
       "      <td>4.220182</td>\n",
       "      <td>5.213958</td>\n",
       "      <td>-2.468576</td>\n",
       "      <td>1.874529</td>\n",
       "      <td>-3.975218</td>\n",
       "      <td>2.315908</td>\n",
       "      <td>...</td>\n",
       "      <td>-1.106540</td>\n",
       "      <td>-0.095864</td>\n",
       "      <td>0.137479</td>\n",
       "      <td>0.279392</td>\n",
       "      <td>-0.715812</td>\n",
       "      <td>0.551319</td>\n",
       "      <td>0.602541</td>\n",
       "      <td>-0.384802</td>\n",
       "      <td>0.321413</td>\n",
       "      <td>English_HipHopParty</td>\n",
       "    </tr>\n",
       "    <tr>\n",
       "      <th>2</th>\n",
       "      <td>5.172627</td>\n",
       "      <td>1.414000</td>\n",
       "      <td>6.536934</td>\n",
       "      <td>2.903600</td>\n",
       "      <td>1.707707</td>\n",
       "      <td>3.514837</td>\n",
       "      <td>-1.150563</td>\n",
       "      <td>1.694019</td>\n",
       "      <td>-2.869184</td>\n",
       "      <td>1.096035</td>\n",
       "      <td>...</td>\n",
       "      <td>-0.497019</td>\n",
       "      <td>0.013177</td>\n",
       "      <td>-0.244138</td>\n",
       "      <td>0.722465</td>\n",
       "      <td>-0.622286</td>\n",
       "      <td>-0.141013</td>\n",
       "      <td>0.406096</td>\n",
       "      <td>0.145804</td>\n",
       "      <td>0.047461</td>\n",
       "      <td>English_HipHopParty</td>\n",
       "    </tr>\n",
       "    <tr>\n",
       "      <th>3</th>\n",
       "      <td>3.827175</td>\n",
       "      <td>4.207265</td>\n",
       "      <td>3.274808</td>\n",
       "      <td>2.983916</td>\n",
       "      <td>1.573987</td>\n",
       "      <td>3.390338</td>\n",
       "      <td>0.786223</td>\n",
       "      <td>1.544706</td>\n",
       "      <td>-3.372448</td>\n",
       "      <td>1.352711</td>\n",
       "      <td>...</td>\n",
       "      <td>-0.231228</td>\n",
       "      <td>-0.089365</td>\n",
       "      <td>0.031927</td>\n",
       "      <td>0.929269</td>\n",
       "      <td>-0.456640</td>\n",
       "      <td>-0.460912</td>\n",
       "      <td>0.330757</td>\n",
       "      <td>0.407672</td>\n",
       "      <td>-0.247432</td>\n",
       "      <td>English_HipHopParty</td>\n",
       "    </tr>\n",
       "    <tr>\n",
       "      <th>4</th>\n",
       "      <td>-1.856591</td>\n",
       "      <td>3.859385</td>\n",
       "      <td>1.894855</td>\n",
       "      <td>1.670821</td>\n",
       "      <td>4.706613</td>\n",
       "      <td>3.945676</td>\n",
       "      <td>0.072540</td>\n",
       "      <td>1.970401</td>\n",
       "      <td>-3.121050</td>\n",
       "      <td>1.876197</td>\n",
       "      <td>...</td>\n",
       "      <td>-0.131538</td>\n",
       "      <td>0.166438</td>\n",
       "      <td>0.312505</td>\n",
       "      <td>0.345820</td>\n",
       "      <td>-0.869161</td>\n",
       "      <td>0.445305</td>\n",
       "      <td>-0.197545</td>\n",
       "      <td>-0.150402</td>\n",
       "      <td>0.130008</td>\n",
       "      <td>English_HipHopParty</td>\n",
       "    </tr>\n",
       "  </tbody>\n",
       "</table>\n",
       "<p>5 rows × 91 columns</p>\n",
       "</div>"
      ],
      "text/plain": [
       "          0         1         2         3         4         5         6  \\\n",
       "0  5.981779  0.877041  6.125297  2.589149  5.042832  5.892499 -3.552737   \n",
       "1  6.127472  1.245377  5.972584  3.089422  4.220182  5.213958 -2.468576   \n",
       "2  5.172627  1.414000  6.536934  2.903600  1.707707  3.514837 -1.150563   \n",
       "3  3.827175  4.207265  3.274808  2.983916  1.573987  3.390338  0.786223   \n",
       "4 -1.856591  3.859385  1.894855  1.670821  4.706613  3.945676  0.072540   \n",
       "\n",
       "          7         8         9  ...        81        82        83        84  \\\n",
       "0  2.189388 -4.451867  2.051966  ... -2.018604 -0.224472 -0.562292  0.914119   \n",
       "1  1.874529 -3.975218  2.315908  ... -1.106540 -0.095864  0.137479  0.279392   \n",
       "2  1.694019 -2.869184  1.096035  ... -0.497019  0.013177 -0.244138  0.722465   \n",
       "3  1.544706 -3.372448  1.352711  ... -0.231228 -0.089365  0.031927  0.929269   \n",
       "4  1.970401 -3.121050  1.876197  ... -0.131538  0.166438  0.312505  0.345820   \n",
       "\n",
       "         85        86        87        88        89               target  \n",
       "0 -1.034346  0.947299  1.131462 -0.051413  0.519872  English_HipHopParty  \n",
       "1 -0.715812  0.551319  0.602541 -0.384802  0.321413  English_HipHopParty  \n",
       "2 -0.622286 -0.141013  0.406096  0.145804  0.047461  English_HipHopParty  \n",
       "3 -0.456640 -0.460912  0.330757  0.407672 -0.247432  English_HipHopParty  \n",
       "4 -0.869161  0.445305 -0.197545 -0.150402  0.130008  English_HipHopParty  \n",
       "\n",
       "[5 rows x 91 columns]"
      ]
     },
     "execution_count": 33,
     "metadata": {},
     "output_type": "execute_result"
    }
   ],
   "source": [
    "genre_data.head()"
   ]
  },
  {
   "cell_type": "markdown",
   "metadata": {},
   "source": [
    "## English Genre"
   ]
  },
  {
   "cell_type": "code",
   "execution_count": 34,
   "metadata": {},
   "outputs": [
    {
     "data": {
      "text/plain": [
       "English_Rock           1188\n",
       "English_HipHopParty    1017\n",
       "English_Romantic        895\n",
       "English_Workout         842\n",
       "Name: target, dtype: int64"
      ]
     },
     "execution_count": 34,
     "metadata": {},
     "output_type": "execute_result"
    }
   ],
   "source": [
    "genre_data_english = genre_data[genre_data['target'].isin(['English_Rock',\n",
    "                                                           'English_Romantic',\n",
    "                                                           'English_Workout',\n",
    "                                                           'English_HipHopParty'])]\n",
    "\n",
    "genre_data_english['target'].value_counts()"
   ]
  },
  {
   "cell_type": "code",
   "execution_count": 35,
   "metadata": {},
   "outputs": [],
   "source": [
    "train_data_english_genre, test_data_english_genre = train_test_split_func(genre_data_english, genre_data_english['target'], 0.2, 42)"
   ]
  },
  {
   "cell_type": "code",
   "execution_count": 36,
   "metadata": {},
   "outputs": [],
   "source": [
    "x_train_english_genre = train_data_english_genre.drop(['target'], 1).copy()\n",
    "x_test_english_genre  = test_data_english_genre.drop(['target'], 1).copy()\n",
    "\n",
    "y_train_english_genre = train_data_english_genre['target'].copy()\n",
    "y_test_english_genre  = test_data_english_genre['target'].copy()"
   ]
  },
  {
   "cell_type": "markdown",
   "metadata": {},
   "source": [
    "## Telugu Genre"
   ]
  },
  {
   "cell_type": "code",
   "execution_count": 37,
   "metadata": {},
   "outputs": [
    {
     "data": {
      "text/plain": [
       "Telugu_romantic    1263\n",
       "Telugu_workout     1133\n",
       "Telugu_rock         648\n",
       "Name: target, dtype: int64"
      ]
     },
     "execution_count": 37,
     "metadata": {},
     "output_type": "execute_result"
    }
   ],
   "source": [
    "genre_data_telugu = genre_data[genre_data['target'].isin(['Telugu_rock',\n",
    "                                                          'Telugu_romantic',\n",
    "                                                          'Telugu_workout'])]\n",
    "\n",
    "genre_data_telugu['target'].value_counts()"
   ]
  },
  {
   "cell_type": "code",
   "execution_count": 38,
   "metadata": {},
   "outputs": [],
   "source": [
    "train_data_telugu_genre, test_data_telugu_genre = train_test_split_func(genre_data_telugu, genre_data_telugu['target'], 0.2, 42)"
   ]
  },
  {
   "cell_type": "code",
   "execution_count": 39,
   "metadata": {},
   "outputs": [],
   "source": [
    "x_train_telugu_genre = train_data_telugu_genre.drop(['target'], 1).copy()\n",
    "x_test_telugu_genre  = test_data_telugu_genre.drop(['target'], 1).copy()\n",
    "\n",
    "y_train_telugu_genre = train_data_telugu_genre['target'].copy()\n",
    "y_test_telugu_genre  = test_data_telugu_genre['target'].copy()"
   ]
  },
  {
   "cell_type": "markdown",
   "metadata": {},
   "source": [
    "## Hindi Genre"
   ]
  },
  {
   "cell_type": "code",
   "execution_count": 40,
   "metadata": {},
   "outputs": [
    {
     "data": {
      "text/plain": [
       "Hindi_workout     1021\n",
       "Hindi_romantic     842\n",
       "Hindi_rock         810\n",
       "Name: target, dtype: int64"
      ]
     },
     "execution_count": 40,
     "metadata": {},
     "output_type": "execute_result"
    }
   ],
   "source": [
    "genre_data_hindi = genre_data[genre_data['target'].isin(['Hindi_rock',\n",
    "                                                         'Hindi_romantic',\n",
    "                                                         'Hindi_workout'])]\n",
    "\n",
    "genre_data_hindi['target'].value_counts()"
   ]
  },
  {
   "cell_type": "code",
   "execution_count": 41,
   "metadata": {},
   "outputs": [],
   "source": [
    "train_data_hindi_genre, test_data_hindi_genre = train_test_split_func(genre_data_hindi, genre_data_hindi['target'], 0.2, 42)"
   ]
  },
  {
   "cell_type": "code",
   "execution_count": 42,
   "metadata": {},
   "outputs": [],
   "source": [
    "x_train_hindi_genre = train_data_hindi_genre.drop(['target'], 1).copy()\n",
    "x_test_hindi_genre  = test_data_hindi_genre.drop(['target'], 1).copy()\n",
    "\n",
    "y_train_hindi_genre = train_data_hindi_genre['target'].copy()\n",
    "y_test_hindi_genre  = test_data_hindi_genre['target'].copy()"
   ]
  },
  {
   "cell_type": "markdown",
   "metadata": {},
   "source": [
    "## All language genres together"
   ]
  },
  {
   "cell_type": "code",
   "execution_count": 43,
   "metadata": {},
   "outputs": [],
   "source": [
    "train_data_all_genres, test_data_all_genres = train_test_split_func(genre_data, genre_data['target'], 0.2, 42)"
   ]
  },
  {
   "cell_type": "code",
   "execution_count": 44,
   "metadata": {},
   "outputs": [],
   "source": [
    "x_train_all_genres = train_data_all_genres.drop(['target'], 1).copy()\n",
    "x_test_all_genres  = test_data_all_genres.drop(['target'], 1).copy()\n",
    "\n",
    "y_train_all_genres = train_data_all_genres['target'].copy()\n",
    "y_test_all_genres  = test_data_all_genres['target'].copy()"
   ]
  },
  {
   "cell_type": "markdown",
   "metadata": {},
   "source": [
    "# Neural Networks"
   ]
  },
  {
   "cell_type": "code",
   "execution_count": 49,
   "metadata": {},
   "outputs": [],
   "source": [
    "cnn_model = Sequential([Dense(100, input_dim = np.shape(x_train_hindi_genre)[1]),\n",
    "                        Activation('relu'),\n",
    "                        Dense(3),\n",
    "                        Activation('softmax')])"
   ]
  },
  {
   "cell_type": "code",
   "execution_count": 50,
   "metadata": {},
   "outputs": [
    {
     "name": "stdout",
     "output_type": "stream",
     "text": [
      "Model: \"sequential_2\"\n",
      "_________________________________________________________________\n",
      "Layer (type)                 Output Shape              Param #   \n",
      "=================================================================\n",
      "dense_4 (Dense)              (None, 100)               9100      \n",
      "_________________________________________________________________\n",
      "activation_4 (Activation)    (None, 100)               0         \n",
      "_________________________________________________________________\n",
      "dense_5 (Dense)              (None, 3)                 303       \n",
      "_________________________________________________________________\n",
      "activation_5 (Activation)    (None, 3)                 0         \n",
      "=================================================================\n",
      "Total params: 9,403\n",
      "Trainable params: 9,403\n",
      "Non-trainable params: 0\n",
      "_________________________________________________________________\n",
      "None\n"
     ]
    }
   ],
   "source": [
    "cnn_model.compile(optimizer = 'adam',\n",
    "                  loss = 'categorical_crossentropy',\n",
    "                  metrics = ['accuracy'])\n",
    "\n",
    "print(cnn_model.summary())"
   ]
  },
  {
   "cell_type": "code",
   "execution_count": 46,
   "metadata": {},
   "outputs": [
    {
     "data": {
      "text/plain": [
       "(2138, 90)"
      ]
     },
     "execution_count": 46,
     "metadata": {},
     "output_type": "execute_result"
    }
   ],
   "source": [
    "np.shape(x_train_hindi_genre)"
   ]
  },
  {
   "cell_type": "code",
   "execution_count": 142,
   "metadata": {},
   "outputs": [
    {
     "data": {
      "text/plain": [
       "(2138, 1)"
      ]
     },
     "execution_count": 142,
     "metadata": {},
     "output_type": "execute_result"
    }
   ],
   "source": [
    "# np.shape(y_train_hindi_genre)\n",
    "np.shape(y1)"
   ]
  },
  {
   "cell_type": "code",
   "execution_count": 51,
   "metadata": {},
   "outputs": [],
   "source": [
    "from sklearn.preprocessing import OneHotEncoder, LabelEncoder, OrdinalEncoder"
   ]
  },
  {
   "cell_type": "code",
   "execution_count": 52,
   "metadata": {},
   "outputs": [],
   "source": [
    "y1 = y_train_hindi_genre.values.reshape((len(y_train_hindi_genre)), 1)\n",
    "y2 = y_test_hindi_genre.values.reshape((len(y_test_hindi_genre)), 1)"
   ]
  },
  {
   "cell_type": "code",
   "execution_count": 54,
   "metadata": {},
   "outputs": [],
   "source": [
    "ohe = OneHotEncoder(sparse = False)\n",
    "ohe.fit(y1)\n",
    "y_train_ohe = ohe.transform(y1)\n",
    "y_test_ohe = ohe.transform(y2)"
   ]
  },
  {
   "cell_type": "code",
   "execution_count": 58,
   "metadata": {},
   "outputs": [],
   "source": [
    "le = LabelEncoder()\n",
    "\n",
    "y_train_le = le.fit_transform(y_train_hindi_genre)\n",
    "y_train_le = to_categorical(y_train_le)"
   ]
  },
  {
   "cell_type": "code",
   "execution_count": 60,
   "metadata": {},
   "outputs": [
    {
     "data": {
      "text/plain": [
       "((2138, 3), (2138, 90))"
      ]
     },
     "execution_count": 60,
     "metadata": {},
     "output_type": "execute_result"
    }
   ],
   "source": [
    "y_train_le.shape, x_train_hindi_genre.shape"
   ]
  },
  {
   "cell_type": "code",
   "execution_count": 61,
   "metadata": {},
   "outputs": [],
   "source": [
    "import scipy"
   ]
  },
  {
   "cell_type": "code",
   "execution_count": 208,
   "metadata": {},
   "outputs": [
    {
     "name": "stdout",
     "output_type": "stream",
     "text": [
      "Epoch 1/10\n",
      "67/67 [==============================] - 0s 4ms/step - loss: 0.7960 - accuracy: 0.6618\n",
      "Epoch 2/10\n",
      "67/67 [==============================] - 0s 3ms/step - loss: 0.4504 - accuracy: 0.8396\n",
      "Epoch 3/10\n",
      "67/67 [==============================] - 0s 3ms/step - loss: 0.3403 - accuracy: 0.8854\n",
      "Epoch 4/10\n",
      "67/67 [==============================] - 0s 3ms/step - loss: 0.2717 - accuracy: 0.9139\n",
      "Epoch 5/10\n",
      "67/67 [==============================] - 0s 3ms/step - loss: 0.2196 - accuracy: 0.9298\n",
      "Epoch 6/10\n",
      "67/67 [==============================] - 0s 3ms/step - loss: 0.1804 - accuracy: 0.9486\n",
      "Epoch 7/10\n",
      "67/67 [==============================] - 0s 3ms/step - loss: 0.1492 - accuracy: 0.9659\n",
      "Epoch 8/10\n",
      "67/67 [==============================] - 0s 3ms/step - loss: 0.1233 - accuracy: 0.9743\n",
      "Epoch 9/10\n",
      "67/67 [==============================] - 0s 2ms/step - loss: 0.1034 - accuracy: 0.9813\n",
      "Epoch 10/10\n",
      "67/67 [==============================] - 0s 2ms/step - loss: 0.0866 - accuracy: 0.9874\n"
     ]
    },
    {
     "data": {
      "text/plain": [
       "<tensorflow.python.keras.callbacks.History at 0x284382fe688>"
      ]
     },
     "execution_count": 208,
     "metadata": {},
     "output_type": "execute_result"
    }
   ],
   "source": [
    "cnn_model.fit(x_train_hindi_genre, y_train_le, epochs = 10, batch_size = 32)"
   ]
  },
  {
   "cell_type": "code",
   "execution_count": 149,
   "metadata": {},
   "outputs": [
    {
     "data": {
      "text/html": [
       "<div>\n",
       "<style scoped>\n",
       "    .dataframe tbody tr th:only-of-type {\n",
       "        vertical-align: middle;\n",
       "    }\n",
       "\n",
       "    .dataframe tbody tr th {\n",
       "        vertical-align: top;\n",
       "    }\n",
       "\n",
       "    .dataframe thead th {\n",
       "        text-align: right;\n",
       "    }\n",
       "</style>\n",
       "<table border=\"1\" class=\"dataframe\">\n",
       "  <thead>\n",
       "    <tr style=\"text-align: right;\">\n",
       "      <th></th>\n",
       "      <th>0</th>\n",
       "      <th>1</th>\n",
       "      <th>2</th>\n",
       "      <th>3</th>\n",
       "      <th>4</th>\n",
       "      <th>5</th>\n",
       "      <th>6</th>\n",
       "      <th>7</th>\n",
       "      <th>8</th>\n",
       "      <th>9</th>\n",
       "      <th>...</th>\n",
       "      <th>80</th>\n",
       "      <th>81</th>\n",
       "      <th>82</th>\n",
       "      <th>83</th>\n",
       "      <th>84</th>\n",
       "      <th>85</th>\n",
       "      <th>86</th>\n",
       "      <th>87</th>\n",
       "      <th>88</th>\n",
       "      <th>89</th>\n",
       "    </tr>\n",
       "  </thead>\n",
       "  <tbody>\n",
       "    <tr>\n",
       "      <th>9074</th>\n",
       "      <td>-4.302407</td>\n",
       "      <td>0.465243</td>\n",
       "      <td>-2.122113</td>\n",
       "      <td>-0.052792</td>\n",
       "      <td>-2.687139</td>\n",
       "      <td>0.238631</td>\n",
       "      <td>-2.480861</td>\n",
       "      <td>-1.871583</td>\n",
       "      <td>0.733212</td>\n",
       "      <td>-0.807809</td>\n",
       "      <td>...</td>\n",
       "      <td>0.435590</td>\n",
       "      <td>-0.350595</td>\n",
       "      <td>-0.520199</td>\n",
       "      <td>-0.117140</td>\n",
       "      <td>-0.182241</td>\n",
       "      <td>-0.000515</td>\n",
       "      <td>0.195718</td>\n",
       "      <td>-0.311816</td>\n",
       "      <td>-0.358681</td>\n",
       "      <td>-0.308248</td>\n",
       "    </tr>\n",
       "    <tr>\n",
       "      <th>8893</th>\n",
       "      <td>-2.006865</td>\n",
       "      <td>0.563778</td>\n",
       "      <td>-1.516675</td>\n",
       "      <td>0.690336</td>\n",
       "      <td>-0.336209</td>\n",
       "      <td>0.570048</td>\n",
       "      <td>-3.465311</td>\n",
       "      <td>1.293144</td>\n",
       "      <td>1.556361</td>\n",
       "      <td>-1.879712</td>\n",
       "      <td>...</td>\n",
       "      <td>-0.938934</td>\n",
       "      <td>-0.019865</td>\n",
       "      <td>-0.326437</td>\n",
       "      <td>-0.399588</td>\n",
       "      <td>-0.643292</td>\n",
       "      <td>-0.232501</td>\n",
       "      <td>0.362333</td>\n",
       "      <td>-0.251561</td>\n",
       "      <td>-0.788757</td>\n",
       "      <td>0.343816</td>\n",
       "    </tr>\n",
       "    <tr>\n",
       "      <th>8125</th>\n",
       "      <td>1.772540</td>\n",
       "      <td>-2.314392</td>\n",
       "      <td>-3.107699</td>\n",
       "      <td>1.088074</td>\n",
       "      <td>2.275237</td>\n",
       "      <td>-0.729291</td>\n",
       "      <td>0.428577</td>\n",
       "      <td>2.818796</td>\n",
       "      <td>1.873020</td>\n",
       "      <td>-0.042138</td>\n",
       "      <td>...</td>\n",
       "      <td>-0.311383</td>\n",
       "      <td>1.122218</td>\n",
       "      <td>-0.702173</td>\n",
       "      <td>0.878986</td>\n",
       "      <td>0.250765</td>\n",
       "      <td>0.102691</td>\n",
       "      <td>0.558883</td>\n",
       "      <td>-0.131569</td>\n",
       "      <td>-0.082181</td>\n",
       "      <td>0.440506</td>\n",
       "    </tr>\n",
       "    <tr>\n",
       "      <th>9245</th>\n",
       "      <td>-3.286943</td>\n",
       "      <td>1.608603</td>\n",
       "      <td>-1.928896</td>\n",
       "      <td>1.195817</td>\n",
       "      <td>3.985868</td>\n",
       "      <td>-1.976853</td>\n",
       "      <td>-2.350908</td>\n",
       "      <td>0.667818</td>\n",
       "      <td>0.887924</td>\n",
       "      <td>-2.246826</td>\n",
       "      <td>...</td>\n",
       "      <td>-0.097042</td>\n",
       "      <td>0.219679</td>\n",
       "      <td>0.199361</td>\n",
       "      <td>-0.113805</td>\n",
       "      <td>-0.448442</td>\n",
       "      <td>0.005590</td>\n",
       "      <td>0.245226</td>\n",
       "      <td>0.075130</td>\n",
       "      <td>-0.232903</td>\n",
       "      <td>-0.696509</td>\n",
       "    </tr>\n",
       "    <tr>\n",
       "      <th>7607</th>\n",
       "      <td>-1.530539</td>\n",
       "      <td>-2.142580</td>\n",
       "      <td>0.924401</td>\n",
       "      <td>0.305973</td>\n",
       "      <td>-2.778219</td>\n",
       "      <td>-1.056393</td>\n",
       "      <td>-1.242056</td>\n",
       "      <td>-1.646202</td>\n",
       "      <td>0.675463</td>\n",
       "      <td>-2.400561</td>\n",
       "      <td>...</td>\n",
       "      <td>-0.219671</td>\n",
       "      <td>0.120092</td>\n",
       "      <td>-0.352130</td>\n",
       "      <td>0.586155</td>\n",
       "      <td>0.098409</td>\n",
       "      <td>-0.854936</td>\n",
       "      <td>-0.359860</td>\n",
       "      <td>0.022798</td>\n",
       "      <td>0.506276</td>\n",
       "      <td>-0.316585</td>\n",
       "    </tr>\n",
       "  </tbody>\n",
       "</table>\n",
       "<p>5 rows × 90 columns</p>\n",
       "</div>"
      ],
      "text/plain": [
       "             0         1         2         3         4         5         6  \\\n",
       "9074 -4.302407  0.465243 -2.122113 -0.052792 -2.687139  0.238631 -2.480861   \n",
       "8893 -2.006865  0.563778 -1.516675  0.690336 -0.336209  0.570048 -3.465311   \n",
       "8125  1.772540 -2.314392 -3.107699  1.088074  2.275237 -0.729291  0.428577   \n",
       "9245 -3.286943  1.608603 -1.928896  1.195817  3.985868 -1.976853 -2.350908   \n",
       "7607 -1.530539 -2.142580  0.924401  0.305973 -2.778219 -1.056393 -1.242056   \n",
       "\n",
       "             7         8         9  ...        80        81        82  \\\n",
       "9074 -1.871583  0.733212 -0.807809  ...  0.435590 -0.350595 -0.520199   \n",
       "8893  1.293144  1.556361 -1.879712  ... -0.938934 -0.019865 -0.326437   \n",
       "8125  2.818796  1.873020 -0.042138  ... -0.311383  1.122218 -0.702173   \n",
       "9245  0.667818  0.887924 -2.246826  ... -0.097042  0.219679  0.199361   \n",
       "7607 -1.646202  0.675463 -2.400561  ... -0.219671  0.120092 -0.352130   \n",
       "\n",
       "            83        84        85        86        87        88        89  \n",
       "9074 -0.117140 -0.182241 -0.000515  0.195718 -0.311816 -0.358681 -0.308248  \n",
       "8893 -0.399588 -0.643292 -0.232501  0.362333 -0.251561 -0.788757  0.343816  \n",
       "8125  0.878986  0.250765  0.102691  0.558883 -0.131569 -0.082181  0.440506  \n",
       "9245 -0.113805 -0.448442  0.005590  0.245226  0.075130 -0.232903 -0.696509  \n",
       "7607  0.586155  0.098409 -0.854936 -0.359860  0.022798  0.506276 -0.316585  \n",
       "\n",
       "[5 rows x 90 columns]"
      ]
     },
     "execution_count": 149,
     "metadata": {},
     "output_type": "execute_result"
    }
   ],
   "source": [
    "x_train_hindi_genre.head()"
   ]
  },
  {
   "cell_type": "markdown",
   "metadata": {},
   "source": [
    "# English Artist"
   ]
  },
  {
   "cell_type": "code",
   "execution_count": 153,
   "metadata": {},
   "outputs": [],
   "source": [
    "cnn_model = Sequential([Dense(81, input_dim = np.shape(x_train_english_artist)[1]),\n",
    "                        Activation('relu'),\n",
    "                        Dense(5),\n",
    "                        Activation('softmax')])"
   ]
  },
  {
   "cell_type": "code",
   "execution_count": 154,
   "metadata": {},
   "outputs": [
    {
     "name": "stdout",
     "output_type": "stream",
     "text": [
      "Model: \"sequential_13\"\n",
      "_________________________________________________________________\n",
      "Layer (type)                 Output Shape              Param #   \n",
      "=================================================================\n",
      "dense_26 (Dense)             (None, 81)                6561      \n",
      "_________________________________________________________________\n",
      "activation_26 (Activation)   (None, 81)                0         \n",
      "_________________________________________________________________\n",
      "dense_27 (Dense)             (None, 5)                 410       \n",
      "_________________________________________________________________\n",
      "activation_27 (Activation)   (None, 5)                 0         \n",
      "=================================================================\n",
      "Total params: 6,971\n",
      "Trainable params: 6,971\n",
      "Non-trainable params: 0\n",
      "_________________________________________________________________\n",
      "None\n"
     ]
    }
   ],
   "source": [
    "cnn_model.compile(optimizer = 'adam',\n",
    "                  loss = 'categorical_crossentropy',\n",
    "                  metrics = ['accuracy'])\n",
    "# cnn_model.compile(optimizer = 'adam')\n",
    "\n",
    "print(cnn_model.summary())"
   ]
  },
  {
   "cell_type": "code",
   "execution_count": 155,
   "metadata": {},
   "outputs": [],
   "source": [
    "le = LabelEncoder()\n",
    "\n",
    "y_train_le = le.fit_transform(y_train_english_artist)\n",
    "y_train_le = to_categorical(y_train_le)\n",
    "\n",
    "y_test_le = le.fit_transform(y_test_english_artist)\n",
    "y_test_le = to_categorical(y_test_le)"
   ]
  },
  {
   "cell_type": "code",
   "execution_count": 278,
   "metadata": {},
   "outputs": [
    {
     "name": "stdout",
     "output_type": "stream",
     "text": [
      "Epoch 1/6\n",
      "172/172 [==============================] - 1s 3ms/step - loss: 0.0221 - accuracy: 0.9984 - val_loss: 0.7003 - val_accuracy: 0.8427\n",
      "Epoch 2/6\n",
      "172/172 [==============================] - 0s 3ms/step - loss: 0.0220 - accuracy: 0.9980 - val_loss: 0.7225 - val_accuracy: 0.8441\n",
      "Epoch 3/6\n",
      "172/172 [==============================] - 1s 3ms/step - loss: 0.0193 - accuracy: 0.9989 - val_loss: 0.7262 - val_accuracy: 0.8405\n",
      "Epoch 4/6\n",
      "172/172 [==============================] - 0s 3ms/step - loss: 0.0182 - accuracy: 0.9985 - val_loss: 0.7246 - val_accuracy: 0.8420\n",
      "Epoch 5/6\n",
      "172/172 [==============================] - 1s 3ms/step - loss: 0.0194 - accuracy: 0.9982 - val_loss: 0.7433 - val_accuracy: 0.8485\n",
      "Epoch 6/6\n",
      "172/172 [==============================] - 1s 4ms/step - loss: 0.0175 - accuracy: 0.9987 - val_loss: 0.7423 - val_accuracy: 0.8492\n"
     ]
    },
    {
     "data": {
      "text/plain": [
       "<tensorflow.python.keras.callbacks.History at 0x2843b220988>"
      ]
     },
     "execution_count": 278,
     "metadata": {},
     "output_type": "execute_result"
    }
   ],
   "source": [
    "cnn_model.fit(x_train_english_artist, y_train_le, epochs = 6, batch_size = 32, validation_data=(x_test_english_artist, y_test_le))"
   ]
  },
  {
   "cell_type": "markdown",
   "metadata": {},
   "source": [
    "# Telugu Artist"
   ]
  },
  {
   "cell_type": "code",
   "execution_count": 333,
   "metadata": {},
   "outputs": [],
   "source": [
    "cnn_model = Sequential([Dense(81, input_dim = np.shape(x_train_telugu_artist)[1]),\n",
    "                        Activation('relu'),\n",
    "                        Dense(4),\n",
    "                        Activation('softmax')])"
   ]
  },
  {
   "cell_type": "code",
   "execution_count": 334,
   "metadata": {},
   "outputs": [
    {
     "name": "stdout",
     "output_type": "stream",
     "text": [
      "Model: \"sequential_41\"\n",
      "_________________________________________________________________\n",
      "Layer (type)                 Output Shape              Param #   \n",
      "=================================================================\n",
      "dense_69 (Dense)             (None, 81)                6561      \n",
      "_________________________________________________________________\n",
      "activation_69 (Activation)   (None, 81)                0         \n",
      "_________________________________________________________________\n",
      "dense_70 (Dense)             (None, 4)                 328       \n",
      "_________________________________________________________________\n",
      "activation_70 (Activation)   (None, 4)                 0         \n",
      "=================================================================\n",
      "Total params: 6,889\n",
      "Trainable params: 6,889\n",
      "Non-trainable params: 0\n",
      "_________________________________________________________________\n",
      "None\n"
     ]
    }
   ],
   "source": [
    "cnn_model.compile(optimizer = 'adam',\n",
    "                  loss = 'categorical_crossentropy',\n",
    "                  metrics = ['accuracy'])\n",
    "# cnn_model.compile(optimizer = 'adam')\n",
    "\n",
    "\n",
    "print(cnn_model.summary())"
   ]
  },
  {
   "cell_type": "code",
   "execution_count": 281,
   "metadata": {},
   "outputs": [],
   "source": [
    "le = LabelEncoder()\n",
    "\n",
    "y_train_le = le.fit_transform(y_train_telugu_artist)\n",
    "y_train_le = to_categorical(y_train_le)\n",
    "\n",
    "y_test_le = le.fit_transform(y_test_telugu_artist)\n",
    "y_test_le = to_categorical(y_test_le)"
   ]
  },
  {
   "cell_type": "code",
   "execution_count": 284,
   "metadata": {},
   "outputs": [
    {
     "name": "stdout",
     "output_type": "stream",
     "text": [
      "Epoch 1/10\n",
      "68/68 [==============================] - 2s 26ms/step - loss: 0.3335 - accuracy: 0.9051 - val_loss: 0.6841 - val_accuracy: 0.7463\n",
      "Epoch 2/10\n",
      "68/68 [==============================] - 1s 21ms/step - loss: 0.3073 - accuracy: 0.9167 - val_loss: 0.6794 - val_accuracy: 0.7463\n",
      "Epoch 3/10\n",
      "68/68 [==============================] - 1s 15ms/step - loss: 0.2841 - accuracy: 0.9292 - val_loss: 0.6752 - val_accuracy: 0.7593\n",
      "Epoch 4/10\n",
      "68/68 [==============================] - 1s 11ms/step - loss: 0.2635 - accuracy: 0.9315 - val_loss: 0.6720 - val_accuracy: 0.7500\n",
      "Epoch 5/10\n",
      "68/68 [==============================] - 1s 12ms/step - loss: 0.2430 - accuracy: 0.9394 - val_loss: 0.6665 - val_accuracy: 0.7500\n",
      "Epoch 6/10\n",
      "68/68 [==============================] - 1s 12ms/step - loss: 0.2229 - accuracy: 0.9491 - val_loss: 0.6568 - val_accuracy: 0.7611\n",
      "Epoch 7/10\n",
      "68/68 [==============================] - 1s 10ms/step - loss: 0.2036 - accuracy: 0.9583 - val_loss: 0.6642 - val_accuracy: 0.7630\n",
      "Epoch 8/10\n",
      "68/68 [==============================] - 1s 11ms/step - loss: 0.1903 - accuracy: 0.9644 - val_loss: 0.6602 - val_accuracy: 0.7648\n",
      "Epoch 9/10\n",
      "68/68 [==============================] - 1s 11ms/step - loss: 0.1732 - accuracy: 0.9681 - val_loss: 0.6623 - val_accuracy: 0.7630\n",
      "Epoch 10/10\n",
      "68/68 [==============================] - 1s 10ms/step - loss: 0.1588 - accuracy: 0.9704 - val_loss: 0.6640 - val_accuracy: 0.7685\n"
     ]
    },
    {
     "data": {
      "text/plain": [
       "<tensorflow.python.keras.callbacks.History at 0x284360c3948>"
      ]
     },
     "execution_count": 284,
     "metadata": {},
     "output_type": "execute_result"
    }
   ],
   "source": [
    "cnn_model.fit(x_train_telugu_artist, y_train_le, epochs = 10, batch_size = 32, validation_data=(x_test_telugu_artist, y_test_le))"
   ]
  },
  {
   "cell_type": "code",
   "execution_count": null,
   "metadata": {},
   "outputs": [],
   "source": []
  },
  {
   "cell_type": "markdown",
   "metadata": {},
   "source": [
    "# Hindi Artist"
   ]
  },
  {
   "cell_type": "code",
   "execution_count": 331,
   "metadata": {},
   "outputs": [],
   "source": [
    "cnn_model = Sequential([Dense(81, input_dim = np.shape(x_train_hindi_artist)[1]),\n",
    "                        Activation('relu'),\n",
    "                        Dense(3),\n",
    "                        Activation('softmax')])"
   ]
  },
  {
   "cell_type": "code",
   "execution_count": 332,
   "metadata": {},
   "outputs": [
    {
     "name": "stdout",
     "output_type": "stream",
     "text": [
      "Model: \"sequential_40\"\n",
      "_________________________________________________________________\n",
      "Layer (type)                 Output Shape              Param #   \n",
      "=================================================================\n",
      "dense_67 (Dense)             (None, 81)                6561      \n",
      "_________________________________________________________________\n",
      "activation_67 (Activation)   (None, 81)                0         \n",
      "_________________________________________________________________\n",
      "dense_68 (Dense)             (None, 3)                 246       \n",
      "_________________________________________________________________\n",
      "activation_68 (Activation)   (None, 3)                 0         \n",
      "=================================================================\n",
      "Total params: 6,807\n",
      "Trainable params: 6,807\n",
      "Non-trainable params: 0\n",
      "_________________________________________________________________\n",
      "None\n"
     ]
    }
   ],
   "source": [
    "cnn_model.compile(optimizer = 'adam',\n",
    "                  loss = 'categorical_crossentropy',\n",
    "                  metrics = ['accuracy'])\n",
    "\n",
    "print(cnn_model.summary())"
   ]
  },
  {
   "cell_type": "code",
   "execution_count": 287,
   "metadata": {},
   "outputs": [],
   "source": [
    "le = LabelEncoder()\n",
    "\n",
    "y_train_le = le.fit_transform(y_train_hindi_artist)\n",
    "y_train_le = to_categorical(y_train_le)\n",
    "\n",
    "y_test_le = le.fit_transform(y_test_hindi_artist)\n",
    "y_test_le = to_categorical(y_test_le)"
   ]
  },
  {
   "cell_type": "code",
   "execution_count": 289,
   "metadata": {},
   "outputs": [
    {
     "name": "stdout",
     "output_type": "stream",
     "text": [
      "Epoch 1/10\n",
      "89/89 [==============================] - 0s 4ms/step - loss: 0.2478 - accuracy: 0.9254 - val_loss: 0.4418 - val_accuracy: 0.8186\n",
      "Epoch 2/10\n",
      "89/89 [==============================] - 0s 4ms/step - loss: 0.2275 - accuracy: 0.9335 - val_loss: 0.4401 - val_accuracy: 0.8298\n",
      "Epoch 3/10\n",
      "89/89 [==============================] - 0s 4ms/step - loss: 0.2078 - accuracy: 0.9423 - val_loss: 0.4346 - val_accuracy: 0.8172\n",
      "Epoch 4/10\n",
      "89/89 [==============================] - 0s 3ms/step - loss: 0.1914 - accuracy: 0.9497 - val_loss: 0.4433 - val_accuracy: 0.8284\n",
      "Epoch 5/10\n",
      "89/89 [==============================] - 0s 3ms/step - loss: 0.1765 - accuracy: 0.9567 - val_loss: 0.4258 - val_accuracy: 0.8298\n",
      "Epoch 6/10\n",
      "89/89 [==============================] - 0s 3ms/step - loss: 0.1610 - accuracy: 0.9599 - val_loss: 0.4498 - val_accuracy: 0.8228\n",
      "Epoch 7/10\n",
      "89/89 [==============================] - 0s 3ms/step - loss: 0.1471 - accuracy: 0.9694 - val_loss: 0.4424 - val_accuracy: 0.8228\n",
      "Epoch 8/10\n",
      "89/89 [==============================] - 0s 4ms/step - loss: 0.1337 - accuracy: 0.9729 - val_loss: 0.4385 - val_accuracy: 0.8270\n",
      "Epoch 9/10\n",
      "89/89 [==============================] - 0s 4ms/step - loss: 0.1237 - accuracy: 0.9764 - val_loss: 0.4606 - val_accuracy: 0.8242\n",
      "Epoch 10/10\n",
      "89/89 [==============================] - 0s 3ms/step - loss: 0.1165 - accuracy: 0.9761 - val_loss: 0.4554 - val_accuracy: 0.8298\n"
     ]
    },
    {
     "data": {
      "text/plain": [
       "<tensorflow.python.keras.callbacks.History at 0x284360361c8>"
      ]
     },
     "execution_count": 289,
     "metadata": {},
     "output_type": "execute_result"
    }
   ],
   "source": [
    "cnn_model.fit(x_train_hindi_artist, y_train_le, epochs = 10, batch_size = 32, validation_data=(x_test_hindi_artist, y_test_le))"
   ]
  },
  {
   "cell_type": "markdown",
   "metadata": {},
   "source": []
  },
  {
   "cell_type": "markdown",
   "metadata": {},
   "source": [
    "# Overall Artists"
   ]
  },
  {
   "cell_type": "code",
   "execution_count": 328,
   "metadata": {},
   "outputs": [],
   "source": [
    "cnn_model = Sequential([Dense(81, input_dim = np.shape(x_train_all_artists)[1]),\n",
    "                        Activation('relu'),\n",
    "                        Dense(12),\n",
    "                        Activation('softmax')])"
   ]
  },
  {
   "cell_type": "code",
   "execution_count": 329,
   "metadata": {},
   "outputs": [
    {
     "name": "stdout",
     "output_type": "stream",
     "text": [
      "Model: \"sequential_39\"\n",
      "_________________________________________________________________\n",
      "Layer (type)                 Output Shape              Param #   \n",
      "=================================================================\n",
      "dense_65 (Dense)             (None, 81)                6561      \n",
      "_________________________________________________________________\n",
      "activation_65 (Activation)   (None, 81)                0         \n",
      "_________________________________________________________________\n",
      "dense_66 (Dense)             (None, 12)                984       \n",
      "_________________________________________________________________\n",
      "activation_66 (Activation)   (None, 12)                0         \n",
      "=================================================================\n",
      "Total params: 7,545\n",
      "Trainable params: 7,545\n",
      "Non-trainable params: 0\n",
      "_________________________________________________________________\n",
      "None\n"
     ]
    }
   ],
   "source": [
    "cnn_model.compile(optimizer = 'adam',\n",
    "                  loss = 'categorical_crossentropy',\n",
    "                  metrics = ['accuracy'])\n",
    "\n",
    "print(cnn_model.summary())"
   ]
  },
  {
   "cell_type": "code",
   "execution_count": 330,
   "metadata": {},
   "outputs": [],
   "source": [
    "le = LabelEncoder()\n",
    "\n",
    "y_train_le = le.fit_transform(y_train_all_artists)\n",
    "y_train_le = to_categorical(y_train_le)\n",
    "\n",
    "y_test_le = le.fit_transform(y_test_all_artists)\n",
    "y_test_le = to_categorical(y_test_le)"
   ]
  },
  {
   "cell_type": "code",
   "execution_count": 295,
   "metadata": {},
   "outputs": [
    {
     "name": "stdout",
     "output_type": "stream",
     "text": [
      "Epoch 1/10\n",
      "328/328 [==============================] - 2s 5ms/step - loss: 0.5517 - accuracy: 0.8255 - val_loss: 0.8713 - val_accuracy: 0.7165\n",
      "Epoch 2/10\n",
      "328/328 [==============================] - 2s 5ms/step - loss: 0.5241 - accuracy: 0.8374 - val_loss: 0.8630 - val_accuracy: 0.7119\n",
      "Epoch 3/10\n",
      "328/328 [==============================] - 2s 5ms/step - loss: 0.4963 - accuracy: 0.8476 - val_loss: 0.8645 - val_accuracy: 0.7165\n",
      "Epoch 4/10\n",
      "328/328 [==============================] - 2s 6ms/step - loss: 0.4728 - accuracy: 0.8523 - val_loss: 0.8650 - val_accuracy: 0.7180\n",
      "Epoch 5/10\n",
      "328/328 [==============================] - 2s 7ms/step - loss: 0.4503 - accuracy: 0.8635 - val_loss: 0.8660 - val_accuracy: 0.7195\n",
      "Epoch 6/10\n",
      "328/328 [==============================] - 2s 5ms/step - loss: 0.4298 - accuracy: 0.8710 - val_loss: 0.8648 - val_accuracy: 0.7199\n",
      "Epoch 7/10\n",
      "328/328 [==============================] - 2s 5ms/step - loss: 0.4094 - accuracy: 0.8794 - val_loss: 0.8761 - val_accuracy: 0.7195\n",
      "Epoch 8/10\n",
      "328/328 [==============================] - 1s 5ms/step - loss: 0.3934 - accuracy: 0.8852 - val_loss: 0.8744 - val_accuracy: 0.7184\n",
      "Epoch 9/10\n",
      "328/328 [==============================] - 2s 5ms/step - loss: 0.3743 - accuracy: 0.8908 - val_loss: 0.8878 - val_accuracy: 0.7168\n",
      "Epoch 10/10\n",
      "328/328 [==============================] - 2s 5ms/step - loss: 0.3582 - accuracy: 0.8962 - val_loss: 0.8949 - val_accuracy: 0.7218\n"
     ]
    },
    {
     "data": {
      "text/plain": [
       "<tensorflow.python.keras.callbacks.History at 0x2843b097088>"
      ]
     },
     "execution_count": 295,
     "metadata": {},
     "output_type": "execute_result"
    }
   ],
   "source": [
    "cnn_model.fit(x_train_all_artists, y_train_le, epochs = 10, batch_size = 32, validation_data=(x_test_all_artists, y_test_le))"
   ]
  },
  {
   "cell_type": "markdown",
   "metadata": {},
   "source": [
    "# English Genre"
   ]
  },
  {
   "cell_type": "code",
   "execution_count": 326,
   "metadata": {},
   "outputs": [],
   "source": [
    "cnn_model = Sequential([Dense(91, input_dim = np.shape(x_train_english_genre)[1]),\n",
    "                        Activation('relu'),\n",
    "                        Dense(4),\n",
    "                        Activation('softmax')])"
   ]
  },
  {
   "cell_type": "code",
   "execution_count": 327,
   "metadata": {},
   "outputs": [
    {
     "name": "stdout",
     "output_type": "stream",
     "text": [
      "Model: \"sequential_38\"\n",
      "_________________________________________________________________\n",
      "Layer (type)                 Output Shape              Param #   \n",
      "=================================================================\n",
      "dense_63 (Dense)             (None, 91)                8281      \n",
      "_________________________________________________________________\n",
      "activation_63 (Activation)   (None, 91)                0         \n",
      "_________________________________________________________________\n",
      "dense_64 (Dense)             (None, 4)                 368       \n",
      "_________________________________________________________________\n",
      "activation_64 (Activation)   (None, 4)                 0         \n",
      "=================================================================\n",
      "Total params: 8,649\n",
      "Trainable params: 8,649\n",
      "Non-trainable params: 0\n",
      "_________________________________________________________________\n",
      "None\n"
     ]
    }
   ],
   "source": [
    "cnn_model.compile(optimizer = 'adam',\n",
    "                  loss = 'categorical_crossentropy',\n",
    "                  metrics = ['accuracy'])\n",
    "\n",
    "print(cnn_model.summary())"
   ]
  },
  {
   "cell_type": "code",
   "execution_count": 302,
   "metadata": {},
   "outputs": [],
   "source": [
    "le = LabelEncoder()\n",
    "\n",
    "y_train_le = le.fit_transform(y_train_english_genre)\n",
    "y_train_le = to_categorical(y_train_le)\n",
    "\n",
    "y_test_le = le.fit_transform(y_test_english_genre)\n",
    "y_test_le = to_categorical(y_test_le)"
   ]
  },
  {
   "cell_type": "code",
   "execution_count": 303,
   "metadata": {},
   "outputs": [
    {
     "name": "stdout",
     "output_type": "stream",
     "text": [
      "Epoch 1/10\n",
      "99/99 [==============================] - 2s 16ms/step - loss: 1.0728 - accuracy: 0.5588 - val_loss: 0.7526 - val_accuracy: 0.7529\n",
      "Epoch 2/10\n",
      "99/99 [==============================] - 1s 11ms/step - loss: 0.6069 - accuracy: 0.8049 - val_loss: 0.5909 - val_accuracy: 0.8048\n",
      "Epoch 3/10\n",
      "99/99 [==============================] - 1s 11ms/step - loss: 0.4568 - accuracy: 0.8633 - val_loss: 0.4991 - val_accuracy: 0.8454\n",
      "Epoch 4/10\n",
      "99/99 [==============================] - 1s 10ms/step - loss: 0.3628 - accuracy: 0.8979 - val_loss: 0.4548 - val_accuracy: 0.8669\n",
      "Epoch 5/10\n",
      "99/99 [==============================] - 1s 10ms/step - loss: 0.2941 - accuracy: 0.9207 - val_loss: 0.4131 - val_accuracy: 0.8733\n",
      "Epoch 6/10\n",
      "99/99 [==============================] - 1s 11ms/step - loss: 0.2384 - accuracy: 0.9388 - val_loss: 0.3821 - val_accuracy: 0.8809\n",
      "Epoch 7/10\n",
      "99/99 [==============================] - 1s 11ms/step - loss: 0.1964 - accuracy: 0.9569 - val_loss: 0.3551 - val_accuracy: 0.8910\n",
      "Epoch 8/10\n",
      "99/99 [==============================] - 1s 12ms/step - loss: 0.1610 - accuracy: 0.9686 - val_loss: 0.3352 - val_accuracy: 0.8999\n",
      "Epoch 9/10\n",
      "99/99 [==============================] - 1s 11ms/step - loss: 0.1311 - accuracy: 0.9800 - val_loss: 0.3217 - val_accuracy: 0.9011\n",
      "Epoch 10/10\n",
      "99/99 [==============================] - 1s 11ms/step - loss: 0.1085 - accuracy: 0.9876 - val_loss: 0.3058 - val_accuracy: 0.9075\n"
     ]
    },
    {
     "data": {
      "text/plain": [
       "<tensorflow.python.keras.callbacks.History at 0x2843b266c48>"
      ]
     },
     "execution_count": 303,
     "metadata": {},
     "output_type": "execute_result"
    }
   ],
   "source": [
    "cnn_model.fit(x_train_english_genre, y_train_le, epochs = 10, batch_size = 32, validation_data=(x_test_english_genre, y_test_le))"
   ]
  },
  {
   "cell_type": "code",
   "execution_count": null,
   "metadata": {},
   "outputs": [],
   "source": []
  },
  {
   "cell_type": "markdown",
   "metadata": {},
   "source": [
    "# Telugu Genre"
   ]
  },
  {
   "cell_type": "code",
   "execution_count": 316,
   "metadata": {},
   "outputs": [],
   "source": [
    "cnn_model = Sequential([Dense(91, input_dim = np.shape(x_train_telugu_genre)[1]),\n",
    "                        Activation('relu'),\n",
    "                        Dense(3),\n",
    "                        Activation('softmax')])"
   ]
  },
  {
   "cell_type": "code",
   "execution_count": 317,
   "metadata": {},
   "outputs": [
    {
     "name": "stdout",
     "output_type": "stream",
     "text": [
      "Model: \"sequential_35\"\n",
      "_________________________________________________________________\n",
      "Layer (type)                 Output Shape              Param #   \n",
      "=================================================================\n",
      "dense_57 (Dense)             (None, 91)                8281      \n",
      "_________________________________________________________________\n",
      "activation_57 (Activation)   (None, 91)                0         \n",
      "_________________________________________________________________\n",
      "dense_58 (Dense)             (None, 3)                 276       \n",
      "_________________________________________________________________\n",
      "activation_58 (Activation)   (None, 3)                 0         \n",
      "=================================================================\n",
      "Total params: 8,557\n",
      "Trainable params: 8,557\n",
      "Non-trainable params: 0\n",
      "_________________________________________________________________\n",
      "None\n"
     ]
    }
   ],
   "source": [
    "cnn_model.compile(optimizer = 'adam',\n",
    "                  loss = 'categorical_crossentropy',\n",
    "                  metrics = ['accuracy'])\n",
    "\n",
    "print(cnn_model.summary())"
   ]
  },
  {
   "cell_type": "code",
   "execution_count": 318,
   "metadata": {},
   "outputs": [],
   "source": [
    "le = LabelEncoder()\n",
    "\n",
    "y_train_le = le.fit_transform(y_train_telugu_genre)\n",
    "y_train_le = to_categorical(y_train_le)\n",
    "\n",
    "y_test_le = le.fit_transform(y_test_telugu_genre)\n",
    "y_test_le = to_categorical(y_test_le)"
   ]
  },
  {
   "cell_type": "code",
   "execution_count": 321,
   "metadata": {},
   "outputs": [
    {
     "name": "stdout",
     "output_type": "stream",
     "text": [
      "Epoch 1/10\n",
      "77/77 [==============================] - 1s 7ms/step - loss: 0.0931 - accuracy: 0.9598 - val_loss: 0.3774 - val_accuracy: 0.8571\n",
      "Epoch 2/10\n",
      "77/77 [==============================] - 1s 7ms/step - loss: 0.0910 - accuracy: 0.9593 - val_loss: 0.3889 - val_accuracy: 0.8588\n",
      "Epoch 3/10\n",
      "77/77 [==============================] - 1s 7ms/step - loss: 0.0887 - accuracy: 0.9618 - val_loss: 0.3841 - val_accuracy: 0.8604\n",
      "Epoch 4/10\n",
      "77/77 [==============================] - 0s 6ms/step - loss: 0.0862 - accuracy: 0.9630 - val_loss: 0.3757 - val_accuracy: 0.8637\n",
      "Epoch 5/10\n",
      "77/77 [==============================] - 0s 6ms/step - loss: 0.0839 - accuracy: 0.9639 - val_loss: 0.3844 - val_accuracy: 0.8621\n",
      "Epoch 6/10\n",
      "77/77 [==============================] - 0s 6ms/step - loss: 0.0797 - accuracy: 0.9639 - val_loss: 0.3820 - val_accuracy: 0.8555\n",
      "Epoch 7/10\n",
      "77/77 [==============================] - 0s 6ms/step - loss: 0.0781 - accuracy: 0.9610 - val_loss: 0.3964 - val_accuracy: 0.8588\n",
      "Epoch 8/10\n",
      "77/77 [==============================] - 0s 6ms/step - loss: 0.0769 - accuracy: 0.9618 - val_loss: 0.3927 - val_accuracy: 0.8604\n",
      "Epoch 9/10\n",
      "77/77 [==============================] - 1s 7ms/step - loss: 0.0776 - accuracy: 0.9634 - val_loss: 0.3919 - val_accuracy: 0.8637\n",
      "Epoch 10/10\n",
      "77/77 [==============================] - 0s 6ms/step - loss: 0.0792 - accuracy: 0.9639 - val_loss: 0.3916 - val_accuracy: 0.8604\n"
     ]
    },
    {
     "data": {
      "text/plain": [
       "<tensorflow.python.keras.callbacks.History at 0x2843e6de488>"
      ]
     },
     "execution_count": 321,
     "metadata": {},
     "output_type": "execute_result"
    }
   ],
   "source": [
    "cnn_model.fit(x_train_telugu_genre, y_train_le, epochs = 10, batch_size = 32, validation_data=(x_test_telugu_genre, y_test_le))"
   ]
  },
  {
   "cell_type": "code",
   "execution_count": null,
   "metadata": {},
   "outputs": [],
   "source": []
  },
  {
   "cell_type": "markdown",
   "metadata": {},
   "source": [
    "# Hindi Genre"
   ]
  },
  {
   "cell_type": "code",
   "execution_count": 119,
   "metadata": {},
   "outputs": [],
   "source": [
    "cnn_model = Sequential([Dense(91, input_dim = np.shape(x_train_hindi_genre)[1]),\n",
    "                        Activation('relu'),\n",
    "                        Dense(3),\n",
    "                        Activation('softmax')])"
   ]
  },
  {
   "cell_type": "code",
   "execution_count": 120,
   "metadata": {},
   "outputs": [
    {
     "name": "stdout",
     "output_type": "stream",
     "text": [
      "Model: \"sequential_7\"\n",
      "_________________________________________________________________\n",
      "Layer (type)                 Output Shape              Param #   \n",
      "=================================================================\n",
      "dense_14 (Dense)             (None, 91)                8281      \n",
      "_________________________________________________________________\n",
      "activation_14 (Activation)   (None, 91)                0         \n",
      "_________________________________________________________________\n",
      "dense_15 (Dense)             (None, 3)                 276       \n",
      "_________________________________________________________________\n",
      "activation_15 (Activation)   (None, 3)                 0         \n",
      "=================================================================\n",
      "Total params: 8,557\n",
      "Trainable params: 8,557\n",
      "Non-trainable params: 0\n",
      "_________________________________________________________________\n",
      "None\n"
     ]
    }
   ],
   "source": [
    "cnn_model.compile(optimizer = 'adam',\n",
    "                  loss = 'categorical_crossentropy',\n",
    "                  metrics = ['accuracy'])\n",
    "\n",
    "print(cnn_model.summary())"
   ]
  },
  {
   "cell_type": "code",
   "execution_count": 121,
   "metadata": {},
   "outputs": [],
   "source": [
    "le = LabelEncoder()\n",
    "\n",
    "y_train_le = le.fit_transform(y_train_hindi_genre)\n",
    "y_train_le = to_categorical(y_train_le)\n",
    "\n",
    "y_test_le = le.fit_transform(y_test_hindi_genre)\n",
    "y_test_le = to_categorical(y_test_le)"
   ]
  },
  {
   "cell_type": "code",
   "execution_count": 126,
   "metadata": {},
   "outputs": [
    {
     "name": "stdout",
     "output_type": "stream",
     "text": [
      "Epoch 1/10\n",
      "67/67 [==============================] - 0s 6ms/step - loss: 2.4080e-04 - accuracy: 1.0000 - val_loss: 0.3088 - val_accuracy: 0.9383\n",
      "Epoch 2/10\n",
      "67/67 [==============================] - 0s 6ms/step - loss: 2.3072e-04 - accuracy: 1.0000 - val_loss: 0.3095 - val_accuracy: 0.9383\n",
      "Epoch 3/10\n",
      "67/67 [==============================] - 1s 8ms/step - loss: 2.2122e-04 - accuracy: 1.0000 - val_loss: 0.3099 - val_accuracy: 0.9402\n",
      "Epoch 4/10\n",
      "67/67 [==============================] - 1s 8ms/step - loss: 2.1147e-04 - accuracy: 1.0000 - val_loss: 0.3118 - val_accuracy: 0.9402\n",
      "Epoch 5/10\n",
      "67/67 [==============================] - 1s 10ms/step - loss: 2.0329e-04 - accuracy: 1.0000 - val_loss: 0.3120 - val_accuracy: 0.9402\n",
      "Epoch 6/10\n",
      "67/67 [==============================] - 0s 6ms/step - loss: 1.9555e-04 - accuracy: 1.0000 - val_loss: 0.3130 - val_accuracy: 0.9402\n",
      "Epoch 7/10\n",
      "67/67 [==============================] - 0s 6ms/step - loss: 1.8694e-04 - accuracy: 1.0000 - val_loss: 0.3133 - val_accuracy: 0.9402\n",
      "Epoch 8/10\n",
      "67/67 [==============================] - 0s 6ms/step - loss: 1.7983e-04 - accuracy: 1.0000 - val_loss: 0.3143 - val_accuracy: 0.9402\n",
      "Epoch 9/10\n",
      "67/67 [==============================] - 0s 6ms/step - loss: 1.7231e-04 - accuracy: 1.0000 - val_loss: 0.3152 - val_accuracy: 0.9402\n",
      "Epoch 10/10\n",
      "67/67 [==============================] - 0s 7ms/step - loss: 1.6509e-04 - accuracy: 1.0000 - val_loss: 0.3168 - val_accuracy: 0.9402\n"
     ]
    },
    {
     "data": {
      "text/plain": [
       "<tensorflow.python.keras.callbacks.History at 0x1c10ebd9dc8>"
      ]
     },
     "execution_count": 126,
     "metadata": {},
     "output_type": "execute_result"
    }
   ],
   "source": [
    "cnn_model.fit(x_train_hindi_genre, y_train_le, epochs = 10, batch_size = 32, validation_data=(x_test_hindi_genre, y_test_le))"
   ]
  },
  {
   "cell_type": "code",
   "execution_count": null,
   "metadata": {},
   "outputs": [],
   "source": []
  },
  {
   "cell_type": "markdown",
   "metadata": {},
   "source": [
    "# All Generes"
   ]
  },
  {
   "cell_type": "code",
   "execution_count": 322,
   "metadata": {},
   "outputs": [],
   "source": [
    "cnn_model = Sequential([Dense(91, input_dim = np.shape(x_train_all_genres)[1]),\n",
    "                        Activation('relu'),\n",
    "                        Dense(10),\n",
    "                        Activation('softmax')])"
   ]
  },
  {
   "cell_type": "code",
   "execution_count": 323,
   "metadata": {},
   "outputs": [
    {
     "name": "stdout",
     "output_type": "stream",
     "text": [
      "Model: \"sequential_36\"\n",
      "_________________________________________________________________\n",
      "Layer (type)                 Output Shape              Param #   \n",
      "=================================================================\n",
      "dense_59 (Dense)             (None, 91)                8281      \n",
      "_________________________________________________________________\n",
      "activation_59 (Activation)   (None, 91)                0         \n",
      "_________________________________________________________________\n",
      "dense_60 (Dense)             (None, 10)                920       \n",
      "_________________________________________________________________\n",
      "activation_60 (Activation)   (None, 10)                0         \n",
      "=================================================================\n",
      "Total params: 9,201\n",
      "Trainable params: 9,201\n",
      "Non-trainable params: 0\n",
      "_________________________________________________________________\n",
      "None\n"
     ]
    }
   ],
   "source": [
    "cnn_model.compile(optimizer = 'adam',\n",
    "                  loss = 'categorical_crossentropy',\n",
    "                  metrics = ['accuracy'])\n",
    "\n",
    "print(cnn_model.summary())"
   ]
  },
  {
   "cell_type": "code",
   "execution_count": 314,
   "metadata": {},
   "outputs": [],
   "source": [
    "le = LabelEncoder()\n",
    "\n",
    "y_train_le = le.fit_transform(y_train_all_genres)\n",
    "y_train_le = to_categorical(y_train_le)\n",
    "\n",
    "y_test_le = le.fit_transform(y_test_all_genres)\n",
    "y_test_le = to_categorical(y_test_le)"
   ]
  },
  {
   "cell_type": "code",
   "execution_count": 315,
   "metadata": {},
   "outputs": [
    {
     "name": "stdout",
     "output_type": "stream",
     "text": [
      "Epoch 1/10\n",
      "242/242 [==============================] - 1s 6ms/step - loss: 1.8137 - accuracy: 0.3872 - val_loss: 1.4471 - val_accuracy: 0.5367\n",
      "Epoch 2/10\n",
      "242/242 [==============================] - 1s 5ms/step - loss: 1.2582 - accuracy: 0.6046 - val_loss: 1.1944 - val_accuracy: 0.6294\n",
      "Epoch 3/10\n",
      "242/242 [==============================] - 1s 5ms/step - loss: 1.0424 - accuracy: 0.6783 - val_loss: 1.0722 - val_accuracy: 0.6760\n",
      "Epoch 4/10\n",
      "242/242 [==============================] - 1s 6ms/step - loss: 0.8995 - accuracy: 0.7243 - val_loss: 0.9809 - val_accuracy: 0.7029\n",
      "Epoch 5/10\n",
      "242/242 [==============================] - 1s 4ms/step - loss: 0.7882 - accuracy: 0.7605 - val_loss: 0.9146 - val_accuracy: 0.7215\n",
      "Epoch 6/10\n",
      "242/242 [==============================] - 1s 4ms/step - loss: 0.6989 - accuracy: 0.7889 - val_loss: 0.8614 - val_accuracy: 0.7391\n",
      "Epoch 7/10\n",
      "242/242 [==============================] - 1s 5ms/step - loss: 0.6197 - accuracy: 0.8210 - val_loss: 0.8238 - val_accuracy: 0.7531\n",
      "Epoch 8/10\n",
      "242/242 [==============================] - 1s 4ms/step - loss: 0.5529 - accuracy: 0.8377 - val_loss: 0.7880 - val_accuracy: 0.7624\n",
      "Epoch 9/10\n",
      "242/242 [==============================] - 1s 5ms/step - loss: 0.4949 - accuracy: 0.8553 - val_loss: 0.7587 - val_accuracy: 0.7774\n",
      "Epoch 10/10\n",
      "242/242 [==============================] - 1s 5ms/step - loss: 0.4452 - accuracy: 0.8747 - val_loss: 0.7408 - val_accuracy: 0.7723\n"
     ]
    },
    {
     "data": {
      "text/plain": [
       "<tensorflow.python.keras.callbacks.History at 0x28435f70a88>"
      ]
     },
     "execution_count": 315,
     "metadata": {},
     "output_type": "execute_result"
    }
   ],
   "source": [
    "cnn_model.fit(x_train_all_genres, y_train_le, epochs = 10, batch_size = 32, validation_data=(x_test_all_genres, y_test_le))"
   ]
  },
  {
   "cell_type": "markdown",
   "metadata": {},
   "source": [
    "# Optimizer as rmsprop"
   ]
  },
  {
   "cell_type": "markdown",
   "metadata": {},
   "source": [
    "# English Artist"
   ]
  },
  {
   "cell_type": "code",
   "execution_count": 157,
   "metadata": {},
   "outputs": [],
   "source": [
    "cnn_model = Sequential([Dense(81, input_dim = np.shape(x_train_english_artist)[1]),\n",
    "                        Activation('relu'),\n",
    "                        Dense(5),\n",
    "                        Activation('softmax')])"
   ]
  },
  {
   "cell_type": "code",
   "execution_count": 158,
   "metadata": {},
   "outputs": [
    {
     "name": "stdout",
     "output_type": "stream",
     "text": [
      "Model: \"sequential_14\"\n",
      "_________________________________________________________________\n",
      "Layer (type)                 Output Shape              Param #   \n",
      "=================================================================\n",
      "dense_28 (Dense)             (None, 81)                6561      \n",
      "_________________________________________________________________\n",
      "activation_28 (Activation)   (None, 81)                0         \n",
      "_________________________________________________________________\n",
      "dense_29 (Dense)             (None, 5)                 410       \n",
      "_________________________________________________________________\n",
      "activation_29 (Activation)   (None, 5)                 0         \n",
      "=================================================================\n",
      "Total params: 6,971\n",
      "Trainable params: 6,971\n",
      "Non-trainable params: 0\n",
      "_________________________________________________________________\n",
      "None\n"
     ]
    }
   ],
   "source": [
    "cnn_model.compile(optimizer = 'rmsprop',\n",
    "                  loss = 'categorical_crossentropy',\n",
    "                  metrics = ['accuracy'])\n",
    "\n",
    "print(cnn_model.summary())"
   ]
  },
  {
   "cell_type": "code",
   "execution_count": 159,
   "metadata": {},
   "outputs": [],
   "source": [
    "le = LabelEncoder()\n",
    "\n",
    "y_train_le = le.fit_transform(y_train_english_artist)\n",
    "y_train_le = to_categorical(y_train_le)\n",
    "\n",
    "y_test_le = le.fit_transform(y_test_english_artist)\n",
    "y_test_le = to_categorical(y_test_le)"
   ]
  },
  {
   "cell_type": "code",
   "execution_count": 160,
   "metadata": {},
   "outputs": [
    {
     "name": "stdout",
     "output_type": "stream",
     "text": [
      "Epoch 1/6\n",
      "172/172 [==============================] - 1s 3ms/step - loss: 1.1717 - accuracy: 0.5597 - val_loss: 0.8552 - val_accuracy: 0.7101\n",
      "Epoch 2/6\n",
      "172/172 [==============================] - 0s 3ms/step - loss: 0.7536 - accuracy: 0.7484 - val_loss: 0.7030 - val_accuracy: 0.7713\n",
      "Epoch 3/6\n",
      "172/172 [==============================] - 1s 3ms/step - loss: 0.6294 - accuracy: 0.7841 - val_loss: 0.6515 - val_accuracy: 0.7866\n",
      "Epoch 4/6\n",
      "172/172 [==============================] - 0s 3ms/step - loss: 0.5567 - accuracy: 0.8111 - val_loss: 0.6245 - val_accuracy: 0.7910\n",
      "Epoch 5/6\n",
      "172/172 [==============================] - 0s 3ms/step - loss: 0.5019 - accuracy: 0.8280 - val_loss: 0.6041 - val_accuracy: 0.8004\n",
      "Epoch 6/6\n",
      "172/172 [==============================] - 0s 3ms/step - loss: 0.4576 - accuracy: 0.8453 - val_loss: 0.5896 - val_accuracy: 0.8092\n"
     ]
    },
    {
     "data": {
      "text/plain": [
       "<tensorflow.python.keras.callbacks.History at 0x1c10ee8bd48>"
      ]
     },
     "execution_count": 160,
     "metadata": {},
     "output_type": "execute_result"
    }
   ],
   "source": [
    "cnn_model.fit(x_train_english_artist, y_train_le, epochs = 6, batch_size = 32, validation_data=(x_test_english_artist, y_test_le))"
   ]
  },
  {
   "cell_type": "markdown",
   "metadata": {},
   "source": [
    "# Telugu Artist"
   ]
  },
  {
   "cell_type": "code",
   "execution_count": 161,
   "metadata": {},
   "outputs": [],
   "source": [
    "cnn_model = Sequential([Dense(81, input_dim = np.shape(x_train_telugu_artist)[1]),\n",
    "                        Activation('relu'),\n",
    "                        Dense(4),\n",
    "                        Activation('softmax')])"
   ]
  },
  {
   "cell_type": "code",
   "execution_count": 162,
   "metadata": {},
   "outputs": [
    {
     "name": "stdout",
     "output_type": "stream",
     "text": [
      "Model: \"sequential_15\"\n",
      "_________________________________________________________________\n",
      "Layer (type)                 Output Shape              Param #   \n",
      "=================================================================\n",
      "dense_30 (Dense)             (None, 81)                6561      \n",
      "_________________________________________________________________\n",
      "activation_30 (Activation)   (None, 81)                0         \n",
      "_________________________________________________________________\n",
      "dense_31 (Dense)             (None, 4)                 328       \n",
      "_________________________________________________________________\n",
      "activation_31 (Activation)   (None, 4)                 0         \n",
      "=================================================================\n",
      "Total params: 6,889\n",
      "Trainable params: 6,889\n",
      "Non-trainable params: 0\n",
      "_________________________________________________________________\n",
      "None\n"
     ]
    }
   ],
   "source": [
    "cnn_model.compile(optimizer = 'rmsprop',\n",
    "                  loss = 'categorical_crossentropy',\n",
    "                  metrics = ['accuracy'])\n",
    "\n",
    "\n",
    "print(cnn_model.summary())"
   ]
  },
  {
   "cell_type": "code",
   "execution_count": 163,
   "metadata": {},
   "outputs": [],
   "source": [
    "le = LabelEncoder()\n",
    "\n",
    "y_train_le = le.fit_transform(y_train_telugu_artist)\n",
    "y_train_le = to_categorical(y_train_le)\n",
    "\n",
    "y_test_le = le.fit_transform(y_test_telugu_artist)\n",
    "y_test_le = to_categorical(y_test_le)"
   ]
  },
  {
   "cell_type": "code",
   "execution_count": 164,
   "metadata": {},
   "outputs": [
    {
     "name": "stdout",
     "output_type": "stream",
     "text": [
      "Epoch 1/10\n",
      "68/68 [==============================] - 0s 4ms/step - loss: 1.2236 - accuracy: 0.4690 - val_loss: 1.0626 - val_accuracy: 0.5630\n",
      "Epoch 2/10\n",
      "68/68 [==============================] - 0s 3ms/step - loss: 0.8927 - accuracy: 0.6528 - val_loss: 0.9392 - val_accuracy: 0.5981\n",
      "Epoch 3/10\n",
      "68/68 [==============================] - 0s 3ms/step - loss: 0.7621 - accuracy: 0.7176 - val_loss: 0.8756 - val_accuracy: 0.6315\n",
      "Epoch 4/10\n",
      "68/68 [==============================] - 0s 3ms/step - loss: 0.6770 - accuracy: 0.7556 - val_loss: 0.8419 - val_accuracy: 0.6500\n",
      "Epoch 5/10\n",
      "68/68 [==============================] - 0s 3ms/step - loss: 0.6102 - accuracy: 0.7875 - val_loss: 0.8123 - val_accuracy: 0.6778\n",
      "Epoch 6/10\n",
      "68/68 [==============================] - 0s 3ms/step - loss: 0.5539 - accuracy: 0.8032 - val_loss: 0.8029 - val_accuracy: 0.6833\n",
      "Epoch 7/10\n",
      "68/68 [==============================] - 0s 3ms/step - loss: 0.5075 - accuracy: 0.8282 - val_loss: 0.7753 - val_accuracy: 0.7000\n",
      "Epoch 8/10\n",
      "68/68 [==============================] - 0s 3ms/step - loss: 0.4689 - accuracy: 0.8398 - val_loss: 0.7487 - val_accuracy: 0.7037\n",
      "Epoch 9/10\n",
      "68/68 [==============================] - 0s 3ms/step - loss: 0.4313 - accuracy: 0.8565 - val_loss: 0.7395 - val_accuracy: 0.7093\n",
      "Epoch 10/10\n",
      "68/68 [==============================] - 0s 3ms/step - loss: 0.3967 - accuracy: 0.8708 - val_loss: 0.7241 - val_accuracy: 0.7315\n"
     ]
    },
    {
     "data": {
      "text/plain": [
       "<tensorflow.python.keras.callbacks.History at 0x1c10f0a9d48>"
      ]
     },
     "execution_count": 164,
     "metadata": {},
     "output_type": "execute_result"
    }
   ],
   "source": [
    "cnn_model.fit(x_train_telugu_artist, y_train_le, epochs = 10, batch_size = 32, validation_data=(x_test_telugu_artist, y_test_le))"
   ]
  },
  {
   "cell_type": "code",
   "execution_count": null,
   "metadata": {},
   "outputs": [],
   "source": []
  },
  {
   "cell_type": "markdown",
   "metadata": {},
   "source": [
    "# Hindi Artist"
   ]
  },
  {
   "cell_type": "code",
   "execution_count": 165,
   "metadata": {},
   "outputs": [],
   "source": [
    "cnn_model = Sequential([Dense(81, input_dim = np.shape(x_train_hindi_artist)[1]),\n",
    "                        Activation('relu'),\n",
    "                        Dense(3),\n",
    "                        Activation('softmax')])"
   ]
  },
  {
   "cell_type": "code",
   "execution_count": 166,
   "metadata": {},
   "outputs": [
    {
     "name": "stdout",
     "output_type": "stream",
     "text": [
      "Model: \"sequential_16\"\n",
      "_________________________________________________________________\n",
      "Layer (type)                 Output Shape              Param #   \n",
      "=================================================================\n",
      "dense_32 (Dense)             (None, 81)                6561      \n",
      "_________________________________________________________________\n",
      "activation_32 (Activation)   (None, 81)                0         \n",
      "_________________________________________________________________\n",
      "dense_33 (Dense)             (None, 3)                 246       \n",
      "_________________________________________________________________\n",
      "activation_33 (Activation)   (None, 3)                 0         \n",
      "=================================================================\n",
      "Total params: 6,807\n",
      "Trainable params: 6,807\n",
      "Non-trainable params: 0\n",
      "_________________________________________________________________\n",
      "None\n"
     ]
    }
   ],
   "source": [
    "cnn_model.compile(optimizer = 'rmsprop',\n",
    "                  loss = 'categorical_crossentropy',\n",
    "                  metrics = ['accuracy'])\n",
    "\n",
    "print(cnn_model.summary())"
   ]
  },
  {
   "cell_type": "code",
   "execution_count": 167,
   "metadata": {},
   "outputs": [],
   "source": [
    "le = LabelEncoder()\n",
    "\n",
    "y_train_le = le.fit_transform(y_train_hindi_artist)\n",
    "y_train_le = to_categorical(y_train_le)\n",
    "\n",
    "y_test_le = le.fit_transform(y_test_hindi_artist)\n",
    "y_test_le = to_categorical(y_test_le)"
   ]
  },
  {
   "cell_type": "code",
   "execution_count": 168,
   "metadata": {},
   "outputs": [
    {
     "name": "stdout",
     "output_type": "stream",
     "text": [
      "Epoch 1/10\n",
      "89/89 [==============================] - 0s 4ms/step - loss: 0.9429 - accuracy: 0.5916 - val_loss: 0.7358 - val_accuracy: 0.6850\n",
      "Epoch 2/10\n",
      "89/89 [==============================] - 0s 3ms/step - loss: 0.6276 - accuracy: 0.7573 - val_loss: 0.6091 - val_accuracy: 0.7496\n",
      "Epoch 3/10\n",
      "89/89 [==============================] - 0s 3ms/step - loss: 0.5325 - accuracy: 0.7960 - val_loss: 0.5640 - val_accuracy: 0.7722\n",
      "Epoch 4/10\n",
      "89/89 [==============================] - 0s 3ms/step - loss: 0.4737 - accuracy: 0.8298 - val_loss: 0.5343 - val_accuracy: 0.7806\n",
      "Epoch 5/10\n",
      "89/89 [==============================] - 0s 3ms/step - loss: 0.4298 - accuracy: 0.8466 - val_loss: 0.5189 - val_accuracy: 0.7918\n",
      "Epoch 6/10\n",
      "89/89 [==============================] - 0s 3ms/step - loss: 0.3907 - accuracy: 0.8674 - val_loss: 0.5020 - val_accuracy: 0.8017\n",
      "Epoch 7/10\n",
      "89/89 [==============================] - 0s 3ms/step - loss: 0.3594 - accuracy: 0.8818 - val_loss: 0.5042 - val_accuracy: 0.7989\n",
      "Epoch 8/10\n",
      "89/89 [==============================] - 0s 3ms/step - loss: 0.3309 - accuracy: 0.8903 - val_loss: 0.4904 - val_accuracy: 0.8045\n",
      "Epoch 9/10\n",
      "89/89 [==============================] - 0s 3ms/step - loss: 0.3037 - accuracy: 0.8973 - val_loss: 0.4880 - val_accuracy: 0.8017\n",
      "Epoch 10/10\n",
      "89/89 [==============================] - 0s 3ms/step - loss: 0.2803 - accuracy: 0.9138 - val_loss: 0.4821 - val_accuracy: 0.8129\n"
     ]
    },
    {
     "data": {
      "text/plain": [
       "<tensorflow.python.keras.callbacks.History at 0x1c106a20d48>"
      ]
     },
     "execution_count": 168,
     "metadata": {},
     "output_type": "execute_result"
    }
   ],
   "source": [
    "cnn_model.fit(x_train_hindi_artist, y_train_le, epochs = 10, batch_size = 32, validation_data=(x_test_hindi_artist, y_test_le))"
   ]
  },
  {
   "cell_type": "markdown",
   "metadata": {},
   "source": []
  },
  {
   "cell_type": "markdown",
   "metadata": {},
   "source": [
    "# Overall Artists"
   ]
  },
  {
   "cell_type": "code",
   "execution_count": 169,
   "metadata": {},
   "outputs": [],
   "source": [
    "cnn_model = Sequential([Dense(81, input_dim = np.shape(x_train_all_artists)[1]),\n",
    "                        Activation('relu'),\n",
    "                        Dense(12),\n",
    "                        Activation('softmax')])"
   ]
  },
  {
   "cell_type": "code",
   "execution_count": 170,
   "metadata": {},
   "outputs": [
    {
     "name": "stdout",
     "output_type": "stream",
     "text": [
      "Model: \"sequential_17\"\n",
      "_________________________________________________________________\n",
      "Layer (type)                 Output Shape              Param #   \n",
      "=================================================================\n",
      "dense_34 (Dense)             (None, 81)                6561      \n",
      "_________________________________________________________________\n",
      "activation_34 (Activation)   (None, 81)                0         \n",
      "_________________________________________________________________\n",
      "dense_35 (Dense)             (None, 12)                984       \n",
      "_________________________________________________________________\n",
      "activation_35 (Activation)   (None, 12)                0         \n",
      "=================================================================\n",
      "Total params: 7,545\n",
      "Trainable params: 7,545\n",
      "Non-trainable params: 0\n",
      "_________________________________________________________________\n",
      "None\n"
     ]
    }
   ],
   "source": [
    "cnn_model.compile(optimizer = 'rmsprop',\n",
    "                  loss = 'categorical_crossentropy',\n",
    "                  metrics = ['accuracy'])\n",
    "\n",
    "\n",
    "print(cnn_model.summary())"
   ]
  },
  {
   "cell_type": "code",
   "execution_count": 171,
   "metadata": {},
   "outputs": [],
   "source": [
    "le = LabelEncoder()\n",
    "\n",
    "y_train_le = le.fit_transform(y_train_all_artists)\n",
    "y_train_le = to_categorical(y_train_le)\n",
    "\n",
    "y_test_le = le.fit_transform(y_test_all_artists)\n",
    "y_test_le = to_categorical(y_test_le)"
   ]
  },
  {
   "cell_type": "code",
   "execution_count": 172,
   "metadata": {},
   "outputs": [
    {
     "name": "stdout",
     "output_type": "stream",
     "text": [
      "Epoch 1/10\n",
      "328/328 [==============================] - 1s 3ms/step - loss: 1.9071 - accuracy: 0.4034 - val_loss: 1.4550 - val_accuracy: 0.5522\n",
      "Epoch 2/10\n",
      "328/328 [==============================] - 1s 2ms/step - loss: 1.2518 - accuracy: 0.6168 - val_loss: 1.1784 - val_accuracy: 0.6380\n",
      "Epoch 3/10\n",
      "328/328 [==============================] - 1s 3ms/step - loss: 1.0487 - accuracy: 0.6695 - val_loss: 1.0726 - val_accuracy: 0.6597\n",
      "Epoch 4/10\n",
      "328/328 [==============================] - 1s 3ms/step - loss: 0.9355 - accuracy: 0.6997 - val_loss: 1.0165 - val_accuracy: 0.6711\n",
      "Epoch 5/10\n",
      "328/328 [==============================] - 1s 3ms/step - loss: 0.8583 - accuracy: 0.7203 - val_loss: 0.9796 - val_accuracy: 0.6856\n",
      "Epoch 6/10\n",
      "328/328 [==============================] - 1s 2ms/step - loss: 0.7979 - accuracy: 0.7408 - val_loss: 0.9515 - val_accuracy: 0.6921\n",
      "Epoch 7/10\n",
      "328/328 [==============================] - 1s 3ms/step - loss: 0.7487 - accuracy: 0.7563 - val_loss: 0.9255 - val_accuracy: 0.7020\n",
      "Epoch 8/10\n",
      "328/328 [==============================] - 1s 3ms/step - loss: 0.7044 - accuracy: 0.7718 - val_loss: 0.9174 - val_accuracy: 0.7149\n",
      "Epoch 9/10\n",
      "328/328 [==============================] - 1s 3ms/step - loss: 0.6664 - accuracy: 0.7856 - val_loss: 0.9035 - val_accuracy: 0.7146\n",
      "Epoch 10/10\n",
      "328/328 [==============================] - 1s 2ms/step - loss: 0.6340 - accuracy: 0.7997 - val_loss: 0.8979 - val_accuracy: 0.7092\n"
     ]
    },
    {
     "data": {
      "text/plain": [
       "<tensorflow.python.keras.callbacks.History at 0x1c113305488>"
      ]
     },
     "execution_count": 172,
     "metadata": {},
     "output_type": "execute_result"
    }
   ],
   "source": [
    "cnn_model.fit(x_train_all_artists, y_train_le, epochs = 10, batch_size = 32, validation_data=(x_test_all_artists, y_test_le))"
   ]
  },
  {
   "cell_type": "markdown",
   "metadata": {},
   "source": [
    "# English Genre"
   ]
  },
  {
   "cell_type": "code",
   "execution_count": 173,
   "metadata": {},
   "outputs": [],
   "source": [
    "cnn_model = Sequential([Dense(91, input_dim = np.shape(x_train_english_genre)[1]),\n",
    "                        Activation('relu'),\n",
    "                        Dense(4),\n",
    "                        Activation('softmax')])"
   ]
  },
  {
   "cell_type": "code",
   "execution_count": 174,
   "metadata": {},
   "outputs": [
    {
     "name": "stdout",
     "output_type": "stream",
     "text": [
      "Model: \"sequential_18\"\n",
      "_________________________________________________________________\n",
      "Layer (type)                 Output Shape              Param #   \n",
      "=================================================================\n",
      "dense_36 (Dense)             (None, 91)                8281      \n",
      "_________________________________________________________________\n",
      "activation_36 (Activation)   (None, 91)                0         \n",
      "_________________________________________________________________\n",
      "dense_37 (Dense)             (None, 4)                 368       \n",
      "_________________________________________________________________\n",
      "activation_37 (Activation)   (None, 4)                 0         \n",
      "=================================================================\n",
      "Total params: 8,649\n",
      "Trainable params: 8,649\n",
      "Non-trainable params: 0\n",
      "_________________________________________________________________\n",
      "None\n"
     ]
    }
   ],
   "source": [
    "cnn_model.compile(optimizer = 'rmsprop',\n",
    "                  loss = 'categorical_crossentropy',\n",
    "                  metrics = ['accuracy'])\n",
    "# cnn_model.compile(optimizer = 'adam')\n",
    "\n",
    "\n",
    "print(cnn_model.summary())"
   ]
  },
  {
   "cell_type": "code",
   "execution_count": 175,
   "metadata": {},
   "outputs": [],
   "source": [
    "le = LabelEncoder()\n",
    "\n",
    "# y_train_le = le.fit_transform(y_train_hindi_genre.values.reshape(-1,1))\n",
    "y_train_le = le.fit_transform(y_train_english_genre)\n",
    "y_train_le = to_categorical(y_train_le)\n",
    "\n",
    "y_test_le = le.fit_transform(y_test_english_genre)\n",
    "y_test_le = to_categorical(y_test_le)"
   ]
  },
  {
   "cell_type": "code",
   "execution_count": 176,
   "metadata": {},
   "outputs": [
    {
     "name": "stdout",
     "output_type": "stream",
     "text": [
      "Epoch 1/10\n",
      "99/99 [==============================] - 0s 5ms/step - loss: 0.9990 - accuracy: 0.6058 - val_loss: 0.7302 - val_accuracy: 0.7681\n",
      "Epoch 2/10\n",
      "99/99 [==============================] - 0s 3ms/step - loss: 0.5886 - accuracy: 0.8122 - val_loss: 0.5615 - val_accuracy: 0.8124\n",
      "Epoch 3/10\n",
      "99/99 [==============================] - 0s 4ms/step - loss: 0.4316 - accuracy: 0.8668 - val_loss: 0.4718 - val_accuracy: 0.8504\n",
      "Epoch 4/10\n",
      "99/99 [==============================] - 0s 3ms/step - loss: 0.3373 - accuracy: 0.8998 - val_loss: 0.4242 - val_accuracy: 0.8657\n",
      "Epoch 5/10\n",
      "99/99 [==============================] - 0s 3ms/step - loss: 0.2698 - accuracy: 0.9245 - val_loss: 0.3902 - val_accuracy: 0.8771\n",
      "Epoch 6/10\n",
      "99/99 [==============================] - 0s 3ms/step - loss: 0.2184 - accuracy: 0.9454 - val_loss: 0.3564 - val_accuracy: 0.8847\n",
      "Epoch 7/10\n",
      "99/99 [==============================] - 0s 3ms/step - loss: 0.1768 - accuracy: 0.9616 - val_loss: 0.3358 - val_accuracy: 0.8859\n",
      "Epoch 8/10\n",
      "99/99 [==============================] - 0s 3ms/step - loss: 0.1420 - accuracy: 0.9740 - val_loss: 0.3166 - val_accuracy: 0.9049\n",
      "Epoch 9/10\n",
      "99/99 [==============================] - 0s 3ms/step - loss: 0.1119 - accuracy: 0.9803 - val_loss: 0.2976 - val_accuracy: 0.9049\n",
      "Epoch 10/10\n",
      "99/99 [==============================] - 0s 3ms/step - loss: 0.0900 - accuracy: 0.9867 - val_loss: 0.2908 - val_accuracy: 0.9125\n"
     ]
    },
    {
     "data": {
      "text/plain": [
       "<tensorflow.python.keras.callbacks.History at 0x1c114c90388>"
      ]
     },
     "execution_count": 176,
     "metadata": {},
     "output_type": "execute_result"
    }
   ],
   "source": [
    "cnn_model.fit(x_train_english_genre, y_train_le, epochs = 10, batch_size = 32, validation_data=(x_test_english_genre, y_test_le))"
   ]
  },
  {
   "cell_type": "code",
   "execution_count": null,
   "metadata": {},
   "outputs": [],
   "source": []
  },
  {
   "cell_type": "markdown",
   "metadata": {},
   "source": [
    "# Telugu Genre"
   ]
  },
  {
   "cell_type": "code",
   "execution_count": 177,
   "metadata": {},
   "outputs": [],
   "source": [
    "cnn_model = Sequential([Dense(91, input_dim = np.shape(x_train_telugu_genre)[1]),\n",
    "                        Activation('relu'),\n",
    "                        Dense(3),\n",
    "                        Activation('softmax')])"
   ]
  },
  {
   "cell_type": "code",
   "execution_count": 178,
   "metadata": {},
   "outputs": [
    {
     "name": "stdout",
     "output_type": "stream",
     "text": [
      "Model: \"sequential_19\"\n",
      "_________________________________________________________________\n",
      "Layer (type)                 Output Shape              Param #   \n",
      "=================================================================\n",
      "dense_38 (Dense)             (None, 91)                8281      \n",
      "_________________________________________________________________\n",
      "activation_38 (Activation)   (None, 91)                0         \n",
      "_________________________________________________________________\n",
      "dense_39 (Dense)             (None, 3)                 276       \n",
      "_________________________________________________________________\n",
      "activation_39 (Activation)   (None, 3)                 0         \n",
      "=================================================================\n",
      "Total params: 8,557\n",
      "Trainable params: 8,557\n",
      "Non-trainable params: 0\n",
      "_________________________________________________________________\n",
      "None\n"
     ]
    }
   ],
   "source": [
    "cnn_model.compile(optimizer = 'rmsprop',\n",
    "                  loss = 'categorical_crossentropy',\n",
    "                  metrics = ['accuracy'])\n",
    "# cnn_model.compile(optimizer = 'adam')\n",
    "\n",
    "\n",
    "print(cnn_model.summary())"
   ]
  },
  {
   "cell_type": "code",
   "execution_count": 179,
   "metadata": {},
   "outputs": [],
   "source": [
    "le = LabelEncoder()\n",
    "\n",
    "# y_train_le = le.fit_transform(y_train_hindi_genre.values.reshape(-1,1))\n",
    "y_train_le = le.fit_transform(y_train_telugu_genre)\n",
    "y_train_le = to_categorical(y_train_le)\n",
    "\n",
    "y_test_le = le.fit_transform(y_test_telugu_genre)\n",
    "y_test_le = to_categorical(y_test_le)"
   ]
  },
  {
   "cell_type": "code",
   "execution_count": 180,
   "metadata": {},
   "outputs": [
    {
     "name": "stdout",
     "output_type": "stream",
     "text": [
      "Epoch 1/10\n",
      "77/77 [==============================] - 0s 4ms/step - loss: 0.8601 - accuracy: 0.6238 - val_loss: 0.6995 - val_accuracy: 0.7110\n",
      "Epoch 2/10\n",
      "77/77 [==============================] - 0s 3ms/step - loss: 0.5940 - accuracy: 0.7713 - val_loss: 0.5818 - val_accuracy: 0.7783\n",
      "Epoch 3/10\n",
      "77/77 [==============================] - 0s 3ms/step - loss: 0.4908 - accuracy: 0.8172 - val_loss: 0.5175 - val_accuracy: 0.8030\n",
      "Epoch 4/10\n",
      "77/77 [==============================] - 0s 3ms/step - loss: 0.4172 - accuracy: 0.8538 - val_loss: 0.4752 - val_accuracy: 0.8079\n",
      "Epoch 5/10\n",
      "77/77 [==============================] - 0s 3ms/step - loss: 0.3621 - accuracy: 0.8760 - val_loss: 0.4465 - val_accuracy: 0.8259\n",
      "Epoch 6/10\n",
      "77/77 [==============================] - 0s 3ms/step - loss: 0.3152 - accuracy: 0.8928 - val_loss: 0.4337 - val_accuracy: 0.8407\n",
      "Epoch 7/10\n",
      "77/77 [==============================] - 0s 3ms/step - loss: 0.2772 - accuracy: 0.9064 - val_loss: 0.4140 - val_accuracy: 0.8325\n",
      "Epoch 8/10\n",
      "77/77 [==============================] - 0s 3ms/step - loss: 0.2429 - accuracy: 0.9195 - val_loss: 0.4025 - val_accuracy: 0.8424\n",
      "Epoch 9/10\n",
      "77/77 [==============================] - 0s 3ms/step - loss: 0.2138 - accuracy: 0.9261 - val_loss: 0.3972 - val_accuracy: 0.8506\n",
      "Epoch 10/10\n",
      "77/77 [==============================] - 0s 4ms/step - loss: 0.1868 - accuracy: 0.9409 - val_loss: 0.3955 - val_accuracy: 0.8473\n"
     ]
    },
    {
     "data": {
      "text/plain": [
       "<tensorflow.python.keras.callbacks.History at 0x1c1102523c8>"
      ]
     },
     "execution_count": 180,
     "metadata": {},
     "output_type": "execute_result"
    }
   ],
   "source": [
    "cnn_model.fit(x_train_telugu_genre, y_train_le, epochs = 10, batch_size = 32, validation_data=(x_test_telugu_genre, y_test_le))"
   ]
  },
  {
   "cell_type": "code",
   "execution_count": null,
   "metadata": {},
   "outputs": [],
   "source": []
  },
  {
   "cell_type": "markdown",
   "metadata": {},
   "source": [
    "# Hindi Genre"
   ]
  },
  {
   "cell_type": "code",
   "execution_count": 181,
   "metadata": {},
   "outputs": [],
   "source": [
    "cnn_model = Sequential([Dense(91, input_dim = np.shape(x_train_hindi_genre)[1]),\n",
    "                        Activation('relu'),\n",
    "                        Dense(3),\n",
    "                        Activation('softmax')])"
   ]
  },
  {
   "cell_type": "code",
   "execution_count": 182,
   "metadata": {},
   "outputs": [
    {
     "name": "stdout",
     "output_type": "stream",
     "text": [
      "Model: \"sequential_20\"\n",
      "_________________________________________________________________\n",
      "Layer (type)                 Output Shape              Param #   \n",
      "=================================================================\n",
      "dense_40 (Dense)             (None, 91)                8281      \n",
      "_________________________________________________________________\n",
      "activation_40 (Activation)   (None, 91)                0         \n",
      "_________________________________________________________________\n",
      "dense_41 (Dense)             (None, 3)                 276       \n",
      "_________________________________________________________________\n",
      "activation_41 (Activation)   (None, 3)                 0         \n",
      "=================================================================\n",
      "Total params: 8,557\n",
      "Trainable params: 8,557\n",
      "Non-trainable params: 0\n",
      "_________________________________________________________________\n",
      "None\n"
     ]
    }
   ],
   "source": [
    "cnn_model.compile(optimizer = 'rmsprop',\n",
    "                  loss = 'categorical_crossentropy',\n",
    "                  metrics = ['accuracy'])\n",
    "# cnn_model.compile(optimizer = 'adam')\n",
    "\n",
    "\n",
    "print(cnn_model.summary())"
   ]
  },
  {
   "cell_type": "code",
   "execution_count": 183,
   "metadata": {},
   "outputs": [],
   "source": [
    "le = LabelEncoder()\n",
    "\n",
    "# y_train_le = le.fit_transform(y_train_hindi_genre.values.reshape(-1,1))\n",
    "y_train_le = le.fit_transform(y_train_hindi_genre)\n",
    "y_train_le = to_categorical(y_train_le)\n",
    "\n",
    "y_test_le = le.fit_transform(y_test_hindi_genre)\n",
    "y_test_le = to_categorical(y_test_le)"
   ]
  },
  {
   "cell_type": "code",
   "execution_count": 184,
   "metadata": {},
   "outputs": [
    {
     "name": "stdout",
     "output_type": "stream",
     "text": [
      "Epoch 1/10\n",
      "67/67 [==============================] - 0s 4ms/step - loss: 0.7514 - accuracy: 0.6974 - val_loss: 0.5161 - val_accuracy: 0.8299\n",
      "Epoch 2/10\n",
      "67/67 [==============================] - 0s 3ms/step - loss: 0.4211 - accuracy: 0.8522 - val_loss: 0.3883 - val_accuracy: 0.8785\n",
      "Epoch 3/10\n",
      "67/67 [==============================] - 0s 3ms/step - loss: 0.3039 - accuracy: 0.9022 - val_loss: 0.3340 - val_accuracy: 0.8897\n",
      "Epoch 4/10\n",
      "67/67 [==============================] - 0s 3ms/step - loss: 0.2308 - accuracy: 0.9270 - val_loss: 0.3057 - val_accuracy: 0.9047\n",
      "Epoch 5/10\n",
      "67/67 [==============================] - 0s 3ms/step - loss: 0.1802 - accuracy: 0.9542 - val_loss: 0.2851 - val_accuracy: 0.9178\n",
      "Epoch 6/10\n",
      "67/67 [==============================] - 0s 4ms/step - loss: 0.1409 - accuracy: 0.9645 - val_loss: 0.2724 - val_accuracy: 0.9234\n",
      "Epoch 7/10\n",
      "67/67 [==============================] - 0s 3ms/step - loss: 0.1114 - accuracy: 0.9790 - val_loss: 0.2639 - val_accuracy: 0.9252\n",
      "Epoch 8/10\n",
      "67/67 [==============================] - 0s 3ms/step - loss: 0.0872 - accuracy: 0.9822 - val_loss: 0.2532 - val_accuracy: 0.9290\n",
      "Epoch 9/10\n",
      "67/67 [==============================] - 0s 3ms/step - loss: 0.0680 - accuracy: 0.9920 - val_loss: 0.2456 - val_accuracy: 0.9308\n",
      "Epoch 10/10\n",
      "67/67 [==============================] - 0s 3ms/step - loss: 0.0529 - accuracy: 0.9949 - val_loss: 0.2382 - val_accuracy: 0.9327\n"
     ]
    },
    {
     "data": {
      "text/plain": [
       "<tensorflow.python.keras.callbacks.History at 0x1c111c4a708>"
      ]
     },
     "execution_count": 184,
     "metadata": {},
     "output_type": "execute_result"
    }
   ],
   "source": [
    "cnn_model.fit(x_train_hindi_genre, y_train_le, epochs = 10, batch_size = 32, validation_data=(x_test_hindi_genre, y_test_le))"
   ]
  },
  {
   "cell_type": "code",
   "execution_count": null,
   "metadata": {},
   "outputs": [],
   "source": []
  },
  {
   "cell_type": "markdown",
   "metadata": {},
   "source": [
    "# All Generes"
   ]
  },
  {
   "cell_type": "code",
   "execution_count": 185,
   "metadata": {},
   "outputs": [],
   "source": [
    "cnn_model = Sequential([Dense(91, input_dim = np.shape(x_train_all_genres)[1]),\n",
    "                        Activation('relu'),\n",
    "                        Dense(10),\n",
    "                        Activation('softmax')])"
   ]
  },
  {
   "cell_type": "code",
   "execution_count": 186,
   "metadata": {},
   "outputs": [
    {
     "name": "stdout",
     "output_type": "stream",
     "text": [
      "Model: \"sequential_21\"\n",
      "_________________________________________________________________\n",
      "Layer (type)                 Output Shape              Param #   \n",
      "=================================================================\n",
      "dense_42 (Dense)             (None, 91)                8281      \n",
      "_________________________________________________________________\n",
      "activation_42 (Activation)   (None, 91)                0         \n",
      "_________________________________________________________________\n",
      "dense_43 (Dense)             (None, 10)                920       \n",
      "_________________________________________________________________\n",
      "activation_43 (Activation)   (None, 10)                0         \n",
      "=================================================================\n",
      "Total params: 9,201\n",
      "Trainable params: 9,201\n",
      "Non-trainable params: 0\n",
      "_________________________________________________________________\n",
      "None\n"
     ]
    }
   ],
   "source": [
    "cnn_model.compile(optimizer = 'rmsprop',\n",
    "                  loss = 'categorical_crossentropy',\n",
    "                  metrics = ['accuracy'])\n",
    "# cnn_model.compile(optimizer = 'adam')\n",
    "\n",
    "\n",
    "print(cnn_model.summary())"
   ]
  },
  {
   "cell_type": "code",
   "execution_count": 187,
   "metadata": {},
   "outputs": [],
   "source": [
    "le = LabelEncoder()\n",
    "\n",
    "# y_train_le = le.fit_transform(y_train_hindi_genre.values.reshape(-1,1))\n",
    "y_train_le = le.fit_transform(y_train_all_genres)\n",
    "y_train_le = to_categorical(y_train_le)\n",
    "\n",
    "y_test_le = le.fit_transform(y_test_all_genres)\n",
    "y_test_le = to_categorical(y_test_le)"
   ]
  },
  {
   "cell_type": "code",
   "execution_count": 188,
   "metadata": {},
   "outputs": [
    {
     "name": "stdout",
     "output_type": "stream",
     "text": [
      "Epoch 1/10\n",
      "242/242 [==============================] - 1s 4ms/step - loss: 1.8505 - accuracy: 0.3721 - val_loss: 1.4871 - val_accuracy: 0.5259\n",
      "Epoch 2/10\n",
      "242/242 [==============================] - 1s 3ms/step - loss: 1.3117 - accuracy: 0.5820 - val_loss: 1.2533 - val_accuracy: 0.6118\n",
      "Epoch 3/10\n",
      "242/242 [==============================] - 1s 3ms/step - loss: 1.0945 - accuracy: 0.6581 - val_loss: 1.1303 - val_accuracy: 0.6491\n",
      "Epoch 4/10\n",
      "242/242 [==============================] - 1s 2ms/step - loss: 0.9511 - accuracy: 0.7067 - val_loss: 1.0382 - val_accuracy: 0.6806\n",
      "Epoch 5/10\n",
      "242/242 [==============================] - 1s 2ms/step - loss: 0.8445 - accuracy: 0.7419 - val_loss: 0.9798 - val_accuracy: 0.6972\n",
      "Epoch 6/10\n",
      "242/242 [==============================] - 1s 3ms/step - loss: 0.7551 - accuracy: 0.7700 - val_loss: 0.9305 - val_accuracy: 0.7107\n",
      "Epoch 7/10\n",
      "242/242 [==============================] - 1s 3ms/step - loss: 0.6780 - accuracy: 0.7994 - val_loss: 0.8872 - val_accuracy: 0.7236\n",
      "Epoch 8/10\n",
      "242/242 [==============================] - 1s 3ms/step - loss: 0.6102 - accuracy: 0.8202 - val_loss: 0.8559 - val_accuracy: 0.7350\n",
      "Epoch 9/10\n",
      "242/242 [==============================] - 1s 3ms/step - loss: 0.5529 - accuracy: 0.8400 - val_loss: 0.8279 - val_accuracy: 0.7453\n",
      "Epoch 10/10\n",
      "242/242 [==============================] - 1s 2ms/step - loss: 0.5015 - accuracy: 0.8591 - val_loss: 0.8068 - val_accuracy: 0.7531\n"
     ]
    },
    {
     "data": {
      "text/plain": [
       "<tensorflow.python.keras.callbacks.History at 0x1c114c97e88>"
      ]
     },
     "execution_count": 188,
     "metadata": {},
     "output_type": "execute_result"
    }
   ],
   "source": [
    "cnn_model.fit(x_train_all_genres, y_train_le, epochs = 10, batch_size = 32, validation_data=(x_test_all_genres, y_test_le))"
   ]
  },
  {
   "cell_type": "code",
   "execution_count": null,
   "metadata": {},
   "outputs": [],
   "source": []
  },
  {
   "cell_type": "markdown",
   "metadata": {},
   "source": [
    "# Optimizer as adagrad"
   ]
  },
  {
   "cell_type": "markdown",
   "metadata": {},
   "source": [
    "# English Artist"
   ]
  },
  {
   "cell_type": "code",
   "execution_count": 189,
   "metadata": {},
   "outputs": [],
   "source": [
    "cnn_model = Sequential([Dense(81, input_dim = np.shape(x_train_english_artist)[1]),\n",
    "                        Activation('relu'),\n",
    "                        Dense(5),\n",
    "                        Activation('softmax')])"
   ]
  },
  {
   "cell_type": "code",
   "execution_count": 190,
   "metadata": {},
   "outputs": [
    {
     "name": "stdout",
     "output_type": "stream",
     "text": [
      "Model: \"sequential_22\"\n",
      "_________________________________________________________________\n",
      "Layer (type)                 Output Shape              Param #   \n",
      "=================================================================\n",
      "dense_44 (Dense)             (None, 81)                6561      \n",
      "_________________________________________________________________\n",
      "activation_44 (Activation)   (None, 81)                0         \n",
      "_________________________________________________________________\n",
      "dense_45 (Dense)             (None, 5)                 410       \n",
      "_________________________________________________________________\n",
      "activation_45 (Activation)   (None, 5)                 0         \n",
      "=================================================================\n",
      "Total params: 6,971\n",
      "Trainable params: 6,971\n",
      "Non-trainable params: 0\n",
      "_________________________________________________________________\n",
      "None\n"
     ]
    }
   ],
   "source": [
    "cnn_model.compile(optimizer = 'adagrad',\n",
    "                  loss = 'categorical_crossentropy',\n",
    "                  metrics = ['accuracy'])\n",
    "\n",
    "print(cnn_model.summary())"
   ]
  },
  {
   "cell_type": "code",
   "execution_count": 191,
   "metadata": {},
   "outputs": [],
   "source": [
    "le = LabelEncoder()\n",
    "\n",
    "y_train_le = le.fit_transform(y_train_english_artist)\n",
    "y_train_le = to_categorical(y_train_le)\n",
    "\n",
    "y_test_le = le.fit_transform(y_test_english_artist)\n",
    "y_test_le = to_categorical(y_test_le)"
   ]
  },
  {
   "cell_type": "code",
   "execution_count": 192,
   "metadata": {},
   "outputs": [
    {
     "name": "stdout",
     "output_type": "stream",
     "text": [
      "Epoch 1/6\n",
      "172/172 [==============================] - 1s 3ms/step - loss: 1.6036 - accuracy: 0.3303 - val_loss: 1.4680 - val_accuracy: 0.4006\n",
      "Epoch 2/6\n",
      "172/172 [==============================] - 0s 3ms/step - loss: 1.4015 - accuracy: 0.4345 - val_loss: 1.3560 - val_accuracy: 0.4661\n",
      "Epoch 3/6\n",
      "172/172 [==============================] - 0s 3ms/step - loss: 1.3107 - accuracy: 0.4790 - val_loss: 1.2866 - val_accuracy: 0.4953\n",
      "Epoch 4/6\n",
      "172/172 [==============================] - 1s 3ms/step - loss: 1.2500 - accuracy: 0.5139 - val_loss: 1.2362 - val_accuracy: 0.5288\n",
      "Epoch 5/6\n",
      "172/172 [==============================] - 0s 3ms/step - loss: 1.2043 - accuracy: 0.5427 - val_loss: 1.1968 - val_accuracy: 0.5455\n",
      "Epoch 6/6\n",
      "172/172 [==============================] - 0s 3ms/step - loss: 1.1677 - accuracy: 0.5622 - val_loss: 1.1646 - val_accuracy: 0.5725\n"
     ]
    },
    {
     "data": {
      "text/plain": [
       "<tensorflow.python.keras.callbacks.History at 0x1c1151be388>"
      ]
     },
     "execution_count": 192,
     "metadata": {},
     "output_type": "execute_result"
    }
   ],
   "source": [
    "cnn_model.fit(x_train_english_artist, y_train_le, epochs = 6, batch_size = 32, validation_data=(x_test_english_artist, y_test_le))"
   ]
  },
  {
   "cell_type": "markdown",
   "metadata": {},
   "source": [
    "# Telugu Artist"
   ]
  },
  {
   "cell_type": "code",
   "execution_count": 193,
   "metadata": {},
   "outputs": [],
   "source": [
    "cnn_model = Sequential([Dense(81, input_dim = np.shape(x_train_telugu_artist)[1]),\n",
    "                        Activation('relu'),\n",
    "                        Dense(4),\n",
    "                        Activation('softmax')])"
   ]
  },
  {
   "cell_type": "code",
   "execution_count": 194,
   "metadata": {},
   "outputs": [
    {
     "name": "stdout",
     "output_type": "stream",
     "text": [
      "Model: \"sequential_23\"\n",
      "_________________________________________________________________\n",
      "Layer (type)                 Output Shape              Param #   \n",
      "=================================================================\n",
      "dense_46 (Dense)             (None, 81)                6561      \n",
      "_________________________________________________________________\n",
      "activation_46 (Activation)   (None, 81)                0         \n",
      "_________________________________________________________________\n",
      "dense_47 (Dense)             (None, 4)                 328       \n",
      "_________________________________________________________________\n",
      "activation_47 (Activation)   (None, 4)                 0         \n",
      "=================================================================\n",
      "Total params: 6,889\n",
      "Trainable params: 6,889\n",
      "Non-trainable params: 0\n",
      "_________________________________________________________________\n",
      "None\n"
     ]
    }
   ],
   "source": [
    "cnn_model.compile(optimizer = 'adagrad',\n",
    "                  loss = 'categorical_crossentropy',\n",
    "                  metrics = ['accuracy'])\n",
    "\n",
    "\n",
    "print(cnn_model.summary())"
   ]
  },
  {
   "cell_type": "code",
   "execution_count": 195,
   "metadata": {},
   "outputs": [],
   "source": [
    "le = LabelEncoder()\n",
    "\n",
    "# y_train_le = le.fit_transform(y_train_hindi_genre.values.reshape(-1,1))\n",
    "y_train_le = le.fit_transform(y_train_telugu_artist)\n",
    "y_train_le = to_categorical(y_train_le)\n",
    "\n",
    "y_test_le = le.fit_transform(y_test_telugu_artist)\n",
    "y_test_le = to_categorical(y_test_le)"
   ]
  },
  {
   "cell_type": "code",
   "execution_count": 196,
   "metadata": {},
   "outputs": [
    {
     "name": "stdout",
     "output_type": "stream",
     "text": [
      "Epoch 1/10\n",
      "68/68 [==============================] - 0s 4ms/step - loss: 1.6025 - accuracy: 0.3162 - val_loss: 1.5177 - val_accuracy: 0.3852\n",
      "Epoch 2/10\n",
      "68/68 [==============================] - 0s 3ms/step - loss: 1.4269 - accuracy: 0.4014 - val_loss: 1.4177 - val_accuracy: 0.4333\n",
      "Epoch 3/10\n",
      "68/68 [==============================] - 0s 3ms/step - loss: 1.3491 - accuracy: 0.4306 - val_loss: 1.3565 - val_accuracy: 0.4648\n",
      "Epoch 4/10\n",
      "68/68 [==============================] - 0s 3ms/step - loss: 1.2969 - accuracy: 0.4583 - val_loss: 1.3126 - val_accuracy: 0.4778\n",
      "Epoch 5/10\n",
      "68/68 [==============================] - 0s 3ms/step - loss: 1.2575 - accuracy: 0.4815 - val_loss: 1.2795 - val_accuracy: 0.4889\n",
      "Epoch 6/10\n",
      "68/68 [==============================] - 0s 3ms/step - loss: 1.2263 - accuracy: 0.5032 - val_loss: 1.2529 - val_accuracy: 0.5019\n",
      "Epoch 7/10\n",
      "68/68 [==============================] - 0s 3ms/step - loss: 1.2005 - accuracy: 0.5199 - val_loss: 1.2305 - val_accuracy: 0.5148\n",
      "Epoch 8/10\n",
      "68/68 [==============================] - 0s 3ms/step - loss: 1.1782 - accuracy: 0.5296 - val_loss: 1.2114 - val_accuracy: 0.5241\n",
      "Epoch 9/10\n",
      "68/68 [==============================] - 0s 3ms/step - loss: 1.1589 - accuracy: 0.5366 - val_loss: 1.1947 - val_accuracy: 0.5296\n",
      "Epoch 10/10\n",
      "68/68 [==============================] - 0s 3ms/step - loss: 1.1416 - accuracy: 0.5435 - val_loss: 1.1803 - val_accuracy: 0.5370\n"
     ]
    },
    {
     "data": {
      "text/plain": [
       "<tensorflow.python.keras.callbacks.History at 0x1c1137f9688>"
      ]
     },
     "execution_count": 196,
     "metadata": {},
     "output_type": "execute_result"
    }
   ],
   "source": [
    "cnn_model.fit(x_train_telugu_artist, y_train_le, epochs = 10, batch_size = 32, validation_data=(x_test_telugu_artist, y_test_le))"
   ]
  },
  {
   "cell_type": "code",
   "execution_count": null,
   "metadata": {},
   "outputs": [],
   "source": []
  },
  {
   "cell_type": "markdown",
   "metadata": {},
   "source": [
    "# Hindi Artist"
   ]
  },
  {
   "cell_type": "code",
   "execution_count": 197,
   "metadata": {},
   "outputs": [],
   "source": [
    "cnn_model = Sequential([Dense(81, input_dim = np.shape(x_train_hindi_artist)[1]),\n",
    "                        Activation('relu'),\n",
    "                        Dense(3),\n",
    "                        Activation('softmax')])"
   ]
  },
  {
   "cell_type": "code",
   "execution_count": 198,
   "metadata": {},
   "outputs": [
    {
     "name": "stdout",
     "output_type": "stream",
     "text": [
      "Model: \"sequential_24\"\n",
      "_________________________________________________________________\n",
      "Layer (type)                 Output Shape              Param #   \n",
      "=================================================================\n",
      "dense_48 (Dense)             (None, 81)                6561      \n",
      "_________________________________________________________________\n",
      "activation_48 (Activation)   (None, 81)                0         \n",
      "_________________________________________________________________\n",
      "dense_49 (Dense)             (None, 3)                 246       \n",
      "_________________________________________________________________\n",
      "activation_49 (Activation)   (None, 3)                 0         \n",
      "=================================================================\n",
      "Total params: 6,807\n",
      "Trainable params: 6,807\n",
      "Non-trainable params: 0\n",
      "_________________________________________________________________\n",
      "None\n"
     ]
    }
   ],
   "source": [
    "cnn_model.compile(optimizer = 'adagrad',\n",
    "                  loss = 'categorical_crossentropy',\n",
    "                  metrics = ['accuracy'])\n",
    "# cnn_model.compile(optimizer = 'adam')\n",
    "\n",
    "\n",
    "print(cnn_model.summary())"
   ]
  },
  {
   "cell_type": "code",
   "execution_count": 199,
   "metadata": {},
   "outputs": [],
   "source": [
    "le = LabelEncoder()\n",
    "\n",
    "# y_train_le = le.fit_transform(y_train_hindi_genre.values.reshape(-1,1))\n",
    "y_train_le = le.fit_transform(y_train_hindi_artist)\n",
    "y_train_le = to_categorical(y_train_le)\n",
    "\n",
    "y_test_le = le.fit_transform(y_test_hindi_artist)\n",
    "y_test_le = to_categorical(y_test_le)"
   ]
  },
  {
   "cell_type": "code",
   "execution_count": 200,
   "metadata": {},
   "outputs": [
    {
     "name": "stdout",
     "output_type": "stream",
     "text": [
      "Epoch 1/10\n",
      "89/89 [==============================] - 0s 4ms/step - loss: 1.2026 - accuracy: 0.4274 - val_loss: 1.0776 - val_accuracy: 0.5063\n",
      "Epoch 2/10\n",
      "89/89 [==============================] - 0s 3ms/step - loss: 1.0277 - accuracy: 0.5259 - val_loss: 0.9914 - val_accuracy: 0.5443\n",
      "Epoch 3/10\n",
      "89/89 [==============================] - 0s 3ms/step - loss: 0.9556 - accuracy: 0.5765 - val_loss: 0.9411 - val_accuracy: 0.5795\n",
      "Epoch 4/10\n",
      "89/89 [==============================] - 0s 3ms/step - loss: 0.9092 - accuracy: 0.6029 - val_loss: 0.9056 - val_accuracy: 0.6020\n",
      "Epoch 5/10\n",
      "89/89 [==============================] - 0s 3ms/step - loss: 0.8750 - accuracy: 0.6293 - val_loss: 0.8786 - val_accuracy: 0.6245\n",
      "Epoch 6/10\n",
      "89/89 [==============================] - 0s 3ms/step - loss: 0.8481 - accuracy: 0.6437 - val_loss: 0.8567 - val_accuracy: 0.6442\n",
      "Epoch 7/10\n",
      "89/89 [==============================] - 0s 3ms/step - loss: 0.8261 - accuracy: 0.6581 - val_loss: 0.8385 - val_accuracy: 0.6540\n",
      "Epoch 8/10\n",
      "89/89 [==============================] - 0s 3ms/step - loss: 0.8075 - accuracy: 0.6732 - val_loss: 0.8228 - val_accuracy: 0.6624\n",
      "Epoch 9/10\n",
      "89/89 [==============================] - 0s 3ms/step - loss: 0.7915 - accuracy: 0.6834 - val_loss: 0.8092 - val_accuracy: 0.6653\n",
      "Epoch 10/10\n",
      "89/89 [==============================] - 0s 3ms/step - loss: 0.7774 - accuracy: 0.6880 - val_loss: 0.7972 - val_accuracy: 0.6737\n"
     ]
    },
    {
     "data": {
      "text/plain": [
       "<tensorflow.python.keras.callbacks.History at 0x1c113482988>"
      ]
     },
     "execution_count": 200,
     "metadata": {},
     "output_type": "execute_result"
    }
   ],
   "source": [
    "cnn_model.fit(x_train_hindi_artist, y_train_le, epochs = 10, batch_size = 32, validation_data=(x_test_hindi_artist, y_test_le))"
   ]
  },
  {
   "cell_type": "markdown",
   "metadata": {},
   "source": []
  },
  {
   "cell_type": "markdown",
   "metadata": {},
   "source": [
    "# Overall Artists"
   ]
  },
  {
   "cell_type": "code",
   "execution_count": 201,
   "metadata": {},
   "outputs": [],
   "source": [
    "cnn_model = Sequential([Dense(81, input_dim = np.shape(x_train_all_artists)[1]),\n",
    "                        Activation('relu'),\n",
    "                        Dense(12),\n",
    "                        Activation('softmax')])"
   ]
  },
  {
   "cell_type": "code",
   "execution_count": 202,
   "metadata": {},
   "outputs": [
    {
     "name": "stdout",
     "output_type": "stream",
     "text": [
      "Model: \"sequential_25\"\n",
      "_________________________________________________________________\n",
      "Layer (type)                 Output Shape              Param #   \n",
      "=================================================================\n",
      "dense_50 (Dense)             (None, 81)                6561      \n",
      "_________________________________________________________________\n",
      "activation_50 (Activation)   (None, 81)                0         \n",
      "_________________________________________________________________\n",
      "dense_51 (Dense)             (None, 12)                984       \n",
      "_________________________________________________________________\n",
      "activation_51 (Activation)   (None, 12)                0         \n",
      "=================================================================\n",
      "Total params: 7,545\n",
      "Trainable params: 7,545\n",
      "Non-trainable params: 0\n",
      "_________________________________________________________________\n",
      "None\n"
     ]
    }
   ],
   "source": [
    "cnn_model.compile(optimizer = 'adagrad',\n",
    "                  loss = 'categorical_crossentropy',\n",
    "                  metrics = ['accuracy'])\n",
    "# cnn_model.compile(optimizer = 'adam')\n",
    "\n",
    "\n",
    "print(cnn_model.summary())"
   ]
  },
  {
   "cell_type": "code",
   "execution_count": 203,
   "metadata": {},
   "outputs": [],
   "source": [
    "le = LabelEncoder()\n",
    "\n",
    "# y_train_le = le.fit_transform(y_train_hindi_genre.values.reshape(-1,1))\n",
    "y_train_le = le.fit_transform(y_train_all_artists)\n",
    "y_train_le = to_categorical(y_train_le)\n",
    "\n",
    "y_test_le = le.fit_transform(y_test_all_artists)\n",
    "y_test_le = to_categorical(y_test_le)"
   ]
  },
  {
   "cell_type": "code",
   "execution_count": 204,
   "metadata": {},
   "outputs": [
    {
     "name": "stdout",
     "output_type": "stream",
     "text": [
      "Epoch 1/10\n",
      "328/328 [==============================] - 1s 3ms/step - loss: 2.6486 - accuracy: 0.1219 - val_loss: 2.5103 - val_accuracy: 0.1665\n",
      "Epoch 2/10\n",
      "328/328 [==============================] - 1s 2ms/step - loss: 2.4116 - accuracy: 0.1880 - val_loss: 2.3787 - val_accuracy: 0.2119\n",
      "Epoch 3/10\n",
      "328/328 [==============================] - 1s 2ms/step - loss: 2.3041 - accuracy: 0.2283 - val_loss: 2.2957 - val_accuracy: 0.2405\n",
      "Epoch 4/10\n",
      "328/328 [==============================] - 1s 2ms/step - loss: 2.2299 - accuracy: 0.2581 - val_loss: 2.2341 - val_accuracy: 0.2675\n",
      "Epoch 5/10\n",
      "328/328 [==============================] - 1s 2ms/step - loss: 2.1725 - accuracy: 0.2820 - val_loss: 2.1848 - val_accuracy: 0.2854\n",
      "Epoch 6/10\n",
      "328/328 [==============================] - 1s 2ms/step - loss: 2.1255 - accuracy: 0.3026 - val_loss: 2.1435 - val_accuracy: 0.2988\n",
      "Epoch 7/10\n",
      "328/328 [==============================] - 1s 2ms/step - loss: 2.0855 - accuracy: 0.3186 - val_loss: 2.1079 - val_accuracy: 0.3117\n",
      "Epoch 8/10\n",
      "328/328 [==============================] - 1s 2ms/step - loss: 2.0507 - accuracy: 0.3339 - val_loss: 2.0767 - val_accuracy: 0.3247\n",
      "Epoch 9/10\n",
      "328/328 [==============================] - 1s 2ms/step - loss: 2.0198 - accuracy: 0.3469 - val_loss: 2.0487 - val_accuracy: 0.3342\n",
      "Epoch 10/10\n",
      "328/328 [==============================] - 1s 3ms/step - loss: 1.9919 - accuracy: 0.3594 - val_loss: 2.0236 - val_accuracy: 0.3457\n"
     ]
    },
    {
     "data": {
      "text/plain": [
       "<tensorflow.python.keras.callbacks.History at 0x1c1131fbcc8>"
      ]
     },
     "execution_count": 204,
     "metadata": {},
     "output_type": "execute_result"
    }
   ],
   "source": [
    "cnn_model.fit(x_train_all_artists, y_train_le, epochs = 10, batch_size = 32, validation_data=(x_test_all_artists, y_test_le))"
   ]
  },
  {
   "cell_type": "markdown",
   "metadata": {},
   "source": [
    "# English Genre"
   ]
  },
  {
   "cell_type": "code",
   "execution_count": 205,
   "metadata": {},
   "outputs": [],
   "source": [
    "cnn_model = Sequential([Dense(91, input_dim = np.shape(x_train_english_genre)[1]),\n",
    "                        Activation('relu'),\n",
    "                        Dense(4),\n",
    "                        Activation('softmax')])"
   ]
  },
  {
   "cell_type": "code",
   "execution_count": 206,
   "metadata": {},
   "outputs": [
    {
     "name": "stdout",
     "output_type": "stream",
     "text": [
      "Model: \"sequential_26\"\n",
      "_________________________________________________________________\n",
      "Layer (type)                 Output Shape              Param #   \n",
      "=================================================================\n",
      "dense_52 (Dense)             (None, 91)                8281      \n",
      "_________________________________________________________________\n",
      "activation_52 (Activation)   (None, 91)                0         \n",
      "_________________________________________________________________\n",
      "dense_53 (Dense)             (None, 4)                 368       \n",
      "_________________________________________________________________\n",
      "activation_53 (Activation)   (None, 4)                 0         \n",
      "=================================================================\n",
      "Total params: 8,649\n",
      "Trainable params: 8,649\n",
      "Non-trainable params: 0\n",
      "_________________________________________________________________\n",
      "None\n"
     ]
    }
   ],
   "source": [
    "cnn_model.compile(optimizer = 'adagrad',\n",
    "                  loss = 'categorical_crossentropy',\n",
    "                  metrics = ['accuracy'])\n",
    "# cnn_model.compile(optimizer = 'adam')\n",
    "\n",
    "\n",
    "print(cnn_model.summary())"
   ]
  },
  {
   "cell_type": "code",
   "execution_count": 207,
   "metadata": {},
   "outputs": [],
   "source": [
    "le = LabelEncoder()\n",
    "\n",
    "# y_train_le = le.fit_transform(y_train_hindi_genre.values.reshape(-1,1))\n",
    "y_train_le = le.fit_transform(y_train_english_genre)\n",
    "y_train_le = to_categorical(y_train_le)\n",
    "\n",
    "y_test_le = le.fit_transform(y_test_english_genre)\n",
    "y_test_le = to_categorical(y_test_le)"
   ]
  },
  {
   "cell_type": "code",
   "execution_count": 208,
   "metadata": {},
   "outputs": [
    {
     "name": "stdout",
     "output_type": "stream",
     "text": [
      "Epoch 1/10\n",
      "99/99 [==============================] - 0s 4ms/step - loss: 1.4354 - accuracy: 0.3847 - val_loss: 1.2723 - val_accuracy: 0.4525\n",
      "Epoch 2/10\n",
      "99/99 [==============================] - 0s 3ms/step - loss: 1.2157 - accuracy: 0.4805 - val_loss: 1.1602 - val_accuracy: 0.5196\n",
      "Epoch 3/10\n",
      "99/99 [==============================] - 0s 3ms/step - loss: 1.1173 - accuracy: 0.5452 - val_loss: 1.0913 - val_accuracy: 0.5412\n",
      "Epoch 4/10\n",
      "99/99 [==============================] - 0s 3ms/step - loss: 1.0519 - accuracy: 0.5829 - val_loss: 1.0420 - val_accuracy: 0.5716\n",
      "Epoch 5/10\n",
      "99/99 [==============================] - 0s 3ms/step - loss: 1.0032 - accuracy: 0.6080 - val_loss: 1.0038 - val_accuracy: 0.5932\n",
      "Epoch 6/10\n",
      "99/99 [==============================] - 0s 3ms/step - loss: 0.9645 - accuracy: 0.6254 - val_loss: 0.9730 - val_accuracy: 0.6185\n",
      "Epoch 7/10\n",
      "99/99 [==============================] - 0s 3ms/step - loss: 0.9325 - accuracy: 0.6445 - val_loss: 0.9470 - val_accuracy: 0.6350\n",
      "Epoch 8/10\n",
      "99/99 [==============================] - 0s 3ms/step - loss: 0.9054 - accuracy: 0.6575 - val_loss: 0.9248 - val_accuracy: 0.6439\n",
      "Epoch 9/10\n",
      "99/99 [==============================] - 0s 3ms/step - loss: 0.8819 - accuracy: 0.6705 - val_loss: 0.9053 - val_accuracy: 0.6515\n",
      "Epoch 10/10\n",
      "99/99 [==============================] - 0s 3ms/step - loss: 0.8611 - accuracy: 0.6841 - val_loss: 0.8881 - val_accuracy: 0.6603\n"
     ]
    },
    {
     "data": {
      "text/plain": [
       "<tensorflow.python.keras.callbacks.History at 0x1c11508c2c8>"
      ]
     },
     "execution_count": 208,
     "metadata": {},
     "output_type": "execute_result"
    }
   ],
   "source": [
    "cnn_model.fit(x_train_english_genre, y_train_le, epochs = 10, batch_size = 32, validation_data=(x_test_english_genre, y_test_le))"
   ]
  },
  {
   "cell_type": "code",
   "execution_count": null,
   "metadata": {},
   "outputs": [],
   "source": []
  },
  {
   "cell_type": "markdown",
   "metadata": {},
   "source": [
    "# Telugu Genre"
   ]
  },
  {
   "cell_type": "code",
   "execution_count": 209,
   "metadata": {},
   "outputs": [],
   "source": [
    "cnn_model = Sequential([Dense(91, input_dim = np.shape(x_train_telugu_genre)[1]),\n",
    "                        Activation('relu'),\n",
    "                        Dense(3),\n",
    "                        Activation('softmax')])"
   ]
  },
  {
   "cell_type": "code",
   "execution_count": 210,
   "metadata": {},
   "outputs": [
    {
     "name": "stdout",
     "output_type": "stream",
     "text": [
      "Model: \"sequential_27\"\n",
      "_________________________________________________________________\n",
      "Layer (type)                 Output Shape              Param #   \n",
      "=================================================================\n",
      "dense_54 (Dense)             (None, 91)                8281      \n",
      "_________________________________________________________________\n",
      "activation_54 (Activation)   (None, 91)                0         \n",
      "_________________________________________________________________\n",
      "dense_55 (Dense)             (None, 3)                 276       \n",
      "_________________________________________________________________\n",
      "activation_55 (Activation)   (None, 3)                 0         \n",
      "=================================================================\n",
      "Total params: 8,557\n",
      "Trainable params: 8,557\n",
      "Non-trainable params: 0\n",
      "_________________________________________________________________\n",
      "None\n"
     ]
    }
   ],
   "source": [
    "cnn_model.compile(optimizer = 'adagrad',\n",
    "                  loss = 'categorical_crossentropy',\n",
    "                  metrics = ['accuracy'])\n",
    "# cnn_model.compile(optimizer = 'adam')\n",
    "\n",
    "\n",
    "print(cnn_model.summary())"
   ]
  },
  {
   "cell_type": "code",
   "execution_count": 211,
   "metadata": {},
   "outputs": [],
   "source": [
    "le = LabelEncoder()\n",
    "\n",
    "# y_train_le = le.fit_transform(y_train_hindi_genre.values.reshape(-1,1))\n",
    "y_train_le = le.fit_transform(y_train_telugu_genre)\n",
    "y_train_le = to_categorical(y_train_le)\n",
    "\n",
    "y_test_le = le.fit_transform(y_test_telugu_genre)\n",
    "y_test_le = to_categorical(y_test_le)"
   ]
  },
  {
   "cell_type": "code",
   "execution_count": 212,
   "metadata": {},
   "outputs": [
    {
     "name": "stdout",
     "output_type": "stream",
     "text": [
      "Epoch 1/10\n",
      "77/77 [==============================] - 0s 4ms/step - loss: 1.0650 - accuracy: 0.4686 - val_loss: 0.9651 - val_accuracy: 0.5353\n",
      "Epoch 2/10\n",
      "77/77 [==============================] - 0s 3ms/step - loss: 0.9276 - accuracy: 0.5708 - val_loss: 0.8970 - val_accuracy: 0.5911\n",
      "Epoch 3/10\n",
      "77/77 [==============================] - 0s 3ms/step - loss: 0.8712 - accuracy: 0.6185 - val_loss: 0.8567 - val_accuracy: 0.6174\n",
      "Epoch 4/10\n",
      "77/77 [==============================] - 0s 3ms/step - loss: 0.8340 - accuracy: 0.6534 - val_loss: 0.8290 - val_accuracy: 0.6453\n",
      "Epoch 5/10\n",
      "77/77 [==============================] - 0s 3ms/step - loss: 0.8066 - accuracy: 0.6727 - val_loss: 0.8078 - val_accuracy: 0.6634\n",
      "Epoch 6/10\n",
      "77/77 [==============================] - 0s 3ms/step - loss: 0.7850 - accuracy: 0.6805 - val_loss: 0.7910 - val_accuracy: 0.6765\n",
      "Epoch 7/10\n",
      "77/77 [==============================] - 0s 3ms/step - loss: 0.7674 - accuracy: 0.6920 - val_loss: 0.7769 - val_accuracy: 0.6782\n",
      "Epoch 8/10\n",
      "77/77 [==============================] - 0s 3ms/step - loss: 0.7525 - accuracy: 0.6977 - val_loss: 0.7646 - val_accuracy: 0.6847\n",
      "Epoch 9/10\n",
      "77/77 [==============================] - 0s 3ms/step - loss: 0.7395 - accuracy: 0.7018 - val_loss: 0.7540 - val_accuracy: 0.6814\n",
      "Epoch 10/10\n",
      "77/77 [==============================] - 0s 3ms/step - loss: 0.7279 - accuracy: 0.7055 - val_loss: 0.7445 - val_accuracy: 0.6897\n"
     ]
    },
    {
     "data": {
      "text/plain": [
       "<tensorflow.python.keras.callbacks.History at 0x1c11063d708>"
      ]
     },
     "execution_count": 212,
     "metadata": {},
     "output_type": "execute_result"
    }
   ],
   "source": [
    "cnn_model.fit(x_train_telugu_genre, y_train_le, epochs = 10, batch_size = 32, validation_data=(x_test_telugu_genre, y_test_le))"
   ]
  },
  {
   "cell_type": "code",
   "execution_count": null,
   "metadata": {},
   "outputs": [],
   "source": []
  },
  {
   "cell_type": "markdown",
   "metadata": {},
   "source": [
    "# Hindi Genre"
   ]
  },
  {
   "cell_type": "code",
   "execution_count": 213,
   "metadata": {},
   "outputs": [],
   "source": [
    "cnn_model = Sequential([Dense(91, input_dim = np.shape(x_train_hindi_genre)[1]),\n",
    "                        Activation('relu'),\n",
    "                        Dense(3),\n",
    "                        Activation('softmax')])"
   ]
  },
  {
   "cell_type": "code",
   "execution_count": 214,
   "metadata": {},
   "outputs": [
    {
     "name": "stdout",
     "output_type": "stream",
     "text": [
      "Model: \"sequential_28\"\n",
      "_________________________________________________________________\n",
      "Layer (type)                 Output Shape              Param #   \n",
      "=================================================================\n",
      "dense_56 (Dense)             (None, 91)                8281      \n",
      "_________________________________________________________________\n",
      "activation_56 (Activation)   (None, 91)                0         \n",
      "_________________________________________________________________\n",
      "dense_57 (Dense)             (None, 3)                 276       \n",
      "_________________________________________________________________\n",
      "activation_57 (Activation)   (None, 3)                 0         \n",
      "=================================================================\n",
      "Total params: 8,557\n",
      "Trainable params: 8,557\n",
      "Non-trainable params: 0\n",
      "_________________________________________________________________\n",
      "None\n"
     ]
    }
   ],
   "source": [
    "cnn_model.compile(optimizer = 'adagrad',\n",
    "                  loss = 'categorical_crossentropy',\n",
    "                  metrics = ['accuracy'])\n",
    "# cnn_model.compile(optimizer = 'adam')\n",
    "\n",
    "\n",
    "print(cnn_model.summary())"
   ]
  },
  {
   "cell_type": "code",
   "execution_count": 215,
   "metadata": {},
   "outputs": [],
   "source": [
    "le = LabelEncoder()\n",
    "\n",
    "# y_train_le = le.fit_transform(y_train_hindi_genre.values.reshape(-1,1))\n",
    "y_train_le = le.fit_transform(y_train_hindi_genre)\n",
    "y_train_le = to_categorical(y_train_le)\n",
    "\n",
    "y_test_le = le.fit_transform(y_test_hindi_genre)\n",
    "y_test_le = to_categorical(y_test_le)"
   ]
  },
  {
   "cell_type": "code",
   "execution_count": 216,
   "metadata": {},
   "outputs": [
    {
     "name": "stdout",
     "output_type": "stream",
     "text": [
      "Epoch 1/10\n",
      "67/67 [==============================] - 0s 4ms/step - loss: 1.0462 - accuracy: 0.4710 - val_loss: 0.9259 - val_accuracy: 0.5738\n",
      "Epoch 2/10\n",
      "67/67 [==============================] - 0s 3ms/step - loss: 0.8727 - accuracy: 0.6174 - val_loss: 0.8309 - val_accuracy: 0.6636\n",
      "Epoch 3/10\n",
      "67/67 [==============================] - 0s 3ms/step - loss: 0.7942 - accuracy: 0.6796 - val_loss: 0.7726 - val_accuracy: 0.6860\n",
      "Epoch 4/10\n",
      "67/67 [==============================] - 0s 3ms/step - loss: 0.7421 - accuracy: 0.7063 - val_loss: 0.7313 - val_accuracy: 0.7047\n",
      "Epoch 5/10\n",
      "67/67 [==============================] - 0s 3ms/step - loss: 0.7034 - accuracy: 0.7315 - val_loss: 0.6996 - val_accuracy: 0.7290\n",
      "Epoch 6/10\n",
      "67/67 [==============================] - 0s 3ms/step - loss: 0.6729 - accuracy: 0.7493 - val_loss: 0.6740 - val_accuracy: 0.7514\n",
      "Epoch 7/10\n",
      "67/67 [==============================] - 0s 3ms/step - loss: 0.6479 - accuracy: 0.7619 - val_loss: 0.6528 - val_accuracy: 0.7626\n",
      "Epoch 8/10\n",
      "67/67 [==============================] - 0s 3ms/step - loss: 0.6267 - accuracy: 0.7750 - val_loss: 0.6348 - val_accuracy: 0.7794\n",
      "Epoch 9/10\n",
      "67/67 [==============================] - 0s 3ms/step - loss: 0.6085 - accuracy: 0.7816 - val_loss: 0.6193 - val_accuracy: 0.7907\n",
      "Epoch 10/10\n",
      "67/67 [==============================] - 0s 3ms/step - loss: 0.5925 - accuracy: 0.7872 - val_loss: 0.6056 - val_accuracy: 0.8019\n"
     ]
    },
    {
     "data": {
      "text/plain": [
       "<tensorflow.python.keras.callbacks.History at 0x1c110a0ee88>"
      ]
     },
     "execution_count": 216,
     "metadata": {},
     "output_type": "execute_result"
    }
   ],
   "source": [
    "cnn_model.fit(x_train_hindi_genre, y_train_le, epochs = 10, batch_size = 32, validation_data=(x_test_hindi_genre, y_test_le))"
   ]
  },
  {
   "cell_type": "code",
   "execution_count": null,
   "metadata": {},
   "outputs": [],
   "source": []
  },
  {
   "cell_type": "markdown",
   "metadata": {},
   "source": [
    "# All Generes"
   ]
  },
  {
   "cell_type": "code",
   "execution_count": 217,
   "metadata": {},
   "outputs": [],
   "source": [
    "cnn_model = Sequential([Dense(91, input_dim = np.shape(x_train_all_genres)[1]),\n",
    "                        Activation('relu'),\n",
    "                        Dense(10),\n",
    "                        Activation('softmax')])"
   ]
  },
  {
   "cell_type": "code",
   "execution_count": 218,
   "metadata": {},
   "outputs": [
    {
     "name": "stdout",
     "output_type": "stream",
     "text": [
      "Model: \"sequential_29\"\n",
      "_________________________________________________________________\n",
      "Layer (type)                 Output Shape              Param #   \n",
      "=================================================================\n",
      "dense_58 (Dense)             (None, 91)                8281      \n",
      "_________________________________________________________________\n",
      "activation_58 (Activation)   (None, 91)                0         \n",
      "_________________________________________________________________\n",
      "dense_59 (Dense)             (None, 10)                920       \n",
      "_________________________________________________________________\n",
      "activation_59 (Activation)   (None, 10)                0         \n",
      "=================================================================\n",
      "Total params: 9,201\n",
      "Trainable params: 9,201\n",
      "Non-trainable params: 0\n",
      "_________________________________________________________________\n",
      "None\n"
     ]
    }
   ],
   "source": [
    "cnn_model.compile(optimizer = 'adagrad',\n",
    "                  loss = 'categorical_crossentropy',\n",
    "                  metrics = ['accuracy'])\n",
    "# cnn_model.compile(optimizer = 'adam')\n",
    "\n",
    "\n",
    "print(cnn_model.summary())"
   ]
  },
  {
   "cell_type": "code",
   "execution_count": 219,
   "metadata": {},
   "outputs": [],
   "source": [
    "le = LabelEncoder()\n",
    "\n",
    "# y_train_le = le.fit_transform(y_train_hindi_genre.values.reshape(-1,1))\n",
    "y_train_le = le.fit_transform(y_train_all_genres)\n",
    "y_train_le = to_categorical(y_train_le)\n",
    "\n",
    "y_test_le = le.fit_transform(y_test_all_genres)\n",
    "y_test_le = to_categorical(y_test_le)"
   ]
  },
  {
   "cell_type": "code",
   "execution_count": 220,
   "metadata": {},
   "outputs": [
    {
     "name": "stdout",
     "output_type": "stream",
     "text": [
      "Epoch 1/10\n",
      "242/242 [==============================] - 1s 3ms/step - loss: 2.3867 - accuracy: 0.1918 - val_loss: 2.2527 - val_accuracy: 0.2024\n",
      "Epoch 2/10\n",
      "242/242 [==============================] - 1s 2ms/step - loss: 2.1820 - accuracy: 0.2372 - val_loss: 2.1327 - val_accuracy: 0.2464\n",
      "Epoch 3/10\n",
      "242/242 [==============================] - 1s 2ms/step - loss: 2.0860 - accuracy: 0.2715 - val_loss: 2.0566 - val_accuracy: 0.2702\n",
      "Epoch 4/10\n",
      "242/242 [==============================] - 1s 2ms/step - loss: 2.0196 - accuracy: 0.2978 - val_loss: 2.0005 - val_accuracy: 0.2987\n",
      "Epoch 5/10\n",
      "242/242 [==============================] - 1s 2ms/step - loss: 1.9684 - accuracy: 0.3232 - val_loss: 1.9560 - val_accuracy: 0.3173\n",
      "Epoch 6/10\n",
      "242/242 [==============================] - 1s 3ms/step - loss: 1.9268 - accuracy: 0.3400 - val_loss: 1.9192 - val_accuracy: 0.3395\n",
      "Epoch 7/10\n",
      "242/242 [==============================] - 1s 3ms/step - loss: 1.8916 - accuracy: 0.3546 - val_loss: 1.8878 - val_accuracy: 0.3499\n",
      "Epoch 8/10\n",
      "242/242 [==============================] - 1s 3ms/step - loss: 1.8612 - accuracy: 0.3675 - val_loss: 1.8605 - val_accuracy: 0.3613\n",
      "Epoch 9/10\n",
      "242/242 [==============================] - 1s 3ms/step - loss: 1.8344 - accuracy: 0.3805 - val_loss: 1.8364 - val_accuracy: 0.3680\n",
      "Epoch 10/10\n",
      "242/242 [==============================] - 1s 3ms/step - loss: 1.8105 - accuracy: 0.3908 - val_loss: 1.8148 - val_accuracy: 0.3794\n"
     ]
    },
    {
     "data": {
      "text/plain": [
       "<tensorflow.python.keras.callbacks.History at 0x1c113627288>"
      ]
     },
     "execution_count": 220,
     "metadata": {},
     "output_type": "execute_result"
    }
   ],
   "source": [
    "cnn_model.fit(x_train_all_genres, y_train_le, epochs = 10, batch_size = 32, validation_data=(x_test_all_genres, y_test_le))"
   ]
  },
  {
   "cell_type": "code",
   "execution_count": null,
   "metadata": {},
   "outputs": [],
   "source": []
  }
 ],
 "metadata": {
  "kernelspec": {
   "display_name": "Python 3",
   "language": "python",
   "name": "python3"
  },
  "language_info": {
   "codemirror_mode": {
    "name": "ipython",
    "version": 3
   },
   "file_extension": ".py",
   "mimetype": "text/x-python",
   "name": "python",
   "nbconvert_exporter": "python",
   "pygments_lexer": "ipython3",
   "version": "3.7.6"
  }
 },
 "nbformat": 4,
 "nbformat_minor": 4
}
